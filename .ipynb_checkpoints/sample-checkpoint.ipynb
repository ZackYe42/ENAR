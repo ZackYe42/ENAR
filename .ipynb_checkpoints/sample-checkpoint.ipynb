{
 "cells": [
  {
   "cell_type": "code",
   "execution_count": null,
   "id": "1dcccfba-ba0d-41a7-b39f-112c49040d2b",
   "metadata": {},
   "outputs": [],
   "source": [
    "#Filter the BMI<25"
   ]
  },
  {
   "cell_type": "code",
   "execution_count": null,
   "id": "e03696e2-3710-4b11-bae2-13e32a69a666",
   "metadata": {},
   "outputs": [],
   "source": [
    "df1 <- merge_df_cln %>% \n",
    "  filter(cc_bmi == \"<25\") %>% \n",
    "  select(\"bp_sys_mean\",\"DRXTPROT\", \"DRXTCARB\", \"DRXTTFAT\", \"DRXTSFAT\", \"DRXTMFAT\", \"DRXTPFAT\", \"DRXTCHOL\", \"DRXTFIBE\", \n",
    "\"DRXTVB6\", \"DRXTVB12\", \"DRXTFOLA\", \"DRXTVC\", \"DRXTCALC\", \"DRXTPHOS\", \"DRXTMAGN\", \"DRXTIRON\", \n",
    "\"DRXTZINC\", \"DRXTCOPP\", \"DRDTSODI\", \"DRXTPOTA\", \"DRXTSELE\", \"DRXTCAFF\", \"DRXTTHEO\", \"DRXTALCO\", \n",
    " \"DRXTS040\", \"DRXTS060\", \"DRXTS080\", \"DRXTS100\", \"DRXTS120\", \"DRXTS140\", \"DRXTS160\", \n",
    "\"DRXTS180\", \"DRXTM161\", \"DRXTM181\", \"DRXTM201\", \"DRXTM221\", \"DRXTP182\", \"DRXTP183\", \"DRXTP184\", \n",
    "\"DRXTP204\", \"DRXTP205\", \"DRXTP225\", \"DRXTP226\", \"DRD320GW\"\n",
    ") \n",
    "print(df1)"
   ]
  },
  {
   "cell_type": "code",
   "execution_count": null,
   "id": "31245670-8874-4fea-b84e-343d9bb123c9",
   "metadata": {},
   "outputs": [],
   "source": [
    "# Calculate the R_squred"
   ]
  },
  {
   "cell_type": "code",
   "execution_count": null,
   "id": "4d74a530-86b9-42f3-80da-dc612fff9168",
   "metadata": {},
   "outputs": [],
   "source": [
    "options(scipen = 999)\n",
    "cordf1 <- data.frame(Variable = setdiff(names(df1), \"bp_sys_mean\"))\n",
    "cordf1$r_squared <- sapply(cordf1$Variable,\n",
    "                          function(var) \n",
    "\n",
    "cor(df1[[var]],df1$bp_sys_mean)^2)\n",
    "\n",
    "cordf1 <- cordf1[order(-cordf1$r_squared), ]\n",
    "\n",
    "print(cordf1)"
   ]
  },
  {
   "cell_type": "code",
   "execution_count": null,
   "id": "2244caff-d0ca-4218-add1-f06411af2b69",
   "metadata": {},
   "outputs": [],
   "source": [
    "# Use forward selection method"
   ]
  },
  {
   "cell_type": "code",
   "execution_count": null,
   "id": "3c913443-f19a-4ea9-9e1e-d3284dffb088",
   "metadata": {},
   "outputs": [],
   "source": [
    "fit_model_df1 <- function(response, predictors, data) {\n",
    "  models <- list()\n",
    "  formula_str <- response \n",
    "  for (i in seq_along(predictors)) {\n",
    "    formula_str <- paste(formula_str, \"+\", predictors[i]) \n",
    "    models[[i]] <- lm(as.formula(paste(\"bp_sys_mean ~\", paste(predictors[1:i], collapse = \" + \"))), data = data)\n",
    "  }\n",
    "  \n",
    "  return(models)\n",
    "}\n",
    "sort_vars <- cordf1$Variable\n",
    "df1_models <- fit_model_df1(response = \"bp_sys_mean\", predictors = sort_vars, data = df1)\n"
   ]
  },
  {
   "cell_type": "code",
   "execution_count": null,
   "id": "08a74465-d9fa-462e-8d9a-a0e8de9ad1de",
   "metadata": {},
   "outputs": [],
   "source": [
    "# Use AIC to select the model"
   ]
  },
  {
   "cell_type": "code",
   "execution_count": null,
   "id": "da113696-2b65-492b-9c41-68ecf02df502",
   "metadata": {},
   "outputs": [],
   "source": [
    "df1_models_aic <- sapply(df1_models, AIC)\n",
    "model_nums <- seq_along(df1_models_aic)\n",
    "\n",
    "plot(model_nums, df1_models_aic, pch = 19, col = \"lightblue\",\n",
    "     xlab = \"Model Number (Increasing Predictors)\", \n",
    "     ylab = \"AIC Value\",\n",
    "     main = \"AIC Trend Across Models\")"
   ]
  },
  {
   "cell_type": "code",
   "execution_count": null,
   "id": "dedb0607-1db6-4cc7-a60f-3491807b966f",
   "metadata": {},
   "outputs": [],
   "source": [
    "# Stepwise Model "
   ]
  },
  {
   "cell_type": "code",
   "execution_count": null,
   "id": "641ed131-f7ed-45ed-bf97-2abecb563eef",
   "metadata": {},
   "outputs": [],
   "source": [
    "library(MASS)\n",
    "full_model <- lm(bp_sys_mean ~ ., data = df1)\n",
    "best_model <- stepAIC(full_model, direction = \"both\", trace = FALSE)  "
   ]
  }
 ],
 "metadata": {
  "kernelspec": {
   "display_name": "R",
   "language": "R",
   "name": "ir"
  },
  "language_info": {
   "codemirror_mode": "r",
   "file_extension": ".r",
   "mimetype": "text/x-r-source",
   "name": "R",
   "pygments_lexer": "r",
   "version": "4.4.2"
  }
 },
 "nbformat": 4,
 "nbformat_minor": 5
}
