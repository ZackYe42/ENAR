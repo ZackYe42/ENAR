{
 "cells": [
  {
   "cell_type": "code",
   "execution_count": 129,
   "id": "35f0b0fb-876b-405c-91ef-ed7c3115fd68",
   "metadata": {},
   "outputs": [
    {
     "data": {
      "text/html": [
       "<ol>\n",
       "\t<li><style>\n",
       ".list-inline {list-style: none; margin:0; padding: 0}\n",
       ".list-inline>li {display: inline-block}\n",
       ".list-inline>li:not(:last-child)::after {content: \"\\00b7\"; padding: 0 .5ex}\n",
       "</style>\n",
       "<ol class=list-inline><li>'ggplot2'</li><li>'haven'</li><li>'dplyr'</li><li>'stats'</li><li>'graphics'</li><li>'grDevices'</li><li>'utils'</li><li>'datasets'</li><li>'methods'</li><li>'base'</li></ol>\n",
       "</li>\n",
       "\t<li><style>\n",
       ".list-inline {list-style: none; margin:0; padding: 0}\n",
       ".list-inline>li {display: inline-block}\n",
       ".list-inline>li:not(:last-child)::after {content: \"\\00b7\"; padding: 0 .5ex}\n",
       "</style>\n",
       "<ol class=list-inline><li>'ggplot2'</li><li>'haven'</li><li>'dplyr'</li><li>'stats'</li><li>'graphics'</li><li>'grDevices'</li><li>'utils'</li><li>'datasets'</li><li>'methods'</li><li>'base'</li></ol>\n",
       "</li>\n",
       "\t<li><style>\n",
       ".list-inline {list-style: none; margin:0; padding: 0}\n",
       ".list-inline>li {display: inline-block}\n",
       ".list-inline>li:not(:last-child)::after {content: \"\\00b7\"; padding: 0 .5ex}\n",
       "</style>\n",
       "<ol class=list-inline><li>'ggplot2'</li><li>'haven'</li><li>'dplyr'</li><li>'stats'</li><li>'graphics'</li><li>'grDevices'</li><li>'utils'</li><li>'datasets'</li><li>'methods'</li><li>'base'</li></ol>\n",
       "</li>\n",
       "</ol>\n"
      ],
      "text/latex": [
       "\\begin{enumerate}\n",
       "\\item \\begin{enumerate*}\n",
       "\\item 'ggplot2'\n",
       "\\item 'haven'\n",
       "\\item 'dplyr'\n",
       "\\item 'stats'\n",
       "\\item 'graphics'\n",
       "\\item 'grDevices'\n",
       "\\item 'utils'\n",
       "\\item 'datasets'\n",
       "\\item 'methods'\n",
       "\\item 'base'\n",
       "\\end{enumerate*}\n",
       "\n",
       "\\item \\begin{enumerate*}\n",
       "\\item 'ggplot2'\n",
       "\\item 'haven'\n",
       "\\item 'dplyr'\n",
       "\\item 'stats'\n",
       "\\item 'graphics'\n",
       "\\item 'grDevices'\n",
       "\\item 'utils'\n",
       "\\item 'datasets'\n",
       "\\item 'methods'\n",
       "\\item 'base'\n",
       "\\end{enumerate*}\n",
       "\n",
       "\\item \\begin{enumerate*}\n",
       "\\item 'ggplot2'\n",
       "\\item 'haven'\n",
       "\\item 'dplyr'\n",
       "\\item 'stats'\n",
       "\\item 'graphics'\n",
       "\\item 'grDevices'\n",
       "\\item 'utils'\n",
       "\\item 'datasets'\n",
       "\\item 'methods'\n",
       "\\item 'base'\n",
       "\\end{enumerate*}\n",
       "\n",
       "\\end{enumerate}\n"
      ],
      "text/markdown": [
       "1. 1. 'ggplot2'\n",
       "2. 'haven'\n",
       "3. 'dplyr'\n",
       "4. 'stats'\n",
       "5. 'graphics'\n",
       "6. 'grDevices'\n",
       "7. 'utils'\n",
       "8. 'datasets'\n",
       "9. 'methods'\n",
       "10. 'base'\n",
       "\n",
       "\n",
       "\n",
       "2. 1. 'ggplot2'\n",
       "2. 'haven'\n",
       "3. 'dplyr'\n",
       "4. 'stats'\n",
       "5. 'graphics'\n",
       "6. 'grDevices'\n",
       "7. 'utils'\n",
       "8. 'datasets'\n",
       "9. 'methods'\n",
       "10. 'base'\n",
       "\n",
       "\n",
       "\n",
       "3. 1. 'ggplot2'\n",
       "2. 'haven'\n",
       "3. 'dplyr'\n",
       "4. 'stats'\n",
       "5. 'graphics'\n",
       "6. 'grDevices'\n",
       "7. 'utils'\n",
       "8. 'datasets'\n",
       "9. 'methods'\n",
       "10. 'base'\n",
       "\n",
       "\n",
       "\n",
       "\n",
       "\n"
      ],
      "text/plain": [
       "[[1]]\n",
       " [1] \"ggplot2\"   \"haven\"     \"dplyr\"     \"stats\"     \"graphics\"  \"grDevices\"\n",
       " [7] \"utils\"     \"datasets\"  \"methods\"   \"base\"     \n",
       "\n",
       "[[2]]\n",
       " [1] \"ggplot2\"   \"haven\"     \"dplyr\"     \"stats\"     \"graphics\"  \"grDevices\"\n",
       " [7] \"utils\"     \"datasets\"  \"methods\"   \"base\"     \n",
       "\n",
       "[[3]]\n",
       " [1] \"ggplot2\"   \"haven\"     \"dplyr\"     \"stats\"     \"graphics\"  \"grDevices\"\n",
       " [7] \"utils\"     \"datasets\"  \"methods\"   \"base\"     \n"
      ]
     },
     "metadata": {},
     "output_type": "display_data"
    }
   ],
   "source": [
    "# Load Library\n",
    "\n",
    "packages <- c(\"dplyr\", \"haven\",\"ggplot2\")\n",
    "\n",
    "install_if_missing <- function(pkg) {\n",
    "  if (!requireNamespace(pkg, quietly = TRUE)) {\n",
    "    install.packages(pkg)\n",
    "  }\n",
    "  library(pkg, character.only = TRUE)\n",
    "}\n",
    "\n",
    "lapply(packages, install_if_missing)\n",
    "\n",
    "#test\n"
   ]
  },
  {
   "cell_type": "markdown",
   "id": "aba0cc89-3504-4879-a7ec-5db96c1235aa",
   "metadata": {},
   "source": [
    "# Read Data"
   ]
  },
  {
   "cell_type": "markdown",
   "id": "9d04f6a6-b399-428d-b1fe-147c39f2529e",
   "metadata": {},
   "source": [
    "## Helper Function"
   ]
  },
  {
   "cell_type": "code",
   "execution_count": 60,
   "id": "0ee1443a-7fcf-4632-abe5-029bfdcf5d81",
   "metadata": {},
   "outputs": [],
   "source": [
    "compare_variables <- function(ds1, ds2) {\n",
    "  vars_ds1 <- colnames(ds1)\n",
    "  vars_ds2 <- colnames(ds2)\n",
    "  \n",
    "  matched_vars <- intersect(vars_ds1, vars_ds2)\n",
    "  only_in_ds1 <- setdiff(vars_ds1, vars_ds2)\n",
    "  only_in_ds2 <- setdiff(vars_ds2, vars_ds1)\n",
    "\n",
    "  list(\n",
    "    matched = matched_vars,\n",
    "    only_in_ds1 = only_in_ds1,\n",
    "    only_in_ds2 = only_in_ds2\n",
    "  )\n",
    "}\n",
    "\n",
    "\n",
    "compare_variable_list <- function(dataset, var_list) {\n",
    "  dataset_vars <- colnames(dataset)\n",
    "  \n",
    "  matched_vars <- intersect(dataset_vars, var_list)\n",
    "  only_in_dataset <- setdiff(dataset_vars, var_list)\n",
    "  only_in_list <- setdiff(var_list, dataset_vars)\n",
    "  \n",
    "  return(list(\n",
    "    matched = matched_vars,\n",
    "    only_in_dataset = only_in_dataset,\n",
    "    only_in_list = only_in_list\n",
    "  ))\n",
    "}\n",
    "\n",
    "\n",
    "compare_list <- function(var_list1, var_list2) {\n",
    "  \n",
    "  matched_vars <- intersect(var_list1, var_list2)\n",
    "  only_in_list1 <- setdiff(var_list1, var_list2)\n",
    "  only_in_list2 <- setdiff(var_list2, var_list1)\n",
    "  \n",
    "  return(list(\n",
    "    matched = matched_vars,\n",
    "    only_in_list1 = only_in_list1,\n",
    "    only_in_list2 = only_in_list2\n",
    "  ))\n",
    "}\n"
   ]
  },
  {
   "cell_type": "markdown",
   "id": "a1b35ec9-c401-40be-a6f2-0d9a76ae47ed",
   "metadata": {},
   "source": [
    "## Selected Variables"
   ]
  },
  {
   "cell_type": "code",
   "execution_count": 130,
   "id": "a9c8ad87-f90b-4139-a879-bf99176132ae",
   "metadata": {},
   "outputs": [
    {
     "name": "stderr",
     "output_type": "stream",
     "text": [
      "Warning message in readLines(\"Data/var9902.txt\"):\n",
      "\"incomplete final line found on 'Data/var9902.txt'\"\n"
     ]
    },
    {
     "data": {
      "text/html": [
       "46"
      ],
      "text/latex": [
       "46"
      ],
      "text/markdown": [
       "46"
      ],
      "text/plain": [
       "[1] 46"
      ]
     },
     "metadata": {},
     "output_type": "display_data"
    },
    {
     "name": "stderr",
     "output_type": "stream",
     "text": [
      "Warning message in readLines(\"Data/var0304.txt\"):\n",
      "\"incomplete final line found on 'Data/var0304.txt'\"\n"
     ]
    },
    {
     "data": {
      "text/html": [
       "46"
      ],
      "text/latex": [
       "46"
      ],
      "text/markdown": [
       "46"
      ],
      "text/plain": [
       "[1] 46"
      ]
     },
     "metadata": {},
     "output_type": "display_data"
    },
    {
     "name": "stderr",
     "output_type": "stream",
     "text": [
      "Warning message in readLines(\"Data/var0520.txt\"):\n",
      "\"incomplete final line found on 'Data/var0520.txt'\"\n"
     ]
    },
    {
     "data": {
      "text/html": [
       "46"
      ],
      "text/latex": [
       "46"
      ],
      "text/markdown": [
       "46"
      ],
      "text/plain": [
       "[1] 46"
      ]
     },
     "metadata": {},
     "output_type": "display_data"
    },
    {
     "data": {
      "text/html": [
       "10"
      ],
      "text/latex": [
       "10"
      ],
      "text/markdown": [
       "10"
      ],
      "text/plain": [
       "[1] 10"
      ]
     },
     "metadata": {},
     "output_type": "display_data"
    }
   ],
   "source": [
    "var9902 <- readLines(\"Data/var9902.txt\") # Selected Variable for Diet\n",
    "length(var9902)\n",
    "var0304 <- readLines(\"Data/var0304.txt\") # Selected Variable for Diet\n",
    "length(var0304)\n",
    "var0520 <- readLines(\"Data/var0520.txt\") # Selected Variable for Diet\n",
    "length(var0520)\n",
    "\n",
    "var_nhanes <- readLines(\"Data/Nhanes_Variables.txt\") # Selected Variable for Nhanes\n",
    "length(var_nhanes)"
   ]
  },
  {
   "cell_type": "code",
   "execution_count": 123,
   "id": "5232dbc5-80ad-44b2-b622-baf60a48a023",
   "metadata": {},
   "outputs": [],
   "source": [
    "# compare_list(var9902, var0304)\n",
    "# compare_list(var0304, var0520)"
   ]
  },
  {
   "cell_type": "markdown",
   "id": "e036e124-448e-4951-b0a0-81985753729d",
   "metadata": {},
   "source": [
    "## Read Nhanes Data"
   ]
  },
  {
   "cell_type": "code",
   "execution_count": 124,
   "id": "4fdd189f-2d60-4bde-840b-70e3fcb70aaa",
   "metadata": {},
   "outputs": [
    {
     "data": {
      "text/html": [
       "<table class=\"dataframe\">\n",
       "<caption>A data.frame: 6 × 10</caption>\n",
       "<thead>\n",
       "\t<tr><th></th><th scope=col>svy_id</th><th scope=col>demo_age_cat</th><th scope=col>demo_race</th><th scope=col>demo_race_black</th><th scope=col>demo_age_years</th><th scope=col>demo_pregnant</th><th scope=col>demo_gender</th><th scope=col>bp_sys_mean</th><th scope=col>bp_dia_mean</th><th scope=col>cc_bmi</th></tr>\n",
       "\t<tr><th></th><th scope=col>&lt;int&gt;</th><th scope=col>&lt;chr&gt;</th><th scope=col>&lt;chr&gt;</th><th scope=col>&lt;chr&gt;</th><th scope=col>&lt;int&gt;</th><th scope=col>&lt;chr&gt;</th><th scope=col>&lt;chr&gt;</th><th scope=col>&lt;dbl&gt;</th><th scope=col>&lt;dbl&gt;</th><th scope=col>&lt;chr&gt;</th></tr>\n",
       "</thead>\n",
       "<tbody>\n",
       "\t<tr><th scope=row>1</th><td>12</td><td>18 to 44</td><td>Non-Hispanic White</td><td>No</td><td>37</td><td>No</td><td>Men</td><td>176.6667</td><td>102.00000</td><td>30 to &lt;35</td></tr>\n",
       "\t<tr><th scope=row>2</th><td>21</td><td>18 to 44</td><td>Hispanic          </td><td>No</td><td>18</td><td>No</td><td>Men</td><td>121.3333</td><td> 80.00000</td><td>35+      </td></tr>\n",
       "\t<tr><th scope=row>3</th><td>27</td><td>18 to 44</td><td><span style=white-space:pre-wrap>Hispanic          </span></td><td>No</td><td>18</td><td>No</td><td>Men</td><td>118.0000</td><td> 78.00000</td><td>25 to &lt;30</td></tr>\n",
       "\t<tr><th scope=row>4</th><td>28</td><td>18 to 44</td><td>Non-Hispanic White</td><td>No</td><td>18</td><td>No</td><td>Men</td><td> 94.0000</td><td> 42.66667</td><td><span style=white-space:pre-wrap>&lt;25      </span></td></tr>\n",
       "\t<tr><th scope=row>5</th><td>56</td><td>18 to 44</td><td>Non-Hispanic White</td><td>No</td><td>21</td><td>No</td><td>Men</td><td>121.0000</td><td> 65.00000</td><td><span style=white-space:pre-wrap>&lt;25      </span></td></tr>\n",
       "\t<tr><th scope=row>6</th><td>57</td><td>18 to 44</td><td>Non-Hispanic White</td><td>No</td><td>39</td><td>No</td><td>Men</td><td>119.3333</td><td> 85.33333</td><td>25 to &lt;30</td></tr>\n",
       "</tbody>\n",
       "</table>\n"
      ],
      "text/latex": [
       "A data.frame: 6 × 10\n",
       "\\begin{tabular}{r|llllllllll}\n",
       "  & svy\\_id & demo\\_age\\_cat & demo\\_race & demo\\_race\\_black & demo\\_age\\_years & demo\\_pregnant & demo\\_gender & bp\\_sys\\_mean & bp\\_dia\\_mean & cc\\_bmi\\\\\n",
       "  & <int> & <chr> & <chr> & <chr> & <int> & <chr> & <chr> & <dbl> & <dbl> & <chr>\\\\\n",
       "\\hline\n",
       "\t1 & 12 & 18 to 44 & Non-Hispanic White & No & 37 & No & Men & 176.6667 & 102.00000 & 30 to <35\\\\\n",
       "\t2 & 21 & 18 to 44 & Hispanic           & No & 18 & No & Men & 121.3333 &  80.00000 & 35+      \\\\\n",
       "\t3 & 27 & 18 to 44 & Hispanic           & No & 18 & No & Men & 118.0000 &  78.00000 & 25 to <30\\\\\n",
       "\t4 & 28 & 18 to 44 & Non-Hispanic White & No & 18 & No & Men &  94.0000 &  42.66667 & <25      \\\\\n",
       "\t5 & 56 & 18 to 44 & Non-Hispanic White & No & 21 & No & Men & 121.0000 &  65.00000 & <25      \\\\\n",
       "\t6 & 57 & 18 to 44 & Non-Hispanic White & No & 39 & No & Men & 119.3333 &  85.33333 & 25 to <30\\\\\n",
       "\\end{tabular}\n"
      ],
      "text/markdown": [
       "\n",
       "A data.frame: 6 × 10\n",
       "\n",
       "| <!--/--> | svy_id &lt;int&gt; | demo_age_cat &lt;chr&gt; | demo_race &lt;chr&gt; | demo_race_black &lt;chr&gt; | demo_age_years &lt;int&gt; | demo_pregnant &lt;chr&gt; | demo_gender &lt;chr&gt; | bp_sys_mean &lt;dbl&gt; | bp_dia_mean &lt;dbl&gt; | cc_bmi &lt;chr&gt; |\n",
       "|---|---|---|---|---|---|---|---|---|---|---|\n",
       "| 1 | 12 | 18 to 44 | Non-Hispanic White | No | 37 | No | Men | 176.6667 | 102.00000 | 30 to &lt;35 |\n",
       "| 2 | 21 | 18 to 44 | Hispanic           | No | 18 | No | Men | 121.3333 |  80.00000 | 35+       |\n",
       "| 3 | 27 | 18 to 44 | Hispanic           | No | 18 | No | Men | 118.0000 |  78.00000 | 25 to &lt;30 |\n",
       "| 4 | 28 | 18 to 44 | Non-Hispanic White | No | 18 | No | Men |  94.0000 |  42.66667 | &lt;25       |\n",
       "| 5 | 56 | 18 to 44 | Non-Hispanic White | No | 21 | No | Men | 121.0000 |  65.00000 | &lt;25       |\n",
       "| 6 | 57 | 18 to 44 | Non-Hispanic White | No | 39 | No | Men | 119.3333 |  85.33333 | 25 to &lt;30 |\n",
       "\n"
      ],
      "text/plain": [
       "  svy_id demo_age_cat demo_race          demo_race_black demo_age_years\n",
       "1 12     18 to 44     Non-Hispanic White No              37            \n",
       "2 21     18 to 44     Hispanic           No              18            \n",
       "3 27     18 to 44     Hispanic           No              18            \n",
       "4 28     18 to 44     Non-Hispanic White No              18            \n",
       "5 56     18 to 44     Non-Hispanic White No              21            \n",
       "6 57     18 to 44     Non-Hispanic White No              39            \n",
       "  demo_pregnant demo_gender bp_sys_mean bp_dia_mean cc_bmi   \n",
       "1 No            Men         176.6667    102.00000   30 to <35\n",
       "2 No            Men         121.3333     80.00000   35+      \n",
       "3 No            Men         118.0000     78.00000   25 to <30\n",
       "4 No            Men          94.0000     42.66667   <25      \n",
       "5 No            Men         121.0000     65.00000   <25      \n",
       "6 No            Men         119.3333     85.33333   25 to <30"
      ]
     },
     "metadata": {},
     "output_type": "display_data"
    }
   ],
   "source": [
    "nahnes <- read.csv(\"Data/nhanes_data.csv\") %>% \n",
    "    select(all_of(var_nhanes))\n",
    "head(nahnes)\n"
   ]
  },
  {
   "cell_type": "markdown",
   "id": "e453ac6d-53db-4a4f-bbb5-ab35509f8bdc",
   "metadata": {},
   "source": [
    "## Read DT1TOT Data"
   ]
  },
  {
   "cell_type": "code",
   "execution_count": 122,
   "id": "eab45b78-984d-42c9-ba8e-35eba3490b03",
   "metadata": {
    "scrolled": true
   },
   "outputs": [
    {
     "data": {
      "text/html": [
       "<table class=\"dataframe\">\n",
       "<caption>A tibble: 6 × 46</caption>\n",
       "<thead>\n",
       "\t<tr><th scope=col>SEQN</th><th scope=col>DRXTPROT</th><th scope=col>DRXTCARB</th><th scope=col>DRXTTFAT</th><th scope=col>DRXTSFAT</th><th scope=col>DRXTMFAT</th><th scope=col>DRXTPFAT</th><th scope=col>DRXTCHOL</th><th scope=col>DRXTFIBE</th><th scope=col>DRXTVB6</th><th scope=col>⋯</th><th scope=col>DRXTM201</th><th scope=col>DRXTM221</th><th scope=col>DRXTP182</th><th scope=col>DRXTP183</th><th scope=col>DRXTP184</th><th scope=col>DRXTP204</th><th scope=col>DRXTP205</th><th scope=col>DRXTP225</th><th scope=col>DRXTP226</th><th scope=col>DRD320GW</th></tr>\n",
       "\t<tr><th scope=col>&lt;dbl&gt;</th><th scope=col>&lt;dbl&gt;</th><th scope=col>&lt;dbl&gt;</th><th scope=col>&lt;dbl&gt;</th><th scope=col>&lt;dbl&gt;</th><th scope=col>&lt;dbl&gt;</th><th scope=col>&lt;dbl&gt;</th><th scope=col>&lt;dbl&gt;</th><th scope=col>&lt;dbl&gt;</th><th scope=col>&lt;dbl&gt;</th><th scope=col>⋯</th><th scope=col>&lt;dbl&gt;</th><th scope=col>&lt;dbl&gt;</th><th scope=col>&lt;dbl&gt;</th><th scope=col>&lt;dbl&gt;</th><th scope=col>&lt;dbl&gt;</th><th scope=col>&lt;dbl&gt;</th><th scope=col>&lt;dbl&gt;</th><th scope=col>&lt;dbl&gt;</th><th scope=col>&lt;dbl&gt;</th><th scope=col>&lt;dbl&gt;</th></tr>\n",
       "</thead>\n",
       "<tbody>\n",
       "\t<tr><td>1</td><td> 31.96</td><td>250.36</td><td> 27.24</td><td> 9.40</td><td> 9.00</td><td> 6.40</td><td> 46.55</td><td> 7.41</td><td>1.43</td><td>⋯</td><td>0.03</td><td>0.00</td><td> 6.07</td><td>0.27</td><td>0</td><td>0.03</td><td>0.00</td><td>0.00</td><td>0.00</td><td> 243.38</td></tr>\n",
       "\t<tr><td>2</td><td>123.16</td><td>350.37</td><td> 71.95</td><td>24.34</td><td>26.48</td><td>11.94</td><td>313.95</td><td>36.99</td><td>2.90</td><td>⋯</td><td>0.09</td><td>0.02</td><td>10.07</td><td>1.14</td><td>0</td><td>0.26</td><td>0.00</td><td>0.01</td><td>0.02</td><td>   0.00</td></tr>\n",
       "\t<tr><td>3</td><td> 40.19</td><td>233.63</td><td> 49.94</td><td>15.61</td><td>19.57</td><td>11.84</td><td> 86.22</td><td>11.16</td><td>1.37</td><td>⋯</td><td>0.16</td><td>0.00</td><td>11.12</td><td>0.55</td><td>0</td><td>0.07</td><td>0.01</td><td>0.02</td><td>0.03</td><td> 531.00</td></tr>\n",
       "\t<tr><td>4</td><td> 56.16</td><td>191.03</td><td> 56.20</td><td>27.54</td><td>20.13</td><td> 4.67</td><td>194.78</td><td> 5.45</td><td>0.95</td><td>⋯</td><td>0.05</td><td>0.14</td><td> 3.96</td><td>0.66</td><td>0</td><td>0.05</td><td>0.00</td><td>0.00</td><td>0.00</td><td>1652.00</td></tr>\n",
       "\t<tr><td>5</td><td> 97.13</td><td>253.98</td><td>114.52</td><td>36.00</td><td>60.55</td><td>11.35</td><td>180.57</td><td>17.28</td><td>2.92</td><td>⋯</td><td>0.18</td><td>0.00</td><td>10.03</td><td>1.25</td><td>0</td><td>0.07</td><td>0.00</td><td>0.01</td><td>0.01</td><td>1298.00</td></tr>\n",
       "\t<tr><td>6</td><td> 24.63</td><td>202.11</td><td> 25.15</td><td> 7.78</td><td> 7.84</td><td> 7.15</td><td> 38.45</td><td> 6.24</td><td>0.97</td><td>⋯</td><td>0.05</td><td>0.01</td><td> 6.41</td><td>0.69</td><td>0</td><td>0.03</td><td>0.00</td><td>0.00</td><td>0.00</td><td>1711.00</td></tr>\n",
       "</tbody>\n",
       "</table>\n"
      ],
      "text/latex": [
       "A tibble: 6 × 46\n",
       "\\begin{tabular}{lllllllllllllllllllll}\n",
       " SEQN & DRXTPROT & DRXTCARB & DRXTTFAT & DRXTSFAT & DRXTMFAT & DRXTPFAT & DRXTCHOL & DRXTFIBE & DRXTVB6 & ⋯ & DRXTM201 & DRXTM221 & DRXTP182 & DRXTP183 & DRXTP184 & DRXTP204 & DRXTP205 & DRXTP225 & DRXTP226 & DRD320GW\\\\\n",
       " <dbl> & <dbl> & <dbl> & <dbl> & <dbl> & <dbl> & <dbl> & <dbl> & <dbl> & <dbl> & ⋯ & <dbl> & <dbl> & <dbl> & <dbl> & <dbl> & <dbl> & <dbl> & <dbl> & <dbl> & <dbl>\\\\\n",
       "\\hline\n",
       "\t 1 &  31.96 & 250.36 &  27.24 &  9.40 &  9.00 &  6.40 &  46.55 &  7.41 & 1.43 & ⋯ & 0.03 & 0.00 &  6.07 & 0.27 & 0 & 0.03 & 0.00 & 0.00 & 0.00 &  243.38\\\\\n",
       "\t 2 & 123.16 & 350.37 &  71.95 & 24.34 & 26.48 & 11.94 & 313.95 & 36.99 & 2.90 & ⋯ & 0.09 & 0.02 & 10.07 & 1.14 & 0 & 0.26 & 0.00 & 0.01 & 0.02 &    0.00\\\\\n",
       "\t 3 &  40.19 & 233.63 &  49.94 & 15.61 & 19.57 & 11.84 &  86.22 & 11.16 & 1.37 & ⋯ & 0.16 & 0.00 & 11.12 & 0.55 & 0 & 0.07 & 0.01 & 0.02 & 0.03 &  531.00\\\\\n",
       "\t 4 &  56.16 & 191.03 &  56.20 & 27.54 & 20.13 &  4.67 & 194.78 &  5.45 & 0.95 & ⋯ & 0.05 & 0.14 &  3.96 & 0.66 & 0 & 0.05 & 0.00 & 0.00 & 0.00 & 1652.00\\\\\n",
       "\t 5 &  97.13 & 253.98 & 114.52 & 36.00 & 60.55 & 11.35 & 180.57 & 17.28 & 2.92 & ⋯ & 0.18 & 0.00 & 10.03 & 1.25 & 0 & 0.07 & 0.00 & 0.01 & 0.01 & 1298.00\\\\\n",
       "\t 6 &  24.63 & 202.11 &  25.15 &  7.78 &  7.84 &  7.15 &  38.45 &  6.24 & 0.97 & ⋯ & 0.05 & 0.01 &  6.41 & 0.69 & 0 & 0.03 & 0.00 & 0.00 & 0.00 & 1711.00\\\\\n",
       "\\end{tabular}\n"
      ],
      "text/markdown": [
       "\n",
       "A tibble: 6 × 46\n",
       "\n",
       "| SEQN &lt;dbl&gt; | DRXTPROT &lt;dbl&gt; | DRXTCARB &lt;dbl&gt; | DRXTTFAT &lt;dbl&gt; | DRXTSFAT &lt;dbl&gt; | DRXTMFAT &lt;dbl&gt; | DRXTPFAT &lt;dbl&gt; | DRXTCHOL &lt;dbl&gt; | DRXTFIBE &lt;dbl&gt; | DRXTVB6 &lt;dbl&gt; | ⋯ ⋯ | DRXTM201 &lt;dbl&gt; | DRXTM221 &lt;dbl&gt; | DRXTP182 &lt;dbl&gt; | DRXTP183 &lt;dbl&gt; | DRXTP184 &lt;dbl&gt; | DRXTP204 &lt;dbl&gt; | DRXTP205 &lt;dbl&gt; | DRXTP225 &lt;dbl&gt; | DRXTP226 &lt;dbl&gt; | DRD320GW &lt;dbl&gt; |\n",
       "|---|---|---|---|---|---|---|---|---|---|---|---|---|---|---|---|---|---|---|---|---|\n",
       "| 1 |  31.96 | 250.36 |  27.24 |  9.40 |  9.00 |  6.40 |  46.55 |  7.41 | 1.43 | ⋯ | 0.03 | 0.00 |  6.07 | 0.27 | 0 | 0.03 | 0.00 | 0.00 | 0.00 |  243.38 |\n",
       "| 2 | 123.16 | 350.37 |  71.95 | 24.34 | 26.48 | 11.94 | 313.95 | 36.99 | 2.90 | ⋯ | 0.09 | 0.02 | 10.07 | 1.14 | 0 | 0.26 | 0.00 | 0.01 | 0.02 |    0.00 |\n",
       "| 3 |  40.19 | 233.63 |  49.94 | 15.61 | 19.57 | 11.84 |  86.22 | 11.16 | 1.37 | ⋯ | 0.16 | 0.00 | 11.12 | 0.55 | 0 | 0.07 | 0.01 | 0.02 | 0.03 |  531.00 |\n",
       "| 4 |  56.16 | 191.03 |  56.20 | 27.54 | 20.13 |  4.67 | 194.78 |  5.45 | 0.95 | ⋯ | 0.05 | 0.14 |  3.96 | 0.66 | 0 | 0.05 | 0.00 | 0.00 | 0.00 | 1652.00 |\n",
       "| 5 |  97.13 | 253.98 | 114.52 | 36.00 | 60.55 | 11.35 | 180.57 | 17.28 | 2.92 | ⋯ | 0.18 | 0.00 | 10.03 | 1.25 | 0 | 0.07 | 0.00 | 0.01 | 0.01 | 1298.00 |\n",
       "| 6 |  24.63 | 202.11 |  25.15 |  7.78 |  7.84 |  7.15 |  38.45 |  6.24 | 0.97 | ⋯ | 0.05 | 0.01 |  6.41 | 0.69 | 0 | 0.03 | 0.00 | 0.00 | 0.00 | 1711.00 |\n",
       "\n"
      ],
      "text/plain": [
       "  SEQN DRXTPROT DRXTCARB DRXTTFAT DRXTSFAT DRXTMFAT DRXTPFAT DRXTCHOL DRXTFIBE\n",
       "1 1     31.96   250.36    27.24    9.40     9.00     6.40     46.55    7.41   \n",
       "2 2    123.16   350.37    71.95   24.34    26.48    11.94    313.95   36.99   \n",
       "3 3     40.19   233.63    49.94   15.61    19.57    11.84     86.22   11.16   \n",
       "4 4     56.16   191.03    56.20   27.54    20.13     4.67    194.78    5.45   \n",
       "5 5     97.13   253.98   114.52   36.00    60.55    11.35    180.57   17.28   \n",
       "6 6     24.63   202.11    25.15    7.78     7.84     7.15     38.45    6.24   \n",
       "  DRXTVB6 ⋯ DRXTM201 DRXTM221 DRXTP182 DRXTP183 DRXTP184 DRXTP204 DRXTP205\n",
       "1 1.43    ⋯ 0.03     0.00      6.07    0.27     0        0.03     0.00    \n",
       "2 2.90    ⋯ 0.09     0.02     10.07    1.14     0        0.26     0.00    \n",
       "3 1.37    ⋯ 0.16     0.00     11.12    0.55     0        0.07     0.01    \n",
       "4 0.95    ⋯ 0.05     0.14      3.96    0.66     0        0.05     0.00    \n",
       "5 2.92    ⋯ 0.18     0.00     10.03    1.25     0        0.07     0.00    \n",
       "6 0.97    ⋯ 0.05     0.01      6.41    0.69     0        0.03     0.00    \n",
       "  DRXTP225 DRXTP226 DRD320GW\n",
       "1 0.00     0.00      243.38 \n",
       "2 0.01     0.02        0.00 \n",
       "3 0.02     0.03      531.00 \n",
       "4 0.00     0.00     1652.00 \n",
       "5 0.01     0.01     1298.00 \n",
       "6 0.00     0.00     1711.00 "
      ]
     },
     "metadata": {},
     "output_type": "display_data"
    },
    {
     "data": {
      "text/html": [
       "<table class=\"dataframe\">\n",
       "<caption>A tibble: 6 × 46</caption>\n",
       "<thead>\n",
       "\t<tr><th scope=col>SEQN</th><th scope=col>DRXTPROT</th><th scope=col>DRXTCARB</th><th scope=col>DRXTTFAT</th><th scope=col>DRXTSFAT</th><th scope=col>DRXTMFAT</th><th scope=col>DRXTPFAT</th><th scope=col>DRXTCHOL</th><th scope=col>DRXTFIBE</th><th scope=col>DRXTVB6</th><th scope=col>⋯</th><th scope=col>DRXTM201</th><th scope=col>DRXTM221</th><th scope=col>DRXTP182</th><th scope=col>DRXTP183</th><th scope=col>DRXTP184</th><th scope=col>DRXTP204</th><th scope=col>DRXTP205</th><th scope=col>DRXTP225</th><th scope=col>DRXTP226</th><th scope=col>DRD320GW</th></tr>\n",
       "\t<tr><th scope=col>&lt;dbl&gt;</th><th scope=col>&lt;dbl&gt;</th><th scope=col>&lt;dbl&gt;</th><th scope=col>&lt;dbl&gt;</th><th scope=col>&lt;dbl&gt;</th><th scope=col>&lt;dbl&gt;</th><th scope=col>&lt;dbl&gt;</th><th scope=col>&lt;dbl&gt;</th><th scope=col>&lt;dbl&gt;</th><th scope=col>&lt;dbl&gt;</th><th scope=col>⋯</th><th scope=col>&lt;dbl&gt;</th><th scope=col>&lt;dbl&gt;</th><th scope=col>&lt;dbl&gt;</th><th scope=col>&lt;dbl&gt;</th><th scope=col>&lt;dbl&gt;</th><th scope=col>&lt;dbl&gt;</th><th scope=col>&lt;dbl&gt;</th><th scope=col>&lt;dbl&gt;</th><th scope=col>&lt;dbl&gt;</th><th scope=col>&lt;dbl&gt;</th></tr>\n",
       "</thead>\n",
       "<tbody>\n",
       "\t<tr><td>124817</td><td> 51.33</td><td> 90.33</td><td> 63.18</td><td>25.360</td><td>22.624</td><td> 9.509</td><td>813</td><td> 5.8</td><td>0.691</td><td>⋯</td><td>0.106</td><td>0.000</td><td> 8.038</td><td>0.832</td><td>0.001</td><td>0.392</td><td>0.003</td><td>0.025</td><td>0.111</td><td>1521.0</td></tr>\n",
       "\t<tr><td>124818</td><td> 58.05</td><td>512.14</td><td>183.51</td><td>62.115</td><td>61.034</td><td>45.841</td><td>220</td><td>15.0</td><td>0.647</td><td>⋯</td><td>0.444</td><td>0.004</td><td>41.362</td><td>4.263</td><td>0.000</td><td>0.088</td><td>0.010</td><td>0.019</td><td>0.006</td><td>   0.0</td></tr>\n",
       "\t<tr><td>124819</td><td> 67.43</td><td>197.26</td><td> 77.71</td><td>32.515</td><td>24.228</td><td>10.880</td><td>175</td><td> 8.3</td><td>1.421</td><td>⋯</td><td>0.164</td><td>0.001</td><td> 9.937</td><td>0.981</td><td>0.002</td><td>0.070</td><td>0.007</td><td>0.018</td><td>0.003</td><td> 225.0</td></tr>\n",
       "\t<tr><td>124820</td><td> 39.32</td><td>157.81</td><td> 48.77</td><td>15.558</td><td>13.070</td><td>14.765</td><td> 84</td><td>12.3</td><td>2.002</td><td>⋯</td><td>0.138</td><td>0.004</td><td>13.410</td><td>1.293</td><td>0.002</td><td>0.042</td><td>0.007</td><td>0.009</td><td>0.001</td><td>   0.0</td></tr>\n",
       "\t<tr><td>124821</td><td>138.10</td><td>110.59</td><td> 76.03</td><td>15.733</td><td>30.469</td><td>20.797</td><td>484</td><td> 6.7</td><td>1.688</td><td>⋯</td><td>0.546</td><td>0.020</td><td>17.314</td><td>1.944</td><td>0.009</td><td>0.309</td><td>0.124</td><td>0.090</td><td>0.350</td><td>1267.5</td></tr>\n",
       "\t<tr><td>124822</td><td>    NA</td><td>    NA</td><td>    NA</td><td>    NA</td><td>    NA</td><td>    NA</td><td> NA</td><td>  NA</td><td>   NA</td><td>⋯</td><td>   NA</td><td>   NA</td><td>    NA</td><td>   NA</td><td>   NA</td><td>   NA</td><td>   NA</td><td>   NA</td><td>   NA</td><td>    NA</td></tr>\n",
       "</tbody>\n",
       "</table>\n"
      ],
      "text/latex": [
       "A tibble: 6 × 46\n",
       "\\begin{tabular}{lllllllllllllllllllll}\n",
       " SEQN & DRXTPROT & DRXTCARB & DRXTTFAT & DRXTSFAT & DRXTMFAT & DRXTPFAT & DRXTCHOL & DRXTFIBE & DRXTVB6 & ⋯ & DRXTM201 & DRXTM221 & DRXTP182 & DRXTP183 & DRXTP184 & DRXTP204 & DRXTP205 & DRXTP225 & DRXTP226 & DRD320GW\\\\\n",
       " <dbl> & <dbl> & <dbl> & <dbl> & <dbl> & <dbl> & <dbl> & <dbl> & <dbl> & <dbl> & ⋯ & <dbl> & <dbl> & <dbl> & <dbl> & <dbl> & <dbl> & <dbl> & <dbl> & <dbl> & <dbl>\\\\\n",
       "\\hline\n",
       "\t 124817 &  51.33 &  90.33 &  63.18 & 25.360 & 22.624 &  9.509 & 813 &  5.8 & 0.691 & ⋯ & 0.106 & 0.000 &  8.038 & 0.832 & 0.001 & 0.392 & 0.003 & 0.025 & 0.111 & 1521.0\\\\\n",
       "\t 124818 &  58.05 & 512.14 & 183.51 & 62.115 & 61.034 & 45.841 & 220 & 15.0 & 0.647 & ⋯ & 0.444 & 0.004 & 41.362 & 4.263 & 0.000 & 0.088 & 0.010 & 0.019 & 0.006 &    0.0\\\\\n",
       "\t 124819 &  67.43 & 197.26 &  77.71 & 32.515 & 24.228 & 10.880 & 175 &  8.3 & 1.421 & ⋯ & 0.164 & 0.001 &  9.937 & 0.981 & 0.002 & 0.070 & 0.007 & 0.018 & 0.003 &  225.0\\\\\n",
       "\t 124820 &  39.32 & 157.81 &  48.77 & 15.558 & 13.070 & 14.765 &  84 & 12.3 & 2.002 & ⋯ & 0.138 & 0.004 & 13.410 & 1.293 & 0.002 & 0.042 & 0.007 & 0.009 & 0.001 &    0.0\\\\\n",
       "\t 124821 & 138.10 & 110.59 &  76.03 & 15.733 & 30.469 & 20.797 & 484 &  6.7 & 1.688 & ⋯ & 0.546 & 0.020 & 17.314 & 1.944 & 0.009 & 0.309 & 0.124 & 0.090 & 0.350 & 1267.5\\\\\n",
       "\t 124822 &     NA &     NA &     NA &     NA &     NA &     NA &  NA &   NA &    NA & ⋯ &    NA &    NA &     NA &    NA &    NA &    NA &    NA &    NA &    NA &     NA\\\\\n",
       "\\end{tabular}\n"
      ],
      "text/markdown": [
       "\n",
       "A tibble: 6 × 46\n",
       "\n",
       "| SEQN &lt;dbl&gt; | DRXTPROT &lt;dbl&gt; | DRXTCARB &lt;dbl&gt; | DRXTTFAT &lt;dbl&gt; | DRXTSFAT &lt;dbl&gt; | DRXTMFAT &lt;dbl&gt; | DRXTPFAT &lt;dbl&gt; | DRXTCHOL &lt;dbl&gt; | DRXTFIBE &lt;dbl&gt; | DRXTVB6 &lt;dbl&gt; | ⋯ ⋯ | DRXTM201 &lt;dbl&gt; | DRXTM221 &lt;dbl&gt; | DRXTP182 &lt;dbl&gt; | DRXTP183 &lt;dbl&gt; | DRXTP184 &lt;dbl&gt; | DRXTP204 &lt;dbl&gt; | DRXTP205 &lt;dbl&gt; | DRXTP225 &lt;dbl&gt; | DRXTP226 &lt;dbl&gt; | DRD320GW &lt;dbl&gt; |\n",
       "|---|---|---|---|---|---|---|---|---|---|---|---|---|---|---|---|---|---|---|---|---|\n",
       "| 124817 |  51.33 |  90.33 |  63.18 | 25.360 | 22.624 |  9.509 | 813 |  5.8 | 0.691 | ⋯ | 0.106 | 0.000 |  8.038 | 0.832 | 0.001 | 0.392 | 0.003 | 0.025 | 0.111 | 1521.0 |\n",
       "| 124818 |  58.05 | 512.14 | 183.51 | 62.115 | 61.034 | 45.841 | 220 | 15.0 | 0.647 | ⋯ | 0.444 | 0.004 | 41.362 | 4.263 | 0.000 | 0.088 | 0.010 | 0.019 | 0.006 |    0.0 |\n",
       "| 124819 |  67.43 | 197.26 |  77.71 | 32.515 | 24.228 | 10.880 | 175 |  8.3 | 1.421 | ⋯ | 0.164 | 0.001 |  9.937 | 0.981 | 0.002 | 0.070 | 0.007 | 0.018 | 0.003 |  225.0 |\n",
       "| 124820 |  39.32 | 157.81 |  48.77 | 15.558 | 13.070 | 14.765 |  84 | 12.3 | 2.002 | ⋯ | 0.138 | 0.004 | 13.410 | 1.293 | 0.002 | 0.042 | 0.007 | 0.009 | 0.001 |    0.0 |\n",
       "| 124821 | 138.10 | 110.59 |  76.03 | 15.733 | 30.469 | 20.797 | 484 |  6.7 | 1.688 | ⋯ | 0.546 | 0.020 | 17.314 | 1.944 | 0.009 | 0.309 | 0.124 | 0.090 | 0.350 | 1267.5 |\n",
       "| 124822 |     NA |     NA |     NA |     NA |     NA |     NA |  NA |   NA |    NA | ⋯ |    NA |    NA |     NA |    NA |    NA |    NA |    NA |    NA |    NA |     NA |\n",
       "\n"
      ],
      "text/plain": [
       "  SEQN   DRXTPROT DRXTCARB DRXTTFAT DRXTSFAT DRXTMFAT DRXTPFAT DRXTCHOL\n",
       "1 124817  51.33    90.33    63.18   25.360   22.624    9.509   813     \n",
       "2 124818  58.05   512.14   183.51   62.115   61.034   45.841   220     \n",
       "3 124819  67.43   197.26    77.71   32.515   24.228   10.880   175     \n",
       "4 124820  39.32   157.81    48.77   15.558   13.070   14.765    84     \n",
       "5 124821 138.10   110.59    76.03   15.733   30.469   20.797   484     \n",
       "6 124822     NA       NA       NA       NA       NA       NA    NA     \n",
       "  DRXTFIBE DRXTVB6 ⋯ DRXTM201 DRXTM221 DRXTP182 DRXTP183 DRXTP184 DRXTP204\n",
       "1  5.8     0.691   ⋯ 0.106    0.000     8.038   0.832    0.001    0.392   \n",
       "2 15.0     0.647   ⋯ 0.444    0.004    41.362   4.263    0.000    0.088   \n",
       "3  8.3     1.421   ⋯ 0.164    0.001     9.937   0.981    0.002    0.070   \n",
       "4 12.3     2.002   ⋯ 0.138    0.004    13.410   1.293    0.002    0.042   \n",
       "5  6.7     1.688   ⋯ 0.546    0.020    17.314   1.944    0.009    0.309   \n",
       "6   NA        NA   ⋯    NA       NA        NA      NA       NA       NA   \n",
       "  DRXTP205 DRXTP225 DRXTP226 DRD320GW\n",
       "1 0.003    0.025    0.111    1521.0  \n",
       "2 0.010    0.019    0.006       0.0  \n",
       "3 0.007    0.018    0.003     225.0  \n",
       "4 0.007    0.009    0.001       0.0  \n",
       "5 0.124    0.090    0.350    1267.5  \n",
       "6    NA       NA       NA        NA  "
      ]
     },
     "metadata": {},
     "output_type": "display_data"
    }
   ],
   "source": [
    "# DR1TOT\n",
    "tot <- data.frame() \n",
    "\n",
    "## DR1TOT_A Have different wate variable name, rename it\n",
    "tot_a <- read_xpt(\"Data/DR1TOT_A.xpt\")\n",
    "names(tot_a)[names(tot_a) == \"DRXTWATE\"] <- \"DRXTMOIS\"\n",
    "tot_a <- tot_a  %>% \n",
    "    select(var9902)\n",
    "\n",
    "tot <- rbind(tot, tot_a)\n",
    "\n",
    "\n",
    "## DR1TOT_B\n",
    "tot_b <- read_xpt(\"Data/DR1TOT_B.xpt\")\n",
    "tot_b <- tot_b  %>% \n",
    "    select(var9902)\n",
    "\n",
    "tot <- rbind(tot, tot_b)\n",
    "\n",
    "\n",
    "## DR1TOT_C\n",
    "tot_c <- read_xpt(\"Data/DR1TOT_C.xpt\")\n",
    "tot_c <- tot_c  %>% \n",
    "    select(all_of(var0304))\n",
    "names(tot_c) <- var9902\n",
    "\n",
    "tot <- rbind(tot, tot_c)\n",
    "\n",
    "\n",
    "## DR1TOT_D to DR1TOT_J\n",
    "files <- paste0(\"Data/DR1TOT_\", LETTERS[4:10], \".xpt\")  \n",
    "\n",
    "for (file in files) {\n",
    "    temp <- read_xpt(file) %>%\n",
    "        select(all_of(var0520))\n",
    "    names(temp) <- var9902  \n",
    "    tot <- rbind(tot, temp) \n",
    "}\n",
    "\n",
    "# View Data\n",
    "head(tot)\n",
    "tail(tot)"
   ]
  },
  {
   "cell_type": "markdown",
   "id": "7e45061b-ad39-4b7a-b003-70c429c91c97",
   "metadata": {},
   "source": [
    "## Merge Nhanes and DT1TOT"
   ]
  },
  {
   "cell_type": "code",
   "execution_count": 128,
   "id": "7bb9d248-2a48-4118-bb15-5d998b906b51",
   "metadata": {},
   "outputs": [
    {
     "data": {
      "text/html": [
       "<table class=\"dataframe\">\n",
       "<caption>A data.frame: 6 × 55</caption>\n",
       "<thead>\n",
       "\t<tr><th></th><th scope=col>svy_id</th><th scope=col>demo_age_cat</th><th scope=col>demo_race</th><th scope=col>demo_race_black</th><th scope=col>demo_age_years</th><th scope=col>demo_pregnant</th><th scope=col>demo_gender</th><th scope=col>bp_sys_mean</th><th scope=col>bp_dia_mean</th><th scope=col>cc_bmi</th><th scope=col>⋯</th><th scope=col>DRXTM201</th><th scope=col>DRXTM221</th><th scope=col>DRXTP182</th><th scope=col>DRXTP183</th><th scope=col>DRXTP184</th><th scope=col>DRXTP204</th><th scope=col>DRXTP205</th><th scope=col>DRXTP225</th><th scope=col>DRXTP226</th><th scope=col>DRD320GW</th></tr>\n",
       "\t<tr><th></th><th scope=col>&lt;int&gt;</th><th scope=col>&lt;chr&gt;</th><th scope=col>&lt;chr&gt;</th><th scope=col>&lt;chr&gt;</th><th scope=col>&lt;int&gt;</th><th scope=col>&lt;chr&gt;</th><th scope=col>&lt;chr&gt;</th><th scope=col>&lt;dbl&gt;</th><th scope=col>&lt;dbl&gt;</th><th scope=col>&lt;chr&gt;</th><th scope=col>⋯</th><th scope=col>&lt;dbl&gt;</th><th scope=col>&lt;dbl&gt;</th><th scope=col>&lt;dbl&gt;</th><th scope=col>&lt;dbl&gt;</th><th scope=col>&lt;dbl&gt;</th><th scope=col>&lt;dbl&gt;</th><th scope=col>&lt;dbl&gt;</th><th scope=col>&lt;dbl&gt;</th><th scope=col>&lt;dbl&gt;</th><th scope=col>&lt;dbl&gt;</th></tr>\n",
       "</thead>\n",
       "<tbody>\n",
       "\t<tr><th scope=row>1</th><td> 2</td><td><span style=white-space:pre-wrap>75+     </span></td><td>Non-Hispanic White</td><td>No </td><td>77</td><td>No</td><td><span style=white-space:pre-wrap>Men  </span></td><td>100.6667</td><td> 56.66667</td><td><span style=white-space:pre-wrap>&lt;25      </span></td><td>⋯</td><td>0.09</td><td>0.02</td><td>10.07</td><td>1.14</td><td>0.00</td><td>0.26</td><td>0.00</td><td>0.01</td><td>0.02</td><td><span style=white-space:pre-wrap>   0</span></td></tr>\n",
       "\t<tr><th scope=row>2</th><td> 5</td><td>45 to 64</td><td>Non-Hispanic White</td><td>No </td><td>49</td><td>No</td><td><span style=white-space:pre-wrap>Men  </span></td><td>122.0000</td><td> 82.66667</td><td>25 to &lt;30</td><td>⋯</td><td>0.18</td><td>0.00</td><td>10.03</td><td>1.25</td><td>0.00</td><td>0.07</td><td>0.00</td><td>0.01</td><td>0.01</td><td>1298</td></tr>\n",
       "\t<tr><th scope=row>3</th><td> 6</td><td>18 to 44</td><td><span style=white-space:pre-wrap>Other             </span></td><td>No </td><td>19</td><td>No</td><td>Women</td><td>114.6667</td><td> 68.00000</td><td><span style=white-space:pre-wrap>&lt;25      </span></td><td>⋯</td><td>0.05</td><td>0.01</td><td> 6.41</td><td>0.69</td><td>0.00</td><td>0.03</td><td>0.00</td><td>0.00</td><td>0.00</td><td>1711</td></tr>\n",
       "\t<tr><th scope=row>4</th><td> 7</td><td>45 to 64</td><td>Non-Hispanic Black</td><td>Yes</td><td>59</td><td>No</td><td>Women</td><td>125.3333</td><td> 80.00000</td><td>25 to &lt;30</td><td>⋯</td><td>0.08</td><td>0.01</td><td>15.31</td><td>2.23</td><td>0.06</td><td>0.13</td><td>0.15</td><td>0.03</td><td>0.20</td><td> 236</td></tr>\n",
       "\t<tr><th scope=row>5</th><td>10</td><td>18 to 44</td><td>Non-Hispanic Black</td><td>Yes</td><td>43</td><td>No</td><td><span style=white-space:pre-wrap>Men  </span></td><td>145.3333</td><td> 96.00000</td><td>30 to &lt;35</td><td>⋯</td><td>0.20</td><td>0.01</td><td>12.73</td><td>2.06</td><td>0.00</td><td>0.28</td><td>0.00</td><td>0.00</td><td>0.00</td><td>1888</td></tr>\n",
       "\t<tr><th scope=row>6</th><td>12</td><td>18 to 44</td><td>Non-Hispanic White</td><td>No </td><td>37</td><td>No</td><td><span style=white-space:pre-wrap>Men  </span></td><td>176.6667</td><td>102.00000</td><td>30 to &lt;35</td><td>⋯</td><td>0.31</td><td>0.33</td><td>35.46</td><td>3.46</td><td>0.00</td><td>0.49</td><td>0.01</td><td>0.00</td><td>0.09</td><td>3304</td></tr>\n",
       "</tbody>\n",
       "</table>\n"
      ],
      "text/latex": [
       "A data.frame: 6 × 55\n",
       "\\begin{tabular}{r|lllllllllllllllllllll}\n",
       "  & svy\\_id & demo\\_age\\_cat & demo\\_race & demo\\_race\\_black & demo\\_age\\_years & demo\\_pregnant & demo\\_gender & bp\\_sys\\_mean & bp\\_dia\\_mean & cc\\_bmi & ⋯ & DRXTM201 & DRXTM221 & DRXTP182 & DRXTP183 & DRXTP184 & DRXTP204 & DRXTP205 & DRXTP225 & DRXTP226 & DRD320GW\\\\\n",
       "  & <int> & <chr> & <chr> & <chr> & <int> & <chr> & <chr> & <dbl> & <dbl> & <chr> & ⋯ & <dbl> & <dbl> & <dbl> & <dbl> & <dbl> & <dbl> & <dbl> & <dbl> & <dbl> & <dbl>\\\\\n",
       "\\hline\n",
       "\t1 &  2 & 75+      & Non-Hispanic White & No  & 77 & No & Men   & 100.6667 &  56.66667 & <25       & ⋯ & 0.09 & 0.02 & 10.07 & 1.14 & 0.00 & 0.26 & 0.00 & 0.01 & 0.02 &    0\\\\\n",
       "\t2 &  5 & 45 to 64 & Non-Hispanic White & No  & 49 & No & Men   & 122.0000 &  82.66667 & 25 to <30 & ⋯ & 0.18 & 0.00 & 10.03 & 1.25 & 0.00 & 0.07 & 0.00 & 0.01 & 0.01 & 1298\\\\\n",
       "\t3 &  6 & 18 to 44 & Other              & No  & 19 & No & Women & 114.6667 &  68.00000 & <25       & ⋯ & 0.05 & 0.01 &  6.41 & 0.69 & 0.00 & 0.03 & 0.00 & 0.00 & 0.00 & 1711\\\\\n",
       "\t4 &  7 & 45 to 64 & Non-Hispanic Black & Yes & 59 & No & Women & 125.3333 &  80.00000 & 25 to <30 & ⋯ & 0.08 & 0.01 & 15.31 & 2.23 & 0.06 & 0.13 & 0.15 & 0.03 & 0.20 &  236\\\\\n",
       "\t5 & 10 & 18 to 44 & Non-Hispanic Black & Yes & 43 & No & Men   & 145.3333 &  96.00000 & 30 to <35 & ⋯ & 0.20 & 0.01 & 12.73 & 2.06 & 0.00 & 0.28 & 0.00 & 0.00 & 0.00 & 1888\\\\\n",
       "\t6 & 12 & 18 to 44 & Non-Hispanic White & No  & 37 & No & Men   & 176.6667 & 102.00000 & 30 to <35 & ⋯ & 0.31 & 0.33 & 35.46 & 3.46 & 0.00 & 0.49 & 0.01 & 0.00 & 0.09 & 3304\\\\\n",
       "\\end{tabular}\n"
      ],
      "text/markdown": [
       "\n",
       "A data.frame: 6 × 55\n",
       "\n",
       "| <!--/--> | svy_id &lt;int&gt; | demo_age_cat &lt;chr&gt; | demo_race &lt;chr&gt; | demo_race_black &lt;chr&gt; | demo_age_years &lt;int&gt; | demo_pregnant &lt;chr&gt; | demo_gender &lt;chr&gt; | bp_sys_mean &lt;dbl&gt; | bp_dia_mean &lt;dbl&gt; | cc_bmi &lt;chr&gt; | ⋯ ⋯ | DRXTM201 &lt;dbl&gt; | DRXTM221 &lt;dbl&gt; | DRXTP182 &lt;dbl&gt; | DRXTP183 &lt;dbl&gt; | DRXTP184 &lt;dbl&gt; | DRXTP204 &lt;dbl&gt; | DRXTP205 &lt;dbl&gt; | DRXTP225 &lt;dbl&gt; | DRXTP226 &lt;dbl&gt; | DRD320GW &lt;dbl&gt; |\n",
       "|---|---|---|---|---|---|---|---|---|---|---|---|---|---|---|---|---|---|---|---|---|---|\n",
       "| 1 |  2 | 75+      | Non-Hispanic White | No  | 77 | No | Men   | 100.6667 |  56.66667 | &lt;25       | ⋯ | 0.09 | 0.02 | 10.07 | 1.14 | 0.00 | 0.26 | 0.00 | 0.01 | 0.02 |    0 |\n",
       "| 2 |  5 | 45 to 64 | Non-Hispanic White | No  | 49 | No | Men   | 122.0000 |  82.66667 | 25 to &lt;30 | ⋯ | 0.18 | 0.00 | 10.03 | 1.25 | 0.00 | 0.07 | 0.00 | 0.01 | 0.01 | 1298 |\n",
       "| 3 |  6 | 18 to 44 | Other              | No  | 19 | No | Women | 114.6667 |  68.00000 | &lt;25       | ⋯ | 0.05 | 0.01 |  6.41 | 0.69 | 0.00 | 0.03 | 0.00 | 0.00 | 0.00 | 1711 |\n",
       "| 4 |  7 | 45 to 64 | Non-Hispanic Black | Yes | 59 | No | Women | 125.3333 |  80.00000 | 25 to &lt;30 | ⋯ | 0.08 | 0.01 | 15.31 | 2.23 | 0.06 | 0.13 | 0.15 | 0.03 | 0.20 |  236 |\n",
       "| 5 | 10 | 18 to 44 | Non-Hispanic Black | Yes | 43 | No | Men   | 145.3333 |  96.00000 | 30 to &lt;35 | ⋯ | 0.20 | 0.01 | 12.73 | 2.06 | 0.00 | 0.28 | 0.00 | 0.00 | 0.00 | 1888 |\n",
       "| 6 | 12 | 18 to 44 | Non-Hispanic White | No  | 37 | No | Men   | 176.6667 | 102.00000 | 30 to &lt;35 | ⋯ | 0.31 | 0.33 | 35.46 | 3.46 | 0.00 | 0.49 | 0.01 | 0.00 | 0.09 | 3304 |\n",
       "\n"
      ],
      "text/plain": [
       "  svy_id demo_age_cat demo_race          demo_race_black demo_age_years\n",
       "1  2     75+          Non-Hispanic White No              77            \n",
       "2  5     45 to 64     Non-Hispanic White No              49            \n",
       "3  6     18 to 44     Other              No              19            \n",
       "4  7     45 to 64     Non-Hispanic Black Yes             59            \n",
       "5 10     18 to 44     Non-Hispanic Black Yes             43            \n",
       "6 12     18 to 44     Non-Hispanic White No              37            \n",
       "  demo_pregnant demo_gender bp_sys_mean bp_dia_mean cc_bmi    ⋯ DRXTM201\n",
       "1 No            Men         100.6667     56.66667   <25       ⋯ 0.09    \n",
       "2 No            Men         122.0000     82.66667   25 to <30 ⋯ 0.18    \n",
       "3 No            Women       114.6667     68.00000   <25       ⋯ 0.05    \n",
       "4 No            Women       125.3333     80.00000   25 to <30 ⋯ 0.08    \n",
       "5 No            Men         145.3333     96.00000   30 to <35 ⋯ 0.20    \n",
       "6 No            Men         176.6667    102.00000   30 to <35 ⋯ 0.31    \n",
       "  DRXTM221 DRXTP182 DRXTP183 DRXTP184 DRXTP204 DRXTP205 DRXTP225 DRXTP226\n",
       "1 0.02     10.07    1.14     0.00     0.26     0.00     0.01     0.02    \n",
       "2 0.00     10.03    1.25     0.00     0.07     0.00     0.01     0.01    \n",
       "3 0.01      6.41    0.69     0.00     0.03     0.00     0.00     0.00    \n",
       "4 0.01     15.31    2.23     0.06     0.13     0.15     0.03     0.20    \n",
       "5 0.01     12.73    2.06     0.00     0.28     0.00     0.00     0.00    \n",
       "6 0.33     35.46    3.46     0.00     0.49     0.01     0.00     0.09    \n",
       "  DRD320GW\n",
       "1    0    \n",
       "2 1298    \n",
       "3 1711    \n",
       "4  236    \n",
       "5 1888    \n",
       "6 3304    "
      ]
     },
     "metadata": {},
     "output_type": "display_data"
    },
    {
     "data": {
      "text/html": [
       "<table class=\"dataframe\">\n",
       "<caption>A data.frame: 6 × 55</caption>\n",
       "<thead>\n",
       "\t<tr><th></th><th scope=col>svy_id</th><th scope=col>demo_age_cat</th><th scope=col>demo_race</th><th scope=col>demo_race_black</th><th scope=col>demo_age_years</th><th scope=col>demo_pregnant</th><th scope=col>demo_gender</th><th scope=col>bp_sys_mean</th><th scope=col>bp_dia_mean</th><th scope=col>cc_bmi</th><th scope=col>⋯</th><th scope=col>DRXTM201</th><th scope=col>DRXTM221</th><th scope=col>DRXTP182</th><th scope=col>DRXTP183</th><th scope=col>DRXTP184</th><th scope=col>DRXTP204</th><th scope=col>DRXTP205</th><th scope=col>DRXTP225</th><th scope=col>DRXTP226</th><th scope=col>DRD320GW</th></tr>\n",
       "\t<tr><th></th><th scope=col>&lt;int&gt;</th><th scope=col>&lt;chr&gt;</th><th scope=col>&lt;chr&gt;</th><th scope=col>&lt;chr&gt;</th><th scope=col>&lt;int&gt;</th><th scope=col>&lt;chr&gt;</th><th scope=col>&lt;chr&gt;</th><th scope=col>&lt;dbl&gt;</th><th scope=col>&lt;dbl&gt;</th><th scope=col>&lt;chr&gt;</th><th scope=col>⋯</th><th scope=col>&lt;dbl&gt;</th><th scope=col>&lt;dbl&gt;</th><th scope=col>&lt;dbl&gt;</th><th scope=col>&lt;dbl&gt;</th><th scope=col>&lt;dbl&gt;</th><th scope=col>&lt;dbl&gt;</th><th scope=col>&lt;dbl&gt;</th><th scope=col>&lt;dbl&gt;</th><th scope=col>&lt;dbl&gt;</th><th scope=col>&lt;dbl&gt;</th></tr>\n",
       "</thead>\n",
       "<tbody>\n",
       "\t<tr><th scope=row>59794</th><td>124814</td><td>45 to 64</td><td>Non-Hispanic Black</td><td>Yes</td><td>64</td><td>No</td><td>Men  </td><td>140.1667</td><td>85.36667</td><td>35+      </td><td>⋯</td><td>0.211</td><td>0.008</td><td>16.079</td><td>1.911</td><td>0.000</td><td>0.085</td><td>0.005</td><td>0.009</td><td>0.005</td><td>1014.0</td></tr>\n",
       "\t<tr><th scope=row>59795</th><td>124815</td><td>45 to 64</td><td>Non-Hispanic Black</td><td>Yes</td><td>52</td><td>No</td><td><span style=white-space:pre-wrap>Men  </span></td><td>141.5000</td><td>85.36667</td><td>25 to &lt;30</td><td>⋯</td><td>0.403</td><td>0.066</td><td>13.748</td><td>1.040</td><td>0.106</td><td>0.455</td><td>0.008</td><td>0.030</td><td>0.093</td><td>2028.0</td></tr>\n",
       "\t<tr><th scope=row>59796</th><td>124817</td><td>65 to 74</td><td>Hispanic          </td><td>No </td><td>67</td><td>No</td><td>Women</td><td>113.5000</td><td>66.03333</td><td>35+      </td><td>⋯</td><td>0.106</td><td>0.000</td><td> 8.038</td><td>0.832</td><td>0.001</td><td>0.392</td><td>0.003</td><td>0.025</td><td>0.111</td><td>1521.0</td></tr>\n",
       "\t<tr><th scope=row>59797</th><td>124818</td><td>18 to 44</td><td>Non-Hispanic Black</td><td>Yes</td><td>40</td><td>No</td><td>Men  </td><td>104.5000</td><td>66.03333</td><td>35+      </td><td>⋯</td><td>0.444</td><td>0.004</td><td>41.362</td><td>4.263</td><td>0.000</td><td>0.088</td><td>0.010</td><td>0.019</td><td>0.006</td><td>   0.0</td></tr>\n",
       "\t<tr><th scope=row>59798</th><td>124821</td><td>45 to 64</td><td>Non-Hispanic Black</td><td>Yes</td><td>63</td><td>No</td><td><span style=white-space:pre-wrap>Men  </span></td><td>125.5000</td><td>65.36667</td><td>25 to &lt;30</td><td>⋯</td><td>0.546</td><td>0.020</td><td>17.314</td><td>1.944</td><td>0.009</td><td>0.309</td><td>0.124</td><td>0.090</td><td>0.350</td><td>1267.5</td></tr>\n",
       "\t<tr><th scope=row>59799</th><td>124822</td><td>65 to 74</td><td><span style=white-space:pre-wrap>Hispanic          </span></td><td>No </td><td>74</td><td>No</td><td><span style=white-space:pre-wrap>Men  </span></td><td>123.5000</td><td>55.03333</td><td><span style=white-space:pre-wrap>&lt;25      </span></td><td>⋯</td><td><span style=white-space:pre-wrap>   NA</span></td><td><span style=white-space:pre-wrap>   NA</span></td><td><span style=white-space:pre-wrap>    NA</span></td><td><span style=white-space:pre-wrap>   NA</span></td><td><span style=white-space:pre-wrap>   NA</span></td><td><span style=white-space:pre-wrap>   NA</span></td><td><span style=white-space:pre-wrap>   NA</span></td><td><span style=white-space:pre-wrap>   NA</span></td><td><span style=white-space:pre-wrap>   NA</span></td><td><span style=white-space:pre-wrap>    NA</span></td></tr>\n",
       "</tbody>\n",
       "</table>\n"
      ],
      "text/latex": [
       "A data.frame: 6 × 55\n",
       "\\begin{tabular}{r|lllllllllllllllllllll}\n",
       "  & svy\\_id & demo\\_age\\_cat & demo\\_race & demo\\_race\\_black & demo\\_age\\_years & demo\\_pregnant & demo\\_gender & bp\\_sys\\_mean & bp\\_dia\\_mean & cc\\_bmi & ⋯ & DRXTM201 & DRXTM221 & DRXTP182 & DRXTP183 & DRXTP184 & DRXTP204 & DRXTP205 & DRXTP225 & DRXTP226 & DRD320GW\\\\\n",
       "  & <int> & <chr> & <chr> & <chr> & <int> & <chr> & <chr> & <dbl> & <dbl> & <chr> & ⋯ & <dbl> & <dbl> & <dbl> & <dbl> & <dbl> & <dbl> & <dbl> & <dbl> & <dbl> & <dbl>\\\\\n",
       "\\hline\n",
       "\t59794 & 124814 & 45 to 64 & Non-Hispanic Black & Yes & 64 & No & Men   & 140.1667 & 85.36667 & 35+       & ⋯ & 0.211 & 0.008 & 16.079 & 1.911 & 0.000 & 0.085 & 0.005 & 0.009 & 0.005 & 1014.0\\\\\n",
       "\t59795 & 124815 & 45 to 64 & Non-Hispanic Black & Yes & 52 & No & Men   & 141.5000 & 85.36667 & 25 to <30 & ⋯ & 0.403 & 0.066 & 13.748 & 1.040 & 0.106 & 0.455 & 0.008 & 0.030 & 0.093 & 2028.0\\\\\n",
       "\t59796 & 124817 & 65 to 74 & Hispanic           & No  & 67 & No & Women & 113.5000 & 66.03333 & 35+       & ⋯ & 0.106 & 0.000 &  8.038 & 0.832 & 0.001 & 0.392 & 0.003 & 0.025 & 0.111 & 1521.0\\\\\n",
       "\t59797 & 124818 & 18 to 44 & Non-Hispanic Black & Yes & 40 & No & Men   & 104.5000 & 66.03333 & 35+       & ⋯ & 0.444 & 0.004 & 41.362 & 4.263 & 0.000 & 0.088 & 0.010 & 0.019 & 0.006 &    0.0\\\\\n",
       "\t59798 & 124821 & 45 to 64 & Non-Hispanic Black & Yes & 63 & No & Men   & 125.5000 & 65.36667 & 25 to <30 & ⋯ & 0.546 & 0.020 & 17.314 & 1.944 & 0.009 & 0.309 & 0.124 & 0.090 & 0.350 & 1267.5\\\\\n",
       "\t59799 & 124822 & 65 to 74 & Hispanic           & No  & 74 & No & Men   & 123.5000 & 55.03333 & <25       & ⋯ &    NA &    NA &     NA &    NA &    NA &    NA &    NA &    NA &    NA &     NA\\\\\n",
       "\\end{tabular}\n"
      ],
      "text/markdown": [
       "\n",
       "A data.frame: 6 × 55\n",
       "\n",
       "| <!--/--> | svy_id &lt;int&gt; | demo_age_cat &lt;chr&gt; | demo_race &lt;chr&gt; | demo_race_black &lt;chr&gt; | demo_age_years &lt;int&gt; | demo_pregnant &lt;chr&gt; | demo_gender &lt;chr&gt; | bp_sys_mean &lt;dbl&gt; | bp_dia_mean &lt;dbl&gt; | cc_bmi &lt;chr&gt; | ⋯ ⋯ | DRXTM201 &lt;dbl&gt; | DRXTM221 &lt;dbl&gt; | DRXTP182 &lt;dbl&gt; | DRXTP183 &lt;dbl&gt; | DRXTP184 &lt;dbl&gt; | DRXTP204 &lt;dbl&gt; | DRXTP205 &lt;dbl&gt; | DRXTP225 &lt;dbl&gt; | DRXTP226 &lt;dbl&gt; | DRD320GW &lt;dbl&gt; |\n",
       "|---|---|---|---|---|---|---|---|---|---|---|---|---|---|---|---|---|---|---|---|---|---|\n",
       "| 59794 | 124814 | 45 to 64 | Non-Hispanic Black | Yes | 64 | No | Men   | 140.1667 | 85.36667 | 35+       | ⋯ | 0.211 | 0.008 | 16.079 | 1.911 | 0.000 | 0.085 | 0.005 | 0.009 | 0.005 | 1014.0 |\n",
       "| 59795 | 124815 | 45 to 64 | Non-Hispanic Black | Yes | 52 | No | Men   | 141.5000 | 85.36667 | 25 to &lt;30 | ⋯ | 0.403 | 0.066 | 13.748 | 1.040 | 0.106 | 0.455 | 0.008 | 0.030 | 0.093 | 2028.0 |\n",
       "| 59796 | 124817 | 65 to 74 | Hispanic           | No  | 67 | No | Women | 113.5000 | 66.03333 | 35+       | ⋯ | 0.106 | 0.000 |  8.038 | 0.832 | 0.001 | 0.392 | 0.003 | 0.025 | 0.111 | 1521.0 |\n",
       "| 59797 | 124818 | 18 to 44 | Non-Hispanic Black | Yes | 40 | No | Men   | 104.5000 | 66.03333 | 35+       | ⋯ | 0.444 | 0.004 | 41.362 | 4.263 | 0.000 | 0.088 | 0.010 | 0.019 | 0.006 |    0.0 |\n",
       "| 59798 | 124821 | 45 to 64 | Non-Hispanic Black | Yes | 63 | No | Men   | 125.5000 | 65.36667 | 25 to &lt;30 | ⋯ | 0.546 | 0.020 | 17.314 | 1.944 | 0.009 | 0.309 | 0.124 | 0.090 | 0.350 | 1267.5 |\n",
       "| 59799 | 124822 | 65 to 74 | Hispanic           | No  | 74 | No | Men   | 123.5000 | 55.03333 | &lt;25       | ⋯ |    NA |    NA |     NA |    NA |    NA |    NA |    NA |    NA |    NA |     NA |\n",
       "\n"
      ],
      "text/plain": [
       "      svy_id demo_age_cat demo_race          demo_race_black demo_age_years\n",
       "59794 124814 45 to 64     Non-Hispanic Black Yes             64            \n",
       "59795 124815 45 to 64     Non-Hispanic Black Yes             52            \n",
       "59796 124817 65 to 74     Hispanic           No              67            \n",
       "59797 124818 18 to 44     Non-Hispanic Black Yes             40            \n",
       "59798 124821 45 to 64     Non-Hispanic Black Yes             63            \n",
       "59799 124822 65 to 74     Hispanic           No              74            \n",
       "      demo_pregnant demo_gender bp_sys_mean bp_dia_mean cc_bmi    ⋯ DRXTM201\n",
       "59794 No            Men         140.1667    85.36667    35+       ⋯ 0.211   \n",
       "59795 No            Men         141.5000    85.36667    25 to <30 ⋯ 0.403   \n",
       "59796 No            Women       113.5000    66.03333    35+       ⋯ 0.106   \n",
       "59797 No            Men         104.5000    66.03333    35+       ⋯ 0.444   \n",
       "59798 No            Men         125.5000    65.36667    25 to <30 ⋯ 0.546   \n",
       "59799 No            Men         123.5000    55.03333    <25       ⋯    NA   \n",
       "      DRXTM221 DRXTP182 DRXTP183 DRXTP184 DRXTP204 DRXTP205 DRXTP225 DRXTP226\n",
       "59794 0.008    16.079   1.911    0.000    0.085    0.005    0.009    0.005   \n",
       "59795 0.066    13.748   1.040    0.106    0.455    0.008    0.030    0.093   \n",
       "59796 0.000     8.038   0.832    0.001    0.392    0.003    0.025    0.111   \n",
       "59797 0.004    41.362   4.263    0.000    0.088    0.010    0.019    0.006   \n",
       "59798 0.020    17.314   1.944    0.009    0.309    0.124    0.090    0.350   \n",
       "59799    NA        NA      NA       NA       NA       NA       NA       NA   \n",
       "      DRD320GW\n",
       "59794 1014.0  \n",
       "59795 2028.0  \n",
       "59796 1521.0  \n",
       "59797    0.0  \n",
       "59798 1267.5  \n",
       "59799     NA  "
      ]
     },
     "metadata": {},
     "output_type": "display_data"
    }
   ],
   "source": [
    "merge_df <- merge(nahnes, tot, by.x = \"svy_id\", by.y = \"SEQN\")\n",
    "\n",
    "head(merge_df)\n",
    "tail(merge_df)"
   ]
  },
  {
   "cell_type": "code",
   "execution_count": null,
   "id": "39099d30-d1fb-45bc-9399-06eeb649c1ea",
   "metadata": {},
   "outputs": [],
   "source": []
  }
 ],
 "metadata": {
  "kernelspec": {
   "display_name": "R",
   "language": "R",
   "name": "ir"
  },
  "language_info": {
   "codemirror_mode": "r",
   "file_extension": ".r",
   "mimetype": "text/x-r-source",
   "name": "R",
   "pygments_lexer": "r",
   "version": "4.4.2"
  }
 },
 "nbformat": 4,
 "nbformat_minor": 5
}
