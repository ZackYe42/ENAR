{
 "cells": [
  {
   "cell_type": "code",
   "execution_count": 1,
   "id": "35f0b0fb-876b-405c-91ef-ed7c3115fd68",
   "metadata": {},
   "outputs": [
    {
     "name": "stderr",
     "output_type": "stream",
     "text": [
      "\n",
      "Attaching package: 'dplyr'\n",
      "\n",
      "\n",
      "The following objects are masked from 'package:stats':\n",
      "\n",
      "    filter, lag\n",
      "\n",
      "\n",
      "The following objects are masked from 'package:base':\n",
      "\n",
      "    intersect, setdiff, setequal, union\n",
      "\n",
      "\n"
     ]
    },
    {
     "data": {
      "text/html": [
       "<ol>\n",
       "\t<li><style>\n",
       ".list-inline {list-style: none; margin:0; padding: 0}\n",
       ".list-inline>li {display: inline-block}\n",
       ".list-inline>li:not(:last-child)::after {content: \"\\00b7\"; padding: 0 .5ex}\n",
       "</style>\n",
       "<ol class=list-inline><li>'dplyr'</li><li>'stats'</li><li>'graphics'</li><li>'grDevices'</li><li>'utils'</li><li>'datasets'</li><li>'methods'</li><li>'base'</li></ol>\n",
       "</li>\n",
       "\t<li><style>\n",
       ".list-inline {list-style: none; margin:0; padding: 0}\n",
       ".list-inline>li {display: inline-block}\n",
       ".list-inline>li:not(:last-child)::after {content: \"\\00b7\"; padding: 0 .5ex}\n",
       "</style>\n",
       "<ol class=list-inline><li>'haven'</li><li>'dplyr'</li><li>'stats'</li><li>'graphics'</li><li>'grDevices'</li><li>'utils'</li><li>'datasets'</li><li>'methods'</li><li>'base'</li></ol>\n",
       "</li>\n",
       "\t<li><style>\n",
       ".list-inline {list-style: none; margin:0; padding: 0}\n",
       ".list-inline>li {display: inline-block}\n",
       ".list-inline>li:not(:last-child)::after {content: \"\\00b7\"; padding: 0 .5ex}\n",
       "</style>\n",
       "<ol class=list-inline><li>'ggplot2'</li><li>'haven'</li><li>'dplyr'</li><li>'stats'</li><li>'graphics'</li><li>'grDevices'</li><li>'utils'</li><li>'datasets'</li><li>'methods'</li><li>'base'</li></ol>\n",
       "</li>\n",
       "</ol>\n"
      ],
      "text/latex": [
       "\\begin{enumerate}\n",
       "\\item \\begin{enumerate*}\n",
       "\\item 'dplyr'\n",
       "\\item 'stats'\n",
       "\\item 'graphics'\n",
       "\\item 'grDevices'\n",
       "\\item 'utils'\n",
       "\\item 'datasets'\n",
       "\\item 'methods'\n",
       "\\item 'base'\n",
       "\\end{enumerate*}\n",
       "\n",
       "\\item \\begin{enumerate*}\n",
       "\\item 'haven'\n",
       "\\item 'dplyr'\n",
       "\\item 'stats'\n",
       "\\item 'graphics'\n",
       "\\item 'grDevices'\n",
       "\\item 'utils'\n",
       "\\item 'datasets'\n",
       "\\item 'methods'\n",
       "\\item 'base'\n",
       "\\end{enumerate*}\n",
       "\n",
       "\\item \\begin{enumerate*}\n",
       "\\item 'ggplot2'\n",
       "\\item 'haven'\n",
       "\\item 'dplyr'\n",
       "\\item 'stats'\n",
       "\\item 'graphics'\n",
       "\\item 'grDevices'\n",
       "\\item 'utils'\n",
       "\\item 'datasets'\n",
       "\\item 'methods'\n",
       "\\item 'base'\n",
       "\\end{enumerate*}\n",
       "\n",
       "\\end{enumerate}\n"
      ],
      "text/markdown": [
       "1. 1. 'dplyr'\n",
       "2. 'stats'\n",
       "3. 'graphics'\n",
       "4. 'grDevices'\n",
       "5. 'utils'\n",
       "6. 'datasets'\n",
       "7. 'methods'\n",
       "8. 'base'\n",
       "\n",
       "\n",
       "\n",
       "2. 1. 'haven'\n",
       "2. 'dplyr'\n",
       "3. 'stats'\n",
       "4. 'graphics'\n",
       "5. 'grDevices'\n",
       "6. 'utils'\n",
       "7. 'datasets'\n",
       "8. 'methods'\n",
       "9. 'base'\n",
       "\n",
       "\n",
       "\n",
       "3. 1. 'ggplot2'\n",
       "2. 'haven'\n",
       "3. 'dplyr'\n",
       "4. 'stats'\n",
       "5. 'graphics'\n",
       "6. 'grDevices'\n",
       "7. 'utils'\n",
       "8. 'datasets'\n",
       "9. 'methods'\n",
       "10. 'base'\n",
       "\n",
       "\n",
       "\n",
       "\n",
       "\n"
      ],
      "text/plain": [
       "[[1]]\n",
       "[1] \"dplyr\"     \"stats\"     \"graphics\"  \"grDevices\" \"utils\"     \"datasets\" \n",
       "[7] \"methods\"   \"base\"     \n",
       "\n",
       "[[2]]\n",
       "[1] \"haven\"     \"dplyr\"     \"stats\"     \"graphics\"  \"grDevices\" \"utils\"    \n",
       "[7] \"datasets\"  \"methods\"   \"base\"     \n",
       "\n",
       "[[3]]\n",
       " [1] \"ggplot2\"   \"haven\"     \"dplyr\"     \"stats\"     \"graphics\"  \"grDevices\"\n",
       " [7] \"utils\"     \"datasets\"  \"methods\"   \"base\"     \n"
      ]
     },
     "metadata": {},
     "output_type": "display_data"
    }
   ],
   "source": [
    "# Load Library\n",
    "\n",
    "packages <- c(\"dplyr\", \"haven\",\"ggplot2\")\n",
    "\n",
    "install_if_missing <- function(pkg) {\n",
    "  if (!requireNamespace(pkg, quietly = TRUE)) {\n",
    "    install.packages(pkg)\n",
    "  }\n",
    "  library(pkg, character.only = TRUE)\n",
    "}\n",
    "\n",
    "lapply(packages, install_if_missing)\n",
    "\n",
    "#test\n"
   ]
  },
  {
   "cell_type": "markdown",
   "id": "aba0cc89-3504-4879-a7ec-5db96c1235aa",
   "metadata": {},
   "source": [
    "# Read Data"
   ]
  },
  {
   "cell_type": "markdown",
   "id": "9d04f6a6-b399-428d-b1fe-147c39f2529e",
   "metadata": {},
   "source": [
    "## Helper Function"
   ]
  },
  {
   "cell_type": "code",
   "execution_count": 2,
   "id": "0ee1443a-7fcf-4632-abe5-029bfdcf5d81",
   "metadata": {},
   "outputs": [],
   "source": [
    "compare_variables <- function(ds1, ds2) {\n",
    "  vars_ds1 <- colnames(ds1)\n",
    "  vars_ds2 <- colnames(ds2)\n",
    "  \n",
    "  matched_vars <- intersect(vars_ds1, vars_ds2)\n",
    "  only_in_ds1 <- setdiff(vars_ds1, vars_ds2)\n",
    "  only_in_ds2 <- setdiff(vars_ds2, vars_ds1)\n",
    "\n",
    "  list(\n",
    "    matched = matched_vars,\n",
    "    only_in_ds1 = only_in_ds1,\n",
    "    only_in_ds2 = only_in_ds2\n",
    "  )\n",
    "}\n",
    "\n",
    "\n",
    "compare_variable_list <- function(dataset, var_list) {\n",
    "  dataset_vars <- colnames(dataset)\n",
    "  \n",
    "  matched_vars <- intersect(dataset_vars, var_list)\n",
    "  only_in_dataset <- setdiff(dataset_vars, var_list)\n",
    "  only_in_list <- setdiff(var_list, dataset_vars)\n",
    "  \n",
    "  return(list(\n",
    "    matched = matched_vars,\n",
    "    only_in_dataset = only_in_dataset,\n",
    "    only_in_list = only_in_list\n",
    "  ))\n",
    "}\n",
    "\n",
    "\n",
    "compare_list <- function(var_list1, var_list2) {\n",
    "  \n",
    "  matched_vars <- intersect(var_list1, var_list2)\n",
    "  only_in_list1 <- setdiff(var_list1, var_list2)\n",
    "  only_in_list2 <- setdiff(var_list2, var_list1)\n",
    "  \n",
    "  return(list(\n",
    "    matched = matched_vars,\n",
    "    only_in_list1 = only_in_list1,\n",
    "    only_in_list2 = only_in_list2\n",
    "  ))\n",
    "}\n"
   ]
  },
  {
   "cell_type": "markdown",
   "id": "a1b35ec9-c401-40be-a6f2-0d9a76ae47ed",
   "metadata": {},
   "source": [
    "## Selected Variables"
   ]
  },
  {
   "cell_type": "code",
   "execution_count": 3,
   "id": "a9c8ad87-f90b-4139-a879-bf99176132ae",
   "metadata": {},
   "outputs": [
    {
     "name": "stderr",
     "output_type": "stream",
     "text": [
      "Warning message in readLines(\"Data/var9902.txt\"):\n",
      "\"incomplete final line found on 'Data/var9902.txt'\"\n"
     ]
    },
    {
     "data": {
      "text/html": [
       "46"
      ],
      "text/latex": [
       "46"
      ],
      "text/markdown": [
       "46"
      ],
      "text/plain": [
       "[1] 46"
      ]
     },
     "metadata": {},
     "output_type": "display_data"
    },
    {
     "name": "stderr",
     "output_type": "stream",
     "text": [
      "Warning message in readLines(\"Data/var0304.txt\"):\n",
      "\"incomplete final line found on 'Data/var0304.txt'\"\n"
     ]
    },
    {
     "data": {
      "text/html": [
       "46"
      ],
      "text/latex": [
       "46"
      ],
      "text/markdown": [
       "46"
      ],
      "text/plain": [
       "[1] 46"
      ]
     },
     "metadata": {},
     "output_type": "display_data"
    },
    {
     "name": "stderr",
     "output_type": "stream",
     "text": [
      "Warning message in readLines(\"Data/var0520.txt\"):\n",
      "\"incomplete final line found on 'Data/var0520.txt'\"\n"
     ]
    },
    {
     "data": {
      "text/html": [
       "46"
      ],
      "text/latex": [
       "46"
      ],
      "text/markdown": [
       "46"
      ],
      "text/plain": [
       "[1] 46"
      ]
     },
     "metadata": {},
     "output_type": "display_data"
    },
    {
     "data": {
      "text/html": [
       "11"
      ],
      "text/latex": [
       "11"
      ],
      "text/markdown": [
       "11"
      ],
      "text/plain": [
       "[1] 11"
      ]
     },
     "metadata": {},
     "output_type": "display_data"
    }
   ],
   "source": [
    "var9902 <- readLines(\"Data/var9902.txt\") # Selected Variable for Diet\n",
    "length(var9902)\n",
    "var0304 <- readLines(\"Data/var0304.txt\") # Selected Variable for Diet\n",
    "length(var0304)\n",
    "var0520 <- readLines(\"Data/var0520.txt\") # Selected Variable for Diet\n",
    "length(var0520)\n",
    "\n",
    "var_nhanes <- readLines(\"Data/Nhanes_Variables.txt\") # Selected Variable for Nhanes\n",
    "length(var_nhanes)"
   ]
  },
  {
   "cell_type": "code",
   "execution_count": 4,
   "id": "5232dbc5-80ad-44b2-b622-baf60a48a023",
   "metadata": {},
   "outputs": [],
   "source": [
    "# compare_list(var9902, var0304)\n",
    "# compare_list(var0304, var0520)"
   ]
  },
  {
   "cell_type": "markdown",
   "id": "e036e124-448e-4951-b0a0-81985753729d",
   "metadata": {},
   "source": [
    "## Read Nhanes Data"
   ]
  },
  {
   "cell_type": "code",
   "execution_count": 6,
   "id": "4fdd189f-2d60-4bde-840b-70e3fcb70aaa",
   "metadata": {},
   "outputs": [
    {
     "data": {
      "text/html": [
       "<table class=\"dataframe\">\n",
       "<caption>A data.frame: 6 × 11</caption>\n",
       "<thead>\n",
       "\t<tr><th></th><th scope=col>svy_id</th><th scope=col>svy_year</th><th scope=col>demo_age_cat</th><th scope=col>demo_race</th><th scope=col>demo_race_black</th><th scope=col>demo_age_years</th><th scope=col>demo_pregnant</th><th scope=col>demo_gender</th><th scope=col>bp_sys_mean</th><th scope=col>bp_dia_mean</th><th scope=col>cc_bmi</th></tr>\n",
       "\t<tr><th></th><th scope=col>&lt;int&gt;</th><th scope=col>&lt;chr&gt;</th><th scope=col>&lt;chr&gt;</th><th scope=col>&lt;chr&gt;</th><th scope=col>&lt;chr&gt;</th><th scope=col>&lt;int&gt;</th><th scope=col>&lt;chr&gt;</th><th scope=col>&lt;chr&gt;</th><th scope=col>&lt;dbl&gt;</th><th scope=col>&lt;dbl&gt;</th><th scope=col>&lt;chr&gt;</th></tr>\n",
       "</thead>\n",
       "<tbody>\n",
       "\t<tr><th scope=row>1</th><td>12</td><td>1999-2000</td><td>18 to 44</td><td>Non-Hispanic White</td><td>No</td><td>37</td><td>No</td><td>Men</td><td>176.6667</td><td>102.00000</td><td>30 to &lt;35</td></tr>\n",
       "\t<tr><th scope=row>2</th><td>21</td><td>1999-2000</td><td>18 to 44</td><td>Hispanic          </td><td>No</td><td>18</td><td>No</td><td>Men</td><td>121.3333</td><td> 80.00000</td><td>35+      </td></tr>\n",
       "\t<tr><th scope=row>3</th><td>27</td><td>1999-2000</td><td>18 to 44</td><td><span style=white-space:pre-wrap>Hispanic          </span></td><td>No</td><td>18</td><td>No</td><td>Men</td><td>118.0000</td><td> 78.00000</td><td>25 to &lt;30</td></tr>\n",
       "\t<tr><th scope=row>4</th><td>28</td><td>1999-2000</td><td>18 to 44</td><td>Non-Hispanic White</td><td>No</td><td>18</td><td>No</td><td>Men</td><td> 94.0000</td><td> 42.66667</td><td><span style=white-space:pre-wrap>&lt;25      </span></td></tr>\n",
       "\t<tr><th scope=row>5</th><td>56</td><td>1999-2000</td><td>18 to 44</td><td>Non-Hispanic White</td><td>No</td><td>21</td><td>No</td><td>Men</td><td>121.0000</td><td> 65.00000</td><td><span style=white-space:pre-wrap>&lt;25      </span></td></tr>\n",
       "\t<tr><th scope=row>6</th><td>57</td><td>1999-2000</td><td>18 to 44</td><td>Non-Hispanic White</td><td>No</td><td>39</td><td>No</td><td>Men</td><td>119.3333</td><td> 85.33333</td><td>25 to &lt;30</td></tr>\n",
       "</tbody>\n",
       "</table>\n"
      ],
      "text/latex": [
       "A data.frame: 6 × 11\n",
       "\\begin{tabular}{r|lllllllllll}\n",
       "  & svy\\_id & svy\\_year & demo\\_age\\_cat & demo\\_race & demo\\_race\\_black & demo\\_age\\_years & demo\\_pregnant & demo\\_gender & bp\\_sys\\_mean & bp\\_dia\\_mean & cc\\_bmi\\\\\n",
       "  & <int> & <chr> & <chr> & <chr> & <chr> & <int> & <chr> & <chr> & <dbl> & <dbl> & <chr>\\\\\n",
       "\\hline\n",
       "\t1 & 12 & 1999-2000 & 18 to 44 & Non-Hispanic White & No & 37 & No & Men & 176.6667 & 102.00000 & 30 to <35\\\\\n",
       "\t2 & 21 & 1999-2000 & 18 to 44 & Hispanic           & No & 18 & No & Men & 121.3333 &  80.00000 & 35+      \\\\\n",
       "\t3 & 27 & 1999-2000 & 18 to 44 & Hispanic           & No & 18 & No & Men & 118.0000 &  78.00000 & 25 to <30\\\\\n",
       "\t4 & 28 & 1999-2000 & 18 to 44 & Non-Hispanic White & No & 18 & No & Men &  94.0000 &  42.66667 & <25      \\\\\n",
       "\t5 & 56 & 1999-2000 & 18 to 44 & Non-Hispanic White & No & 21 & No & Men & 121.0000 &  65.00000 & <25      \\\\\n",
       "\t6 & 57 & 1999-2000 & 18 to 44 & Non-Hispanic White & No & 39 & No & Men & 119.3333 &  85.33333 & 25 to <30\\\\\n",
       "\\end{tabular}\n"
      ],
      "text/markdown": [
       "\n",
       "A data.frame: 6 × 11\n",
       "\n",
       "| <!--/--> | svy_id &lt;int&gt; | svy_year &lt;chr&gt; | demo_age_cat &lt;chr&gt; | demo_race &lt;chr&gt; | demo_race_black &lt;chr&gt; | demo_age_years &lt;int&gt; | demo_pregnant &lt;chr&gt; | demo_gender &lt;chr&gt; | bp_sys_mean &lt;dbl&gt; | bp_dia_mean &lt;dbl&gt; | cc_bmi &lt;chr&gt; |\n",
       "|---|---|---|---|---|---|---|---|---|---|---|---|\n",
       "| 1 | 12 | 1999-2000 | 18 to 44 | Non-Hispanic White | No | 37 | No | Men | 176.6667 | 102.00000 | 30 to &lt;35 |\n",
       "| 2 | 21 | 1999-2000 | 18 to 44 | Hispanic           | No | 18 | No | Men | 121.3333 |  80.00000 | 35+       |\n",
       "| 3 | 27 | 1999-2000 | 18 to 44 | Hispanic           | No | 18 | No | Men | 118.0000 |  78.00000 | 25 to &lt;30 |\n",
       "| 4 | 28 | 1999-2000 | 18 to 44 | Non-Hispanic White | No | 18 | No | Men |  94.0000 |  42.66667 | &lt;25       |\n",
       "| 5 | 56 | 1999-2000 | 18 to 44 | Non-Hispanic White | No | 21 | No | Men | 121.0000 |  65.00000 | &lt;25       |\n",
       "| 6 | 57 | 1999-2000 | 18 to 44 | Non-Hispanic White | No | 39 | No | Men | 119.3333 |  85.33333 | 25 to &lt;30 |\n",
       "\n"
      ],
      "text/plain": [
       "  svy_id svy_year  demo_age_cat demo_race          demo_race_black\n",
       "1 12     1999-2000 18 to 44     Non-Hispanic White No             \n",
       "2 21     1999-2000 18 to 44     Hispanic           No             \n",
       "3 27     1999-2000 18 to 44     Hispanic           No             \n",
       "4 28     1999-2000 18 to 44     Non-Hispanic White No             \n",
       "5 56     1999-2000 18 to 44     Non-Hispanic White No             \n",
       "6 57     1999-2000 18 to 44     Non-Hispanic White No             \n",
       "  demo_age_years demo_pregnant demo_gender bp_sys_mean bp_dia_mean cc_bmi   \n",
       "1 37             No            Men         176.6667    102.00000   30 to <35\n",
       "2 18             No            Men         121.3333     80.00000   35+      \n",
       "3 18             No            Men         118.0000     78.00000   25 to <30\n",
       "4 18             No            Men          94.0000     42.66667   <25      \n",
       "5 21             No            Men         121.0000     65.00000   <25      \n",
       "6 39             No            Men         119.3333     85.33333   25 to <30"
      ]
     },
     "metadata": {},
     "output_type": "display_data"
    }
   ],
   "source": [
    "nahnes <- read.csv(\"Data/nhanes_data.csv\") %>% \n",
    "    select(all_of(var_nhanes))\n",
    "head(nahnes)"
   ]
  },
  {
   "cell_type": "markdown",
   "id": "e453ac6d-53db-4a4f-bbb5-ab35509f8bdc",
   "metadata": {},
   "source": [
    "## Read DT1TOT Data"
   ]
  },
  {
   "cell_type": "code",
   "execution_count": 7,
   "id": "eab45b78-984d-42c9-ba8e-35eba3490b03",
   "metadata": {
    "scrolled": true
   },
   "outputs": [
    {
     "data": {
      "text/html": [
       "<table class=\"dataframe\">\n",
       "<caption>A tibble: 6 × 46</caption>\n",
       "<thead>\n",
       "\t<tr><th scope=col>SEQN</th><th scope=col>DRXTPROT</th><th scope=col>DRXTCARB</th><th scope=col>DRXTTFAT</th><th scope=col>DRXTSFAT</th><th scope=col>DRXTMFAT</th><th scope=col>DRXTPFAT</th><th scope=col>DRXTCHOL</th><th scope=col>DRXTFIBE</th><th scope=col>DRXTVB6</th><th scope=col>⋯</th><th scope=col>DRXTM201</th><th scope=col>DRXTM221</th><th scope=col>DRXTP182</th><th scope=col>DRXTP183</th><th scope=col>DRXTP184</th><th scope=col>DRXTP204</th><th scope=col>DRXTP205</th><th scope=col>DRXTP225</th><th scope=col>DRXTP226</th><th scope=col>DRD320GW</th></tr>\n",
       "\t<tr><th scope=col>&lt;dbl&gt;</th><th scope=col>&lt;dbl&gt;</th><th scope=col>&lt;dbl&gt;</th><th scope=col>&lt;dbl&gt;</th><th scope=col>&lt;dbl&gt;</th><th scope=col>&lt;dbl&gt;</th><th scope=col>&lt;dbl&gt;</th><th scope=col>&lt;dbl&gt;</th><th scope=col>&lt;dbl&gt;</th><th scope=col>&lt;dbl&gt;</th><th scope=col>⋯</th><th scope=col>&lt;dbl&gt;</th><th scope=col>&lt;dbl&gt;</th><th scope=col>&lt;dbl&gt;</th><th scope=col>&lt;dbl&gt;</th><th scope=col>&lt;dbl&gt;</th><th scope=col>&lt;dbl&gt;</th><th scope=col>&lt;dbl&gt;</th><th scope=col>&lt;dbl&gt;</th><th scope=col>&lt;dbl&gt;</th><th scope=col>&lt;dbl&gt;</th></tr>\n",
       "</thead>\n",
       "<tbody>\n",
       "\t<tr><td>1</td><td> 31.96</td><td>250.36</td><td> 27.24</td><td> 9.40</td><td> 9.00</td><td> 6.40</td><td> 46.55</td><td> 7.41</td><td>1.43</td><td>⋯</td><td>0.03</td><td>0.00</td><td> 6.07</td><td>0.27</td><td>0</td><td>0.03</td><td>0.00</td><td>0.00</td><td>0.00</td><td> 243.38</td></tr>\n",
       "\t<tr><td>2</td><td>123.16</td><td>350.37</td><td> 71.95</td><td>24.34</td><td>26.48</td><td>11.94</td><td>313.95</td><td>36.99</td><td>2.90</td><td>⋯</td><td>0.09</td><td>0.02</td><td>10.07</td><td>1.14</td><td>0</td><td>0.26</td><td>0.00</td><td>0.01</td><td>0.02</td><td>   0.00</td></tr>\n",
       "\t<tr><td>3</td><td> 40.19</td><td>233.63</td><td> 49.94</td><td>15.61</td><td>19.57</td><td>11.84</td><td> 86.22</td><td>11.16</td><td>1.37</td><td>⋯</td><td>0.16</td><td>0.00</td><td>11.12</td><td>0.55</td><td>0</td><td>0.07</td><td>0.01</td><td>0.02</td><td>0.03</td><td> 531.00</td></tr>\n",
       "\t<tr><td>4</td><td> 56.16</td><td>191.03</td><td> 56.20</td><td>27.54</td><td>20.13</td><td> 4.67</td><td>194.78</td><td> 5.45</td><td>0.95</td><td>⋯</td><td>0.05</td><td>0.14</td><td> 3.96</td><td>0.66</td><td>0</td><td>0.05</td><td>0.00</td><td>0.00</td><td>0.00</td><td>1652.00</td></tr>\n",
       "\t<tr><td>5</td><td> 97.13</td><td>253.98</td><td>114.52</td><td>36.00</td><td>60.55</td><td>11.35</td><td>180.57</td><td>17.28</td><td>2.92</td><td>⋯</td><td>0.18</td><td>0.00</td><td>10.03</td><td>1.25</td><td>0</td><td>0.07</td><td>0.00</td><td>0.01</td><td>0.01</td><td>1298.00</td></tr>\n",
       "\t<tr><td>6</td><td> 24.63</td><td>202.11</td><td> 25.15</td><td> 7.78</td><td> 7.84</td><td> 7.15</td><td> 38.45</td><td> 6.24</td><td>0.97</td><td>⋯</td><td>0.05</td><td>0.01</td><td> 6.41</td><td>0.69</td><td>0</td><td>0.03</td><td>0.00</td><td>0.00</td><td>0.00</td><td>1711.00</td></tr>\n",
       "</tbody>\n",
       "</table>\n"
      ],
      "text/latex": [
       "A tibble: 6 × 46\n",
       "\\begin{tabular}{lllllllllllllllllllll}\n",
       " SEQN & DRXTPROT & DRXTCARB & DRXTTFAT & DRXTSFAT & DRXTMFAT & DRXTPFAT & DRXTCHOL & DRXTFIBE & DRXTVB6 & ⋯ & DRXTM201 & DRXTM221 & DRXTP182 & DRXTP183 & DRXTP184 & DRXTP204 & DRXTP205 & DRXTP225 & DRXTP226 & DRD320GW\\\\\n",
       " <dbl> & <dbl> & <dbl> & <dbl> & <dbl> & <dbl> & <dbl> & <dbl> & <dbl> & <dbl> & ⋯ & <dbl> & <dbl> & <dbl> & <dbl> & <dbl> & <dbl> & <dbl> & <dbl> & <dbl> & <dbl>\\\\\n",
       "\\hline\n",
       "\t 1 &  31.96 & 250.36 &  27.24 &  9.40 &  9.00 &  6.40 &  46.55 &  7.41 & 1.43 & ⋯ & 0.03 & 0.00 &  6.07 & 0.27 & 0 & 0.03 & 0.00 & 0.00 & 0.00 &  243.38\\\\\n",
       "\t 2 & 123.16 & 350.37 &  71.95 & 24.34 & 26.48 & 11.94 & 313.95 & 36.99 & 2.90 & ⋯ & 0.09 & 0.02 & 10.07 & 1.14 & 0 & 0.26 & 0.00 & 0.01 & 0.02 &    0.00\\\\\n",
       "\t 3 &  40.19 & 233.63 &  49.94 & 15.61 & 19.57 & 11.84 &  86.22 & 11.16 & 1.37 & ⋯ & 0.16 & 0.00 & 11.12 & 0.55 & 0 & 0.07 & 0.01 & 0.02 & 0.03 &  531.00\\\\\n",
       "\t 4 &  56.16 & 191.03 &  56.20 & 27.54 & 20.13 &  4.67 & 194.78 &  5.45 & 0.95 & ⋯ & 0.05 & 0.14 &  3.96 & 0.66 & 0 & 0.05 & 0.00 & 0.00 & 0.00 & 1652.00\\\\\n",
       "\t 5 &  97.13 & 253.98 & 114.52 & 36.00 & 60.55 & 11.35 & 180.57 & 17.28 & 2.92 & ⋯ & 0.18 & 0.00 & 10.03 & 1.25 & 0 & 0.07 & 0.00 & 0.01 & 0.01 & 1298.00\\\\\n",
       "\t 6 &  24.63 & 202.11 &  25.15 &  7.78 &  7.84 &  7.15 &  38.45 &  6.24 & 0.97 & ⋯ & 0.05 & 0.01 &  6.41 & 0.69 & 0 & 0.03 & 0.00 & 0.00 & 0.00 & 1711.00\\\\\n",
       "\\end{tabular}\n"
      ],
      "text/markdown": [
       "\n",
       "A tibble: 6 × 46\n",
       "\n",
       "| SEQN &lt;dbl&gt; | DRXTPROT &lt;dbl&gt; | DRXTCARB &lt;dbl&gt; | DRXTTFAT &lt;dbl&gt; | DRXTSFAT &lt;dbl&gt; | DRXTMFAT &lt;dbl&gt; | DRXTPFAT &lt;dbl&gt; | DRXTCHOL &lt;dbl&gt; | DRXTFIBE &lt;dbl&gt; | DRXTVB6 &lt;dbl&gt; | ⋯ ⋯ | DRXTM201 &lt;dbl&gt; | DRXTM221 &lt;dbl&gt; | DRXTP182 &lt;dbl&gt; | DRXTP183 &lt;dbl&gt; | DRXTP184 &lt;dbl&gt; | DRXTP204 &lt;dbl&gt; | DRXTP205 &lt;dbl&gt; | DRXTP225 &lt;dbl&gt; | DRXTP226 &lt;dbl&gt; | DRD320GW &lt;dbl&gt; |\n",
       "|---|---|---|---|---|---|---|---|---|---|---|---|---|---|---|---|---|---|---|---|---|\n",
       "| 1 |  31.96 | 250.36 |  27.24 |  9.40 |  9.00 |  6.40 |  46.55 |  7.41 | 1.43 | ⋯ | 0.03 | 0.00 |  6.07 | 0.27 | 0 | 0.03 | 0.00 | 0.00 | 0.00 |  243.38 |\n",
       "| 2 | 123.16 | 350.37 |  71.95 | 24.34 | 26.48 | 11.94 | 313.95 | 36.99 | 2.90 | ⋯ | 0.09 | 0.02 | 10.07 | 1.14 | 0 | 0.26 | 0.00 | 0.01 | 0.02 |    0.00 |\n",
       "| 3 |  40.19 | 233.63 |  49.94 | 15.61 | 19.57 | 11.84 |  86.22 | 11.16 | 1.37 | ⋯ | 0.16 | 0.00 | 11.12 | 0.55 | 0 | 0.07 | 0.01 | 0.02 | 0.03 |  531.00 |\n",
       "| 4 |  56.16 | 191.03 |  56.20 | 27.54 | 20.13 |  4.67 | 194.78 |  5.45 | 0.95 | ⋯ | 0.05 | 0.14 |  3.96 | 0.66 | 0 | 0.05 | 0.00 | 0.00 | 0.00 | 1652.00 |\n",
       "| 5 |  97.13 | 253.98 | 114.52 | 36.00 | 60.55 | 11.35 | 180.57 | 17.28 | 2.92 | ⋯ | 0.18 | 0.00 | 10.03 | 1.25 | 0 | 0.07 | 0.00 | 0.01 | 0.01 | 1298.00 |\n",
       "| 6 |  24.63 | 202.11 |  25.15 |  7.78 |  7.84 |  7.15 |  38.45 |  6.24 | 0.97 | ⋯ | 0.05 | 0.01 |  6.41 | 0.69 | 0 | 0.03 | 0.00 | 0.00 | 0.00 | 1711.00 |\n",
       "\n"
      ],
      "text/plain": [
       "  SEQN DRXTPROT DRXTCARB DRXTTFAT DRXTSFAT DRXTMFAT DRXTPFAT DRXTCHOL DRXTFIBE\n",
       "1 1     31.96   250.36    27.24    9.40     9.00     6.40     46.55    7.41   \n",
       "2 2    123.16   350.37    71.95   24.34    26.48    11.94    313.95   36.99   \n",
       "3 3     40.19   233.63    49.94   15.61    19.57    11.84     86.22   11.16   \n",
       "4 4     56.16   191.03    56.20   27.54    20.13     4.67    194.78    5.45   \n",
       "5 5     97.13   253.98   114.52   36.00    60.55    11.35    180.57   17.28   \n",
       "6 6     24.63   202.11    25.15    7.78     7.84     7.15     38.45    6.24   \n",
       "  DRXTVB6 ⋯ DRXTM201 DRXTM221 DRXTP182 DRXTP183 DRXTP184 DRXTP204 DRXTP205\n",
       "1 1.43    ⋯ 0.03     0.00      6.07    0.27     0        0.03     0.00    \n",
       "2 2.90    ⋯ 0.09     0.02     10.07    1.14     0        0.26     0.00    \n",
       "3 1.37    ⋯ 0.16     0.00     11.12    0.55     0        0.07     0.01    \n",
       "4 0.95    ⋯ 0.05     0.14      3.96    0.66     0        0.05     0.00    \n",
       "5 2.92    ⋯ 0.18     0.00     10.03    1.25     0        0.07     0.00    \n",
       "6 0.97    ⋯ 0.05     0.01      6.41    0.69     0        0.03     0.00    \n",
       "  DRXTP225 DRXTP226 DRD320GW\n",
       "1 0.00     0.00      243.38 \n",
       "2 0.01     0.02        0.00 \n",
       "3 0.02     0.03      531.00 \n",
       "4 0.00     0.00     1652.00 \n",
       "5 0.01     0.01     1298.00 \n",
       "6 0.00     0.00     1711.00 "
      ]
     },
     "metadata": {},
     "output_type": "display_data"
    },
    {
     "data": {
      "text/html": [
       "<table class=\"dataframe\">\n",
       "<caption>A tibble: 6 × 46</caption>\n",
       "<thead>\n",
       "\t<tr><th scope=col>SEQN</th><th scope=col>DRXTPROT</th><th scope=col>DRXTCARB</th><th scope=col>DRXTTFAT</th><th scope=col>DRXTSFAT</th><th scope=col>DRXTMFAT</th><th scope=col>DRXTPFAT</th><th scope=col>DRXTCHOL</th><th scope=col>DRXTFIBE</th><th scope=col>DRXTVB6</th><th scope=col>⋯</th><th scope=col>DRXTM201</th><th scope=col>DRXTM221</th><th scope=col>DRXTP182</th><th scope=col>DRXTP183</th><th scope=col>DRXTP184</th><th scope=col>DRXTP204</th><th scope=col>DRXTP205</th><th scope=col>DRXTP225</th><th scope=col>DRXTP226</th><th scope=col>DRD320GW</th></tr>\n",
       "\t<tr><th scope=col>&lt;dbl&gt;</th><th scope=col>&lt;dbl&gt;</th><th scope=col>&lt;dbl&gt;</th><th scope=col>&lt;dbl&gt;</th><th scope=col>&lt;dbl&gt;</th><th scope=col>&lt;dbl&gt;</th><th scope=col>&lt;dbl&gt;</th><th scope=col>&lt;dbl&gt;</th><th scope=col>&lt;dbl&gt;</th><th scope=col>&lt;dbl&gt;</th><th scope=col>⋯</th><th scope=col>&lt;dbl&gt;</th><th scope=col>&lt;dbl&gt;</th><th scope=col>&lt;dbl&gt;</th><th scope=col>&lt;dbl&gt;</th><th scope=col>&lt;dbl&gt;</th><th scope=col>&lt;dbl&gt;</th><th scope=col>&lt;dbl&gt;</th><th scope=col>&lt;dbl&gt;</th><th scope=col>&lt;dbl&gt;</th><th scope=col>&lt;dbl&gt;</th></tr>\n",
       "</thead>\n",
       "<tbody>\n",
       "\t<tr><td>124817</td><td> 51.33</td><td> 90.33</td><td> 63.18</td><td>25.360</td><td>22.624</td><td> 9.509</td><td>813</td><td> 5.8</td><td>0.691</td><td>⋯</td><td>0.106</td><td>0.000</td><td> 8.038</td><td>0.832</td><td>0.001</td><td>0.392</td><td>0.003</td><td>0.025</td><td>0.111</td><td>1521.0</td></tr>\n",
       "\t<tr><td>124818</td><td> 58.05</td><td>512.14</td><td>183.51</td><td>62.115</td><td>61.034</td><td>45.841</td><td>220</td><td>15.0</td><td>0.647</td><td>⋯</td><td>0.444</td><td>0.004</td><td>41.362</td><td>4.263</td><td>0.000</td><td>0.088</td><td>0.010</td><td>0.019</td><td>0.006</td><td>   0.0</td></tr>\n",
       "\t<tr><td>124819</td><td> 67.43</td><td>197.26</td><td> 77.71</td><td>32.515</td><td>24.228</td><td>10.880</td><td>175</td><td> 8.3</td><td>1.421</td><td>⋯</td><td>0.164</td><td>0.001</td><td> 9.937</td><td>0.981</td><td>0.002</td><td>0.070</td><td>0.007</td><td>0.018</td><td>0.003</td><td> 225.0</td></tr>\n",
       "\t<tr><td>124820</td><td> 39.32</td><td>157.81</td><td> 48.77</td><td>15.558</td><td>13.070</td><td>14.765</td><td> 84</td><td>12.3</td><td>2.002</td><td>⋯</td><td>0.138</td><td>0.004</td><td>13.410</td><td>1.293</td><td>0.002</td><td>0.042</td><td>0.007</td><td>0.009</td><td>0.001</td><td>   0.0</td></tr>\n",
       "\t<tr><td>124821</td><td>138.10</td><td>110.59</td><td> 76.03</td><td>15.733</td><td>30.469</td><td>20.797</td><td>484</td><td> 6.7</td><td>1.688</td><td>⋯</td><td>0.546</td><td>0.020</td><td>17.314</td><td>1.944</td><td>0.009</td><td>0.309</td><td>0.124</td><td>0.090</td><td>0.350</td><td>1267.5</td></tr>\n",
       "\t<tr><td>124822</td><td>    NA</td><td>    NA</td><td>    NA</td><td>    NA</td><td>    NA</td><td>    NA</td><td> NA</td><td>  NA</td><td>   NA</td><td>⋯</td><td>   NA</td><td>   NA</td><td>    NA</td><td>   NA</td><td>   NA</td><td>   NA</td><td>   NA</td><td>   NA</td><td>   NA</td><td>    NA</td></tr>\n",
       "</tbody>\n",
       "</table>\n"
      ],
      "text/latex": [
       "A tibble: 6 × 46\n",
       "\\begin{tabular}{lllllllllllllllllllll}\n",
       " SEQN & DRXTPROT & DRXTCARB & DRXTTFAT & DRXTSFAT & DRXTMFAT & DRXTPFAT & DRXTCHOL & DRXTFIBE & DRXTVB6 & ⋯ & DRXTM201 & DRXTM221 & DRXTP182 & DRXTP183 & DRXTP184 & DRXTP204 & DRXTP205 & DRXTP225 & DRXTP226 & DRD320GW\\\\\n",
       " <dbl> & <dbl> & <dbl> & <dbl> & <dbl> & <dbl> & <dbl> & <dbl> & <dbl> & <dbl> & ⋯ & <dbl> & <dbl> & <dbl> & <dbl> & <dbl> & <dbl> & <dbl> & <dbl> & <dbl> & <dbl>\\\\\n",
       "\\hline\n",
       "\t 124817 &  51.33 &  90.33 &  63.18 & 25.360 & 22.624 &  9.509 & 813 &  5.8 & 0.691 & ⋯ & 0.106 & 0.000 &  8.038 & 0.832 & 0.001 & 0.392 & 0.003 & 0.025 & 0.111 & 1521.0\\\\\n",
       "\t 124818 &  58.05 & 512.14 & 183.51 & 62.115 & 61.034 & 45.841 & 220 & 15.0 & 0.647 & ⋯ & 0.444 & 0.004 & 41.362 & 4.263 & 0.000 & 0.088 & 0.010 & 0.019 & 0.006 &    0.0\\\\\n",
       "\t 124819 &  67.43 & 197.26 &  77.71 & 32.515 & 24.228 & 10.880 & 175 &  8.3 & 1.421 & ⋯ & 0.164 & 0.001 &  9.937 & 0.981 & 0.002 & 0.070 & 0.007 & 0.018 & 0.003 &  225.0\\\\\n",
       "\t 124820 &  39.32 & 157.81 &  48.77 & 15.558 & 13.070 & 14.765 &  84 & 12.3 & 2.002 & ⋯ & 0.138 & 0.004 & 13.410 & 1.293 & 0.002 & 0.042 & 0.007 & 0.009 & 0.001 &    0.0\\\\\n",
       "\t 124821 & 138.10 & 110.59 &  76.03 & 15.733 & 30.469 & 20.797 & 484 &  6.7 & 1.688 & ⋯ & 0.546 & 0.020 & 17.314 & 1.944 & 0.009 & 0.309 & 0.124 & 0.090 & 0.350 & 1267.5\\\\\n",
       "\t 124822 &     NA &     NA &     NA &     NA &     NA &     NA &  NA &   NA &    NA & ⋯ &    NA &    NA &     NA &    NA &    NA &    NA &    NA &    NA &    NA &     NA\\\\\n",
       "\\end{tabular}\n"
      ],
      "text/markdown": [
       "\n",
       "A tibble: 6 × 46\n",
       "\n",
       "| SEQN &lt;dbl&gt; | DRXTPROT &lt;dbl&gt; | DRXTCARB &lt;dbl&gt; | DRXTTFAT &lt;dbl&gt; | DRXTSFAT &lt;dbl&gt; | DRXTMFAT &lt;dbl&gt; | DRXTPFAT &lt;dbl&gt; | DRXTCHOL &lt;dbl&gt; | DRXTFIBE &lt;dbl&gt; | DRXTVB6 &lt;dbl&gt; | ⋯ ⋯ | DRXTM201 &lt;dbl&gt; | DRXTM221 &lt;dbl&gt; | DRXTP182 &lt;dbl&gt; | DRXTP183 &lt;dbl&gt; | DRXTP184 &lt;dbl&gt; | DRXTP204 &lt;dbl&gt; | DRXTP205 &lt;dbl&gt; | DRXTP225 &lt;dbl&gt; | DRXTP226 &lt;dbl&gt; | DRD320GW &lt;dbl&gt; |\n",
       "|---|---|---|---|---|---|---|---|---|---|---|---|---|---|---|---|---|---|---|---|---|\n",
       "| 124817 |  51.33 |  90.33 |  63.18 | 25.360 | 22.624 |  9.509 | 813 |  5.8 | 0.691 | ⋯ | 0.106 | 0.000 |  8.038 | 0.832 | 0.001 | 0.392 | 0.003 | 0.025 | 0.111 | 1521.0 |\n",
       "| 124818 |  58.05 | 512.14 | 183.51 | 62.115 | 61.034 | 45.841 | 220 | 15.0 | 0.647 | ⋯ | 0.444 | 0.004 | 41.362 | 4.263 | 0.000 | 0.088 | 0.010 | 0.019 | 0.006 |    0.0 |\n",
       "| 124819 |  67.43 | 197.26 |  77.71 | 32.515 | 24.228 | 10.880 | 175 |  8.3 | 1.421 | ⋯ | 0.164 | 0.001 |  9.937 | 0.981 | 0.002 | 0.070 | 0.007 | 0.018 | 0.003 |  225.0 |\n",
       "| 124820 |  39.32 | 157.81 |  48.77 | 15.558 | 13.070 | 14.765 |  84 | 12.3 | 2.002 | ⋯ | 0.138 | 0.004 | 13.410 | 1.293 | 0.002 | 0.042 | 0.007 | 0.009 | 0.001 |    0.0 |\n",
       "| 124821 | 138.10 | 110.59 |  76.03 | 15.733 | 30.469 | 20.797 | 484 |  6.7 | 1.688 | ⋯ | 0.546 | 0.020 | 17.314 | 1.944 | 0.009 | 0.309 | 0.124 | 0.090 | 0.350 | 1267.5 |\n",
       "| 124822 |     NA |     NA |     NA |     NA |     NA |     NA |  NA |   NA |    NA | ⋯ |    NA |    NA |     NA |    NA |    NA |    NA |    NA |    NA |    NA |     NA |\n",
       "\n"
      ],
      "text/plain": [
       "  SEQN   DRXTPROT DRXTCARB DRXTTFAT DRXTSFAT DRXTMFAT DRXTPFAT DRXTCHOL\n",
       "1 124817  51.33    90.33    63.18   25.360   22.624    9.509   813     \n",
       "2 124818  58.05   512.14   183.51   62.115   61.034   45.841   220     \n",
       "3 124819  67.43   197.26    77.71   32.515   24.228   10.880   175     \n",
       "4 124820  39.32   157.81    48.77   15.558   13.070   14.765    84     \n",
       "5 124821 138.10   110.59    76.03   15.733   30.469   20.797   484     \n",
       "6 124822     NA       NA       NA       NA       NA       NA    NA     \n",
       "  DRXTFIBE DRXTVB6 ⋯ DRXTM201 DRXTM221 DRXTP182 DRXTP183 DRXTP184 DRXTP204\n",
       "1  5.8     0.691   ⋯ 0.106    0.000     8.038   0.832    0.001    0.392   \n",
       "2 15.0     0.647   ⋯ 0.444    0.004    41.362   4.263    0.000    0.088   \n",
       "3  8.3     1.421   ⋯ 0.164    0.001     9.937   0.981    0.002    0.070   \n",
       "4 12.3     2.002   ⋯ 0.138    0.004    13.410   1.293    0.002    0.042   \n",
       "5  6.7     1.688   ⋯ 0.546    0.020    17.314   1.944    0.009    0.309   \n",
       "6   NA        NA   ⋯    NA       NA        NA      NA       NA       NA   \n",
       "  DRXTP205 DRXTP225 DRXTP226 DRD320GW\n",
       "1 0.003    0.025    0.111    1521.0  \n",
       "2 0.010    0.019    0.006       0.0  \n",
       "3 0.007    0.018    0.003     225.0  \n",
       "4 0.007    0.009    0.001       0.0  \n",
       "5 0.124    0.090    0.350    1267.5  \n",
       "6    NA       NA       NA        NA  "
      ]
     },
     "metadata": {},
     "output_type": "display_data"
    }
   ],
   "source": [
    "# DR1TOT\n",
    "tot <- data.frame() \n",
    "\n",
    "## DR1TOT_A Have different water variable name, rename it\n",
    "tot_a <- read_xpt(\"Data/DR1TOT_A.xpt\")\n",
    "names(tot_a)[names(tot_a) == \"DRXTWATE\"] <- \"DRXTMOIS\"\n",
    "tot_a <- tot_a  %>% \n",
    "    select(all_of(var9902))\n",
    "\n",
    "tot <- rbind(tot, tot_a)\n",
    "\n",
    "\n",
    "## DR1TOT_B\n",
    "tot_b <- read_xpt(\"Data/DR1TOT_B.xpt\")\n",
    "tot_b <- tot_b  %>% \n",
    "    select(all_of(var9902))\n",
    "\n",
    "tot <- rbind(tot, tot_b)\n",
    "\n",
    "\n",
    "## DR1TOT_C\n",
    "tot_c <- read_xpt(\"Data/DR1TOT_C.xpt\")\n",
    "tot_c <- tot_c  %>% \n",
    "    select(all_of(var0304))\n",
    "names(tot_c) <- var9902 # Same Vairbale Name\n",
    "\n",
    "tot <- rbind(tot, tot_c)\n",
    "\n",
    "\n",
    "## DR1TOT_D to DR1TOT_J\n",
    "files <- paste0(\"Data/DR1TOT_\", LETTERS[4:10], \".xpt\")  \n",
    "\n",
    "for (file in files) {\n",
    "    temp <- read_xpt(file) %>%\n",
    "        select(all_of(var0520))\n",
    "    \n",
    "    names(temp) <- var9902  #Same Vairbale Name\n",
    "    \n",
    "    tot <- rbind(tot, temp) \n",
    "}\n",
    "\n",
    "# View Data\n",
    "head(tot)\n",
    "tail(tot)"
   ]
  },
  {
   "cell_type": "markdown",
   "id": "7e45061b-ad39-4b7a-b003-70c429c91c97",
   "metadata": {},
   "source": [
    "## Merge Nhanes and DT1TOT"
   ]
  },
  {
   "cell_type": "code",
   "execution_count": 8,
   "id": "7bb9d248-2a48-4118-bb15-5d998b906b51",
   "metadata": {},
   "outputs": [
    {
     "data": {
      "text/html": [
       "<table class=\"dataframe\">\n",
       "<caption>A data.frame: 6 × 56</caption>\n",
       "<thead>\n",
       "\t<tr><th></th><th scope=col>svy_id</th><th scope=col>svy_year</th><th scope=col>demo_age_cat</th><th scope=col>demo_race</th><th scope=col>demo_race_black</th><th scope=col>demo_age_years</th><th scope=col>demo_pregnant</th><th scope=col>demo_gender</th><th scope=col>bp_sys_mean</th><th scope=col>bp_dia_mean</th><th scope=col>⋯</th><th scope=col>DRXTM201</th><th scope=col>DRXTM221</th><th scope=col>DRXTP182</th><th scope=col>DRXTP183</th><th scope=col>DRXTP184</th><th scope=col>DRXTP204</th><th scope=col>DRXTP205</th><th scope=col>DRXTP225</th><th scope=col>DRXTP226</th><th scope=col>DRD320GW</th></tr>\n",
       "\t<tr><th></th><th scope=col>&lt;int&gt;</th><th scope=col>&lt;chr&gt;</th><th scope=col>&lt;chr&gt;</th><th scope=col>&lt;chr&gt;</th><th scope=col>&lt;chr&gt;</th><th scope=col>&lt;int&gt;</th><th scope=col>&lt;chr&gt;</th><th scope=col>&lt;chr&gt;</th><th scope=col>&lt;dbl&gt;</th><th scope=col>&lt;dbl&gt;</th><th scope=col>⋯</th><th scope=col>&lt;dbl&gt;</th><th scope=col>&lt;dbl&gt;</th><th scope=col>&lt;dbl&gt;</th><th scope=col>&lt;dbl&gt;</th><th scope=col>&lt;dbl&gt;</th><th scope=col>&lt;dbl&gt;</th><th scope=col>&lt;dbl&gt;</th><th scope=col>&lt;dbl&gt;</th><th scope=col>&lt;dbl&gt;</th><th scope=col>&lt;dbl&gt;</th></tr>\n",
       "</thead>\n",
       "<tbody>\n",
       "\t<tr><th scope=row>1</th><td> 2</td><td>1999-2000</td><td>75+     </td><td>Non-Hispanic White</td><td>No </td><td>77</td><td>No</td><td>Men  </td><td>100.6667</td><td> 56.66667</td><td>⋯</td><td>0.09</td><td>0.02</td><td>10.07</td><td>1.14</td><td>0.00</td><td>0.26</td><td>0.00</td><td>0.01</td><td>0.02</td><td>   0</td></tr>\n",
       "\t<tr><th scope=row>2</th><td> 5</td><td>1999-2000</td><td>45 to 64</td><td>Non-Hispanic White</td><td>No </td><td>49</td><td>No</td><td>Men  </td><td>122.0000</td><td> 82.66667</td><td>⋯</td><td>0.18</td><td>0.00</td><td>10.03</td><td>1.25</td><td>0.00</td><td>0.07</td><td>0.00</td><td>0.01</td><td>0.01</td><td>1298</td></tr>\n",
       "\t<tr><th scope=row>3</th><td> 6</td><td>1999-2000</td><td>18 to 44</td><td>Other             </td><td>No </td><td>19</td><td>No</td><td>Women</td><td>114.6667</td><td> 68.00000</td><td>⋯</td><td>0.05</td><td>0.01</td><td> 6.41</td><td>0.69</td><td>0.00</td><td>0.03</td><td>0.00</td><td>0.00</td><td>0.00</td><td>1711</td></tr>\n",
       "\t<tr><th scope=row>4</th><td> 7</td><td>1999-2000</td><td>45 to 64</td><td>Non-Hispanic Black</td><td>Yes</td><td>59</td><td>No</td><td>Women</td><td>125.3333</td><td> 80.00000</td><td>⋯</td><td>0.08</td><td>0.01</td><td>15.31</td><td>2.23</td><td>0.06</td><td>0.13</td><td>0.15</td><td>0.03</td><td>0.20</td><td> 236</td></tr>\n",
       "\t<tr><th scope=row>5</th><td>10</td><td>1999-2000</td><td>18 to 44</td><td>Non-Hispanic Black</td><td>Yes</td><td>43</td><td>No</td><td>Men  </td><td>145.3333</td><td> 96.00000</td><td>⋯</td><td>0.20</td><td>0.01</td><td>12.73</td><td>2.06</td><td>0.00</td><td>0.28</td><td>0.00</td><td>0.00</td><td>0.00</td><td>1888</td></tr>\n",
       "\t<tr><th scope=row>6</th><td>12</td><td>1999-2000</td><td>18 to 44</td><td>Non-Hispanic White</td><td>No </td><td>37</td><td>No</td><td>Men  </td><td>176.6667</td><td>102.00000</td><td>⋯</td><td>0.31</td><td>0.33</td><td>35.46</td><td>3.46</td><td>0.00</td><td>0.49</td><td>0.01</td><td>0.00</td><td>0.09</td><td>3304</td></tr>\n",
       "</tbody>\n",
       "</table>\n"
      ],
      "text/latex": [
       "A data.frame: 6 × 56\n",
       "\\begin{tabular}{r|lllllllllllllllllllll}\n",
       "  & svy\\_id & svy\\_year & demo\\_age\\_cat & demo\\_race & demo\\_race\\_black & demo\\_age\\_years & demo\\_pregnant & demo\\_gender & bp\\_sys\\_mean & bp\\_dia\\_mean & ⋯ & DRXTM201 & DRXTM221 & DRXTP182 & DRXTP183 & DRXTP184 & DRXTP204 & DRXTP205 & DRXTP225 & DRXTP226 & DRD320GW\\\\\n",
       "  & <int> & <chr> & <chr> & <chr> & <chr> & <int> & <chr> & <chr> & <dbl> & <dbl> & ⋯ & <dbl> & <dbl> & <dbl> & <dbl> & <dbl> & <dbl> & <dbl> & <dbl> & <dbl> & <dbl>\\\\\n",
       "\\hline\n",
       "\t1 &  2 & 1999-2000 & 75+      & Non-Hispanic White & No  & 77 & No & Men   & 100.6667 &  56.66667 & ⋯ & 0.09 & 0.02 & 10.07 & 1.14 & 0.00 & 0.26 & 0.00 & 0.01 & 0.02 &    0\\\\\n",
       "\t2 &  5 & 1999-2000 & 45 to 64 & Non-Hispanic White & No  & 49 & No & Men   & 122.0000 &  82.66667 & ⋯ & 0.18 & 0.00 & 10.03 & 1.25 & 0.00 & 0.07 & 0.00 & 0.01 & 0.01 & 1298\\\\\n",
       "\t3 &  6 & 1999-2000 & 18 to 44 & Other              & No  & 19 & No & Women & 114.6667 &  68.00000 & ⋯ & 0.05 & 0.01 &  6.41 & 0.69 & 0.00 & 0.03 & 0.00 & 0.00 & 0.00 & 1711\\\\\n",
       "\t4 &  7 & 1999-2000 & 45 to 64 & Non-Hispanic Black & Yes & 59 & No & Women & 125.3333 &  80.00000 & ⋯ & 0.08 & 0.01 & 15.31 & 2.23 & 0.06 & 0.13 & 0.15 & 0.03 & 0.20 &  236\\\\\n",
       "\t5 & 10 & 1999-2000 & 18 to 44 & Non-Hispanic Black & Yes & 43 & No & Men   & 145.3333 &  96.00000 & ⋯ & 0.20 & 0.01 & 12.73 & 2.06 & 0.00 & 0.28 & 0.00 & 0.00 & 0.00 & 1888\\\\\n",
       "\t6 & 12 & 1999-2000 & 18 to 44 & Non-Hispanic White & No  & 37 & No & Men   & 176.6667 & 102.00000 & ⋯ & 0.31 & 0.33 & 35.46 & 3.46 & 0.00 & 0.49 & 0.01 & 0.00 & 0.09 & 3304\\\\\n",
       "\\end{tabular}\n"
      ],
      "text/markdown": [
       "\n",
       "A data.frame: 6 × 56\n",
       "\n",
       "| <!--/--> | svy_id &lt;int&gt; | svy_year &lt;chr&gt; | demo_age_cat &lt;chr&gt; | demo_race &lt;chr&gt; | demo_race_black &lt;chr&gt; | demo_age_years &lt;int&gt; | demo_pregnant &lt;chr&gt; | demo_gender &lt;chr&gt; | bp_sys_mean &lt;dbl&gt; | bp_dia_mean &lt;dbl&gt; | ⋯ ⋯ | DRXTM201 &lt;dbl&gt; | DRXTM221 &lt;dbl&gt; | DRXTP182 &lt;dbl&gt; | DRXTP183 &lt;dbl&gt; | DRXTP184 &lt;dbl&gt; | DRXTP204 &lt;dbl&gt; | DRXTP205 &lt;dbl&gt; | DRXTP225 &lt;dbl&gt; | DRXTP226 &lt;dbl&gt; | DRD320GW &lt;dbl&gt; |\n",
       "|---|---|---|---|---|---|---|---|---|---|---|---|---|---|---|---|---|---|---|---|---|---|\n",
       "| 1 |  2 | 1999-2000 | 75+      | Non-Hispanic White | No  | 77 | No | Men   | 100.6667 |  56.66667 | ⋯ | 0.09 | 0.02 | 10.07 | 1.14 | 0.00 | 0.26 | 0.00 | 0.01 | 0.02 |    0 |\n",
       "| 2 |  5 | 1999-2000 | 45 to 64 | Non-Hispanic White | No  | 49 | No | Men   | 122.0000 |  82.66667 | ⋯ | 0.18 | 0.00 | 10.03 | 1.25 | 0.00 | 0.07 | 0.00 | 0.01 | 0.01 | 1298 |\n",
       "| 3 |  6 | 1999-2000 | 18 to 44 | Other              | No  | 19 | No | Women | 114.6667 |  68.00000 | ⋯ | 0.05 | 0.01 |  6.41 | 0.69 | 0.00 | 0.03 | 0.00 | 0.00 | 0.00 | 1711 |\n",
       "| 4 |  7 | 1999-2000 | 45 to 64 | Non-Hispanic Black | Yes | 59 | No | Women | 125.3333 |  80.00000 | ⋯ | 0.08 | 0.01 | 15.31 | 2.23 | 0.06 | 0.13 | 0.15 | 0.03 | 0.20 |  236 |\n",
       "| 5 | 10 | 1999-2000 | 18 to 44 | Non-Hispanic Black | Yes | 43 | No | Men   | 145.3333 |  96.00000 | ⋯ | 0.20 | 0.01 | 12.73 | 2.06 | 0.00 | 0.28 | 0.00 | 0.00 | 0.00 | 1888 |\n",
       "| 6 | 12 | 1999-2000 | 18 to 44 | Non-Hispanic White | No  | 37 | No | Men   | 176.6667 | 102.00000 | ⋯ | 0.31 | 0.33 | 35.46 | 3.46 | 0.00 | 0.49 | 0.01 | 0.00 | 0.09 | 3304 |\n",
       "\n"
      ],
      "text/plain": [
       "  svy_id svy_year  demo_age_cat demo_race          demo_race_black\n",
       "1  2     1999-2000 75+          Non-Hispanic White No             \n",
       "2  5     1999-2000 45 to 64     Non-Hispanic White No             \n",
       "3  6     1999-2000 18 to 44     Other              No             \n",
       "4  7     1999-2000 45 to 64     Non-Hispanic Black Yes            \n",
       "5 10     1999-2000 18 to 44     Non-Hispanic Black Yes            \n",
       "6 12     1999-2000 18 to 44     Non-Hispanic White No             \n",
       "  demo_age_years demo_pregnant demo_gender bp_sys_mean bp_dia_mean ⋯ DRXTM201\n",
       "1 77             No            Men         100.6667     56.66667   ⋯ 0.09    \n",
       "2 49             No            Men         122.0000     82.66667   ⋯ 0.18    \n",
       "3 19             No            Women       114.6667     68.00000   ⋯ 0.05    \n",
       "4 59             No            Women       125.3333     80.00000   ⋯ 0.08    \n",
       "5 43             No            Men         145.3333     96.00000   ⋯ 0.20    \n",
       "6 37             No            Men         176.6667    102.00000   ⋯ 0.31    \n",
       "  DRXTM221 DRXTP182 DRXTP183 DRXTP184 DRXTP204 DRXTP205 DRXTP225 DRXTP226\n",
       "1 0.02     10.07    1.14     0.00     0.26     0.00     0.01     0.02    \n",
       "2 0.00     10.03    1.25     0.00     0.07     0.00     0.01     0.01    \n",
       "3 0.01      6.41    0.69     0.00     0.03     0.00     0.00     0.00    \n",
       "4 0.01     15.31    2.23     0.06     0.13     0.15     0.03     0.20    \n",
       "5 0.01     12.73    2.06     0.00     0.28     0.00     0.00     0.00    \n",
       "6 0.33     35.46    3.46     0.00     0.49     0.01     0.00     0.09    \n",
       "  DRD320GW\n",
       "1    0    \n",
       "2 1298    \n",
       "3 1711    \n",
       "4  236    \n",
       "5 1888    \n",
       "6 3304    "
      ]
     },
     "metadata": {},
     "output_type": "display_data"
    },
    {
     "data": {
      "text/html": [
       "<table class=\"dataframe\">\n",
       "<caption>A data.frame: 6 × 56</caption>\n",
       "<thead>\n",
       "\t<tr><th></th><th scope=col>svy_id</th><th scope=col>svy_year</th><th scope=col>demo_age_cat</th><th scope=col>demo_race</th><th scope=col>demo_race_black</th><th scope=col>demo_age_years</th><th scope=col>demo_pregnant</th><th scope=col>demo_gender</th><th scope=col>bp_sys_mean</th><th scope=col>bp_dia_mean</th><th scope=col>⋯</th><th scope=col>DRXTM201</th><th scope=col>DRXTM221</th><th scope=col>DRXTP182</th><th scope=col>DRXTP183</th><th scope=col>DRXTP184</th><th scope=col>DRXTP204</th><th scope=col>DRXTP205</th><th scope=col>DRXTP225</th><th scope=col>DRXTP226</th><th scope=col>DRD320GW</th></tr>\n",
       "\t<tr><th></th><th scope=col>&lt;int&gt;</th><th scope=col>&lt;chr&gt;</th><th scope=col>&lt;chr&gt;</th><th scope=col>&lt;chr&gt;</th><th scope=col>&lt;chr&gt;</th><th scope=col>&lt;int&gt;</th><th scope=col>&lt;chr&gt;</th><th scope=col>&lt;chr&gt;</th><th scope=col>&lt;dbl&gt;</th><th scope=col>&lt;dbl&gt;</th><th scope=col>⋯</th><th scope=col>&lt;dbl&gt;</th><th scope=col>&lt;dbl&gt;</th><th scope=col>&lt;dbl&gt;</th><th scope=col>&lt;dbl&gt;</th><th scope=col>&lt;dbl&gt;</th><th scope=col>&lt;dbl&gt;</th><th scope=col>&lt;dbl&gt;</th><th scope=col>&lt;dbl&gt;</th><th scope=col>&lt;dbl&gt;</th><th scope=col>&lt;dbl&gt;</th></tr>\n",
       "</thead>\n",
       "<tbody>\n",
       "\t<tr><th scope=row>59794</th><td>124814</td><td>2017-2020</td><td>45 to 64</td><td>Non-Hispanic Black</td><td>Yes</td><td>64</td><td>No</td><td>Men  </td><td>140.1667</td><td>85.36667</td><td>⋯</td><td>0.211</td><td>0.008</td><td>16.079</td><td>1.911</td><td>0.000</td><td>0.085</td><td>0.005</td><td>0.009</td><td>0.005</td><td>1014.0</td></tr>\n",
       "\t<tr><th scope=row>59795</th><td>124815</td><td>2017-2020</td><td>45 to 64</td><td>Non-Hispanic Black</td><td>Yes</td><td>52</td><td>No</td><td>Men  </td><td>141.5000</td><td>85.36667</td><td>⋯</td><td>0.403</td><td>0.066</td><td>13.748</td><td>1.040</td><td>0.106</td><td>0.455</td><td>0.008</td><td>0.030</td><td>0.093</td><td>2028.0</td></tr>\n",
       "\t<tr><th scope=row>59796</th><td>124817</td><td>2017-2020</td><td>65 to 74</td><td>Hispanic          </td><td>No </td><td>67</td><td>No</td><td>Women</td><td>113.5000</td><td>66.03333</td><td>⋯</td><td>0.106</td><td>0.000</td><td> 8.038</td><td>0.832</td><td>0.001</td><td>0.392</td><td>0.003</td><td>0.025</td><td>0.111</td><td>1521.0</td></tr>\n",
       "\t<tr><th scope=row>59797</th><td>124818</td><td>2017-2020</td><td>18 to 44</td><td>Non-Hispanic Black</td><td>Yes</td><td>40</td><td>No</td><td>Men  </td><td>104.5000</td><td>66.03333</td><td>⋯</td><td>0.444</td><td>0.004</td><td>41.362</td><td>4.263</td><td>0.000</td><td>0.088</td><td>0.010</td><td>0.019</td><td>0.006</td><td>   0.0</td></tr>\n",
       "\t<tr><th scope=row>59798</th><td>124821</td><td>2017-2020</td><td>45 to 64</td><td>Non-Hispanic Black</td><td>Yes</td><td>63</td><td>No</td><td>Men  </td><td>125.5000</td><td>65.36667</td><td>⋯</td><td>0.546</td><td>0.020</td><td>17.314</td><td>1.944</td><td>0.009</td><td>0.309</td><td>0.124</td><td>0.090</td><td>0.350</td><td>1267.5</td></tr>\n",
       "\t<tr><th scope=row>59799</th><td>124822</td><td>2017-2020</td><td>65 to 74</td><td>Hispanic          </td><td>No </td><td>74</td><td>No</td><td>Men  </td><td>123.5000</td><td>55.03333</td><td>⋯</td><td>   NA</td><td>   NA</td><td>    NA</td><td>   NA</td><td>   NA</td><td>   NA</td><td>   NA</td><td>   NA</td><td>   NA</td><td>    NA</td></tr>\n",
       "</tbody>\n",
       "</table>\n"
      ],
      "text/latex": [
       "A data.frame: 6 × 56\n",
       "\\begin{tabular}{r|lllllllllllllllllllll}\n",
       "  & svy\\_id & svy\\_year & demo\\_age\\_cat & demo\\_race & demo\\_race\\_black & demo\\_age\\_years & demo\\_pregnant & demo\\_gender & bp\\_sys\\_mean & bp\\_dia\\_mean & ⋯ & DRXTM201 & DRXTM221 & DRXTP182 & DRXTP183 & DRXTP184 & DRXTP204 & DRXTP205 & DRXTP225 & DRXTP226 & DRD320GW\\\\\n",
       "  & <int> & <chr> & <chr> & <chr> & <chr> & <int> & <chr> & <chr> & <dbl> & <dbl> & ⋯ & <dbl> & <dbl> & <dbl> & <dbl> & <dbl> & <dbl> & <dbl> & <dbl> & <dbl> & <dbl>\\\\\n",
       "\\hline\n",
       "\t59794 & 124814 & 2017-2020 & 45 to 64 & Non-Hispanic Black & Yes & 64 & No & Men   & 140.1667 & 85.36667 & ⋯ & 0.211 & 0.008 & 16.079 & 1.911 & 0.000 & 0.085 & 0.005 & 0.009 & 0.005 & 1014.0\\\\\n",
       "\t59795 & 124815 & 2017-2020 & 45 to 64 & Non-Hispanic Black & Yes & 52 & No & Men   & 141.5000 & 85.36667 & ⋯ & 0.403 & 0.066 & 13.748 & 1.040 & 0.106 & 0.455 & 0.008 & 0.030 & 0.093 & 2028.0\\\\\n",
       "\t59796 & 124817 & 2017-2020 & 65 to 74 & Hispanic           & No  & 67 & No & Women & 113.5000 & 66.03333 & ⋯ & 0.106 & 0.000 &  8.038 & 0.832 & 0.001 & 0.392 & 0.003 & 0.025 & 0.111 & 1521.0\\\\\n",
       "\t59797 & 124818 & 2017-2020 & 18 to 44 & Non-Hispanic Black & Yes & 40 & No & Men   & 104.5000 & 66.03333 & ⋯ & 0.444 & 0.004 & 41.362 & 4.263 & 0.000 & 0.088 & 0.010 & 0.019 & 0.006 &    0.0\\\\\n",
       "\t59798 & 124821 & 2017-2020 & 45 to 64 & Non-Hispanic Black & Yes & 63 & No & Men   & 125.5000 & 65.36667 & ⋯ & 0.546 & 0.020 & 17.314 & 1.944 & 0.009 & 0.309 & 0.124 & 0.090 & 0.350 & 1267.5\\\\\n",
       "\t59799 & 124822 & 2017-2020 & 65 to 74 & Hispanic           & No  & 74 & No & Men   & 123.5000 & 55.03333 & ⋯ &    NA &    NA &     NA &    NA &    NA &    NA &    NA &    NA &    NA &     NA\\\\\n",
       "\\end{tabular}\n"
      ],
      "text/markdown": [
       "\n",
       "A data.frame: 6 × 56\n",
       "\n",
       "| <!--/--> | svy_id &lt;int&gt; | svy_year &lt;chr&gt; | demo_age_cat &lt;chr&gt; | demo_race &lt;chr&gt; | demo_race_black &lt;chr&gt; | demo_age_years &lt;int&gt; | demo_pregnant &lt;chr&gt; | demo_gender &lt;chr&gt; | bp_sys_mean &lt;dbl&gt; | bp_dia_mean &lt;dbl&gt; | ⋯ ⋯ | DRXTM201 &lt;dbl&gt; | DRXTM221 &lt;dbl&gt; | DRXTP182 &lt;dbl&gt; | DRXTP183 &lt;dbl&gt; | DRXTP184 &lt;dbl&gt; | DRXTP204 &lt;dbl&gt; | DRXTP205 &lt;dbl&gt; | DRXTP225 &lt;dbl&gt; | DRXTP226 &lt;dbl&gt; | DRD320GW &lt;dbl&gt; |\n",
       "|---|---|---|---|---|---|---|---|---|---|---|---|---|---|---|---|---|---|---|---|---|---|\n",
       "| 59794 | 124814 | 2017-2020 | 45 to 64 | Non-Hispanic Black | Yes | 64 | No | Men   | 140.1667 | 85.36667 | ⋯ | 0.211 | 0.008 | 16.079 | 1.911 | 0.000 | 0.085 | 0.005 | 0.009 | 0.005 | 1014.0 |\n",
       "| 59795 | 124815 | 2017-2020 | 45 to 64 | Non-Hispanic Black | Yes | 52 | No | Men   | 141.5000 | 85.36667 | ⋯ | 0.403 | 0.066 | 13.748 | 1.040 | 0.106 | 0.455 | 0.008 | 0.030 | 0.093 | 2028.0 |\n",
       "| 59796 | 124817 | 2017-2020 | 65 to 74 | Hispanic           | No  | 67 | No | Women | 113.5000 | 66.03333 | ⋯ | 0.106 | 0.000 |  8.038 | 0.832 | 0.001 | 0.392 | 0.003 | 0.025 | 0.111 | 1521.0 |\n",
       "| 59797 | 124818 | 2017-2020 | 18 to 44 | Non-Hispanic Black | Yes | 40 | No | Men   | 104.5000 | 66.03333 | ⋯ | 0.444 | 0.004 | 41.362 | 4.263 | 0.000 | 0.088 | 0.010 | 0.019 | 0.006 |    0.0 |\n",
       "| 59798 | 124821 | 2017-2020 | 45 to 64 | Non-Hispanic Black | Yes | 63 | No | Men   | 125.5000 | 65.36667 | ⋯ | 0.546 | 0.020 | 17.314 | 1.944 | 0.009 | 0.309 | 0.124 | 0.090 | 0.350 | 1267.5 |\n",
       "| 59799 | 124822 | 2017-2020 | 65 to 74 | Hispanic           | No  | 74 | No | Men   | 123.5000 | 55.03333 | ⋯ |    NA |    NA |     NA |    NA |    NA |    NA |    NA |    NA |    NA |     NA |\n",
       "\n"
      ],
      "text/plain": [
       "      svy_id svy_year  demo_age_cat demo_race          demo_race_black\n",
       "59794 124814 2017-2020 45 to 64     Non-Hispanic Black Yes            \n",
       "59795 124815 2017-2020 45 to 64     Non-Hispanic Black Yes            \n",
       "59796 124817 2017-2020 65 to 74     Hispanic           No             \n",
       "59797 124818 2017-2020 18 to 44     Non-Hispanic Black Yes            \n",
       "59798 124821 2017-2020 45 to 64     Non-Hispanic Black Yes            \n",
       "59799 124822 2017-2020 65 to 74     Hispanic           No             \n",
       "      demo_age_years demo_pregnant demo_gender bp_sys_mean bp_dia_mean ⋯\n",
       "59794 64             No            Men         140.1667    85.36667    ⋯\n",
       "59795 52             No            Men         141.5000    85.36667    ⋯\n",
       "59796 67             No            Women       113.5000    66.03333    ⋯\n",
       "59797 40             No            Men         104.5000    66.03333    ⋯\n",
       "59798 63             No            Men         125.5000    65.36667    ⋯\n",
       "59799 74             No            Men         123.5000    55.03333    ⋯\n",
       "      DRXTM201 DRXTM221 DRXTP182 DRXTP183 DRXTP184 DRXTP204 DRXTP205 DRXTP225\n",
       "59794 0.211    0.008    16.079   1.911    0.000    0.085    0.005    0.009   \n",
       "59795 0.403    0.066    13.748   1.040    0.106    0.455    0.008    0.030   \n",
       "59796 0.106    0.000     8.038   0.832    0.001    0.392    0.003    0.025   \n",
       "59797 0.444    0.004    41.362   4.263    0.000    0.088    0.010    0.019   \n",
       "59798 0.546    0.020    17.314   1.944    0.009    0.309    0.124    0.090   \n",
       "59799    NA       NA        NA      NA       NA       NA       NA       NA   \n",
       "      DRXTP226 DRD320GW\n",
       "59794 0.005    1014.0  \n",
       "59795 0.093    2028.0  \n",
       "59796 0.111    1521.0  \n",
       "59797 0.006       0.0  \n",
       "59798 0.350    1267.5  \n",
       "59799    NA        NA  "
      ]
     },
     "metadata": {},
     "output_type": "display_data"
    }
   ],
   "source": [
    "merge_df <- merge(nahnes, tot, by.x = \"svy_id\", by.y = \"SEQN\")\n",
    "\n",
    "head(merge_df)\n",
    "tail(merge_df)"
   ]
  },
  {
   "cell_type": "markdown",
   "id": "8786e647-b7a0-49ad-8a74-952c0eda74fc",
   "metadata": {},
   "source": [
    "## cleaning the data"
   ]
  },
  {
   "cell_type": "code",
   "execution_count": 9,
   "id": "6346ac6b-9c0c-4c01-a331-8b9f9c76dfc1",
   "metadata": {},
   "outputs": [],
   "source": [
    "##' exclude pregnant women and missing responses on bp\n",
    "merge_df <- merge_df %>% \n",
    "  filter(demo_pregnant == \"No\") %>% \n",
    "  filter(!is.na(bp_sys_mean) & !is.na(bp_dia_mean))"
   ]
  },
  {
   "cell_type": "markdown",
   "id": "54897988-3a41-4118-a2e6-e7b455b45325",
   "metadata": {},
   "source": [
    "Tried locally that most missing values are missing together as an observation for all year cycle. Specifically, those variables missing together are the ones that represent types of fatty acids. `cc_bmi` and `DRD320GW` have missing indexes partially overlapping with the acids.\n",
    "And no variable is missing more than 10% of the total sample size of the year cycle. So the complete merged data set can be imputed using the union of indexes of all year cycles."
   ]
  },
  {
   "cell_type": "code",
   "execution_count": 10,
   "id": "3285a79a-dfd9-446c-8c32-e36a958dbba8",
   "metadata": {},
   "outputs": [],
   "source": [
    "# together:\n",
    "ms_idx<- lapply(names(merge_df), function(col) which(is.na(merge_df[[col]])))\n",
    "names(ms_idx) <- names(merge_df)\n",
    "ms_idx_len <- lapply(ms_idx, length)\n",
    "\n",
    "# delete the union of the indexes\n",
    "mid_u <- union(ms_idx$DRD320GW, ms_idx$DRXTP226)\n",
    "union_idx <- union(ms_idx$cc_bmi, mid_u)\n",
    "merge_df_cln <- merge_df[-union_idx,]\n",
    "# check: get the missing value indexes again\n",
    "ms_idx_cln <- lapply(names(merge_df_cln), function(col) which(is.na(merge_df_cln[[col]])))\n",
    "names(ms_idx_cln) <- names(merge_df_cln)\n",
    "ms_idx_cln_len <- lapply(ms_idx_cln, length)"
   ]
  },
  {
   "cell_type": "code",
   "execution_count": 11,
   "id": "f8f984a2-ccd8-49b1-86d9-17e63354f81d",
   "metadata": {},
   "outputs": [
    {
     "name": "stdout",
     "output_type": "stream",
     "text": [
      "$svy_id\n",
      "[1] 0\n",
      "\n",
      "$svy_year\n",
      "[1] 0\n",
      "\n",
      "$demo_age_cat\n",
      "[1] 0\n",
      "\n",
      "$demo_race\n",
      "[1] 0\n",
      "\n",
      "$demo_race_black\n",
      "[1] 0\n",
      "\n",
      "$demo_age_years\n",
      "[1] 0\n",
      "\n",
      "$demo_pregnant\n",
      "[1] 0\n",
      "\n",
      "$demo_gender\n",
      "[1] 0\n",
      "\n",
      "$bp_sys_mean\n",
      "[1] 0\n",
      "\n",
      "$bp_dia_mean\n",
      "[1] 0\n",
      "\n",
      "$cc_bmi\n",
      "[1] 0\n",
      "\n",
      "$DRXTPROT\n",
      "[1] 0\n",
      "\n",
      "$DRXTCARB\n",
      "[1] 0\n",
      "\n",
      "$DRXTTFAT\n",
      "[1] 0\n",
      "\n",
      "$DRXTSFAT\n",
      "[1] 0\n",
      "\n",
      "$DRXTMFAT\n",
      "[1] 0\n",
      "\n",
      "$DRXTPFAT\n",
      "[1] 0\n",
      "\n",
      "$DRXTCHOL\n",
      "[1] 0\n",
      "\n",
      "$DRXTFIBE\n",
      "[1] 0\n",
      "\n",
      "$DRXTVB6\n",
      "[1] 0\n",
      "\n",
      "$DRXTVB12\n",
      "[1] 0\n",
      "\n",
      "$DRXTFOLA\n",
      "[1] 0\n",
      "\n",
      "$DRXTVC\n",
      "[1] 0\n",
      "\n",
      "$DRXTCALC\n",
      "[1] 0\n",
      "\n",
      "$DRXTPHOS\n",
      "[1] 0\n",
      "\n",
      "$DRXTMAGN\n",
      "[1] 0\n",
      "\n",
      "$DRXTIRON\n",
      "[1] 0\n",
      "\n",
      "$DRXTZINC\n",
      "[1] 0\n",
      "\n",
      "$DRXTCOPP\n",
      "[1] 0\n",
      "\n",
      "$DRDTSODI\n",
      "[1] 0\n",
      "\n",
      "$DRXTPOTA\n",
      "[1] 0\n",
      "\n",
      "$DRXTSELE\n",
      "[1] 0\n",
      "\n",
      "$DRXTCAFF\n",
      "[1] 0\n",
      "\n",
      "$DRXTTHEO\n",
      "[1] 0\n",
      "\n",
      "$DRXTALCO\n",
      "[1] 0\n",
      "\n",
      "$DRXTMOIS\n",
      "[1] 0\n",
      "\n",
      "$DRXTS040\n",
      "[1] 0\n",
      "\n",
      "$DRXTS060\n",
      "[1] 0\n",
      "\n",
      "$DRXTS080\n",
      "[1] 0\n",
      "\n",
      "$DRXTS100\n",
      "[1] 0\n",
      "\n",
      "$DRXTS120\n",
      "[1] 0\n",
      "\n",
      "$DRXTS140\n",
      "[1] 0\n",
      "\n",
      "$DRXTS160\n",
      "[1] 0\n",
      "\n",
      "$DRXTS180\n",
      "[1] 0\n",
      "\n",
      "$DRXTM161\n",
      "[1] 0\n",
      "\n",
      "$DRXTM181\n",
      "[1] 0\n",
      "\n",
      "$DRXTM201\n",
      "[1] 0\n",
      "\n",
      "$DRXTM221\n",
      "[1] 0\n",
      "\n",
      "$DRXTP182\n",
      "[1] 0\n",
      "\n",
      "$DRXTP183\n",
      "[1] 0\n",
      "\n",
      "$DRXTP184\n",
      "[1] 0\n",
      "\n",
      "$DRXTP204\n",
      "[1] 0\n",
      "\n",
      "$DRXTP205\n",
      "[1] 0\n",
      "\n",
      "$DRXTP225\n",
      "[1] 0\n",
      "\n",
      "$DRXTP226\n",
      "[1] 0\n",
      "\n",
      "$DRD320GW\n",
      "[1] 0\n",
      "\n"
     ]
    }
   ],
   "source": [
    "# print the length of missing values for each variable\n",
    "print(ms_idx_cln_len)"
   ]
  },
  {
   "cell_type": "markdown",
   "id": "b26e3537-c037-4b02-b7f0-25c4c8faad72",
   "metadata": {},
   "source": [
    "## EDA and univariate analysis"
   ]
  },
  {
   "cell_type": "code",
   "execution_count": 12,
   "id": "0b671e2b-414b-428d-8423-6e7d9b761314",
   "metadata": {},
   "outputs": [
    {
     "data": {
      "text/plain": [
       "     svy_id         svy_year         demo_age_cat        demo_race        \n",
       " Min.   :     2   Length:50563       Length:50563       Length:50563      \n",
       " 1st Qu.: 30064   Class :character   Class :character   Class :character  \n",
       " Median : 56211   Mode  :character   Mode  :character   Mode  :character  \n",
       " Mean   : 58259                                                           \n",
       " 3rd Qu.: 82919                                                           \n",
       " Max.   :124821                                                           \n",
       " demo_race_black    demo_age_years  demo_pregnant      demo_gender       \n",
       " Length:50563       Min.   :18.00   Length:50563       Length:50563      \n",
       " Class :character   1st Qu.:31.00   Class :character   Class :character  \n",
       " Mode  :character   Median :47.00   Mode  :character   Mode  :character  \n",
       "                    Mean   :47.75                                        \n",
       "                    3rd Qu.:63.00                                        \n",
       "                    Max.   :80.00                                        \n",
       "  bp_sys_mean      bp_dia_mean        cc_bmi             DRXTPROT     \n",
       " Min.   : 64.67   Min.   :  8.00   Length:50563       Min.   :  0.00  \n",
       " 1st Qu.:111.33   1st Qu.: 63.33   Class :character   1st Qu.: 51.66  \n",
       " Median :121.17   Median : 70.67   Mode  :character   Median : 72.95  \n",
       " Mean   :124.36   Mean   : 70.68                      Mean   : 80.79  \n",
       " 3rd Qu.:134.00   3rd Qu.: 78.00                      3rd Qu.:100.62  \n",
       " Max.   :270.00   Max.   :133.70                      Max.   :718.42  \n",
       "    DRXTCARB         DRXTTFAT         DRXTSFAT         DRXTMFAT     \n",
       " Min.   :   0.0   Min.   :  0.00   Min.   :  0.00   Min.   :  0.00  \n",
       " 1st Qu.: 169.0   1st Qu.: 47.85   1st Qu.: 14.49   1st Qu.: 16.73  \n",
       " Median : 235.3   Median : 71.85   Median : 22.63   Median : 25.66  \n",
       " Mean   : 258.2   Mean   : 80.84   Mean   : 26.20   Mean   : 29.26  \n",
       " 3rd Qu.: 320.3   3rd Qu.:103.44   3rd Qu.: 34.07   3rd Qu.: 37.68  \n",
       " Max.   :1815.0   Max.   :839.65   Max.   :268.59   Max.   :339.93  \n",
       "    DRXTPFAT         DRXTCHOL         DRXTFIBE         DRXTVB6      \n",
       " Min.   :  0.00   Min.   :   0.0   Min.   :  0.00   Min.   : 0.000  \n",
       " 1st Qu.:  9.57   1st Qu.: 129.0   1st Qu.:  9.10   1st Qu.: 1.111  \n",
       " Median : 15.30   Median : 225.0   Median : 14.00   Median : 1.667  \n",
       " Mean   : 18.04   Mean   : 296.7   Mean   : 16.22   Mean   : 1.983  \n",
       " 3rd Qu.: 23.38   3rd Qu.: 394.0   3rd Qu.: 20.80   3rd Qu.: 2.430  \n",
       " Max.   :218.70   Max.   :3092.7   Max.   :147.60   Max.   :48.321  \n",
       "    DRXTVB12          DRXTFOLA          DRXTVC          DRXTCALC      \n",
       " Min.   :  0.000   Min.   :   0.0   Min.   :   0.0   Min.   :    0.0  \n",
       " 1st Qu.:  2.030   1st Qu.: 226.0   1st Qu.:  21.7   1st Qu.:  488.0  \n",
       " Median :  3.650   Median : 336.0   Median :  54.4   Median :  767.0  \n",
       " Mean   :  5.008   Mean   : 388.7   Mean   :  87.1   Mean   :  890.7  \n",
       " 3rd Qu.:  6.120   3rd Qu.: 489.0   3rd Qu.: 118.7   3rd Qu.: 1141.0  \n",
       " Max.   :381.080   Max.   :4803.0   Max.   :2261.0   Max.   :11448.0  \n",
       "    DRXTPHOS        DRXTMAGN         DRXTIRON         DRXTZINC     \n",
       " Min.   :    0   Min.   :   0.0   Min.   :  0.00   Min.   :  0.00  \n",
       " 1st Qu.:  859   1st Qu.: 185.4   1st Qu.:  8.86   1st Qu.:  6.50  \n",
       " Median : 1202   Median : 260.0   Median : 12.78   Median :  9.61  \n",
       " Mean   : 1322   Mean   : 287.3   Mean   : 14.70   Mean   : 11.30  \n",
       " 3rd Qu.: 1648   3rd Qu.: 357.0   3rd Qu.: 18.31   3rd Qu.: 14.02  \n",
       " Max.   :11529   Max.   :2725.0   Max.   :147.88   Max.   :585.47  \n",
       "    DRXTCOPP         DRDTSODI        DRXTPOTA        DRXTSELE     \n",
       " Min.   : 0.000   Min.   :    0   Min.   :    0   Min.   :   0.0  \n",
       " 1st Qu.: 0.767   1st Qu.: 2155   1st Qu.: 1706   1st Qu.:  67.9  \n",
       " Median : 1.083   Median : 3076   Median : 2398   Median :  98.2  \n",
       " Mean   : 1.251   Mean   : 3419   Mean   : 2602   Mean   : 110.7  \n",
       " 3rd Qu.: 1.507   3rd Qu.: 4278   3rd Qu.: 3257   3rd Qu.: 138.4  \n",
       " Max.   :59.605   Max.   :25949   Max.   :19175   Max.   :1265.9  \n",
       "    DRXTCAFF          DRXTTHEO          DRXTALCO          DRXTMOIS    \n",
       " Min.   :   0.00   Min.   :   0.00   Min.   :   0.00   Min.   :    0  \n",
       " 1st Qu.:   9.43   1st Qu.:   0.00   1st Qu.:   0.00   1st Qu.: 1620  \n",
       " Median :  93.00   Median :   0.00   Median :   0.00   Median : 2319  \n",
       " Mean   : 149.82   Mean   :  35.45   Mean   :  10.04   Mean   : 2625  \n",
       " 3rd Qu.: 206.00   3rd Qu.:  37.00   3rd Qu.:   0.00   3rd Qu.: 3267  \n",
       " Max.   :5151.00   Max.   :2038.00   Max.   :1152.80   Max.   :18266  \n",
       "    DRXTS040         DRXTS060         DRXTS080          DRXTS100      \n",
       " Min.   :0.0000   Min.   :0.0000   Min.   : 0.0000   Min.   : 0.0000  \n",
       " 1st Qu.:0.1320   1st Qu.:0.0790   1st Qu.: 0.0700   1st Qu.: 0.1430  \n",
       " Median :0.3520   Median :0.2040   Median : 0.1650   Median : 0.3300  \n",
       " Mean   :0.4969   Mean   :0.2872   Mean   : 0.2385   Mean   : 0.4479  \n",
       " 3rd Qu.:0.6950   3rd Qu.:0.4000   3rd Qu.: 0.3190   3rd Qu.: 0.6160  \n",
       " Max.   :9.3900   Max.   :5.6340   Max.   :10.8170   Max.   :10.7270  \n",
       "    DRXTS120          DRXTS140         DRXTS160          DRXTS180     \n",
       " Min.   : 0.0000   Min.   : 0.000   Min.   :  0.000   Min.   : 0.000  \n",
       " 1st Qu.: 0.1920   1st Qu.: 0.850   1st Qu.:  8.152   1st Qu.: 3.561  \n",
       " Median : 0.4420   Median : 1.687   Median : 12.551   Median : 5.696  \n",
       " Mean   : 0.7831   Mean   : 2.152   Mean   : 14.354   Mean   : 6.583  \n",
       " 3rd Qu.: 0.8820   3rd Qu.: 2.900   3rd Qu.: 18.500   3rd Qu.: 8.579  \n",
       " Max.   :63.7500   Max.   :37.283   Max.   :129.323   Max.   :61.594  \n",
       "    DRXTM161         DRXTM181         DRXTM201          DRXTM221       \n",
       " Min.   : 0.000   Min.   :  0.00   Min.   : 0.0000   Min.   : 0.00000  \n",
       " 1st Qu.: 0.587   1st Qu.: 15.51   1st Qu.: 0.1100   1st Qu.: 0.00100  \n",
       " Median : 1.008   Median : 23.86   Median : 0.2020   Median : 0.00700  \n",
       " Mean   : 1.231   Mean   : 27.25   Mean   : 0.2707   Mean   : 0.03425  \n",
       " 3rd Qu.: 1.613   3rd Qu.: 35.10   3rd Qu.: 0.3460   3rd Qu.: 0.02800  \n",
       " Max.   :22.880   Max.   :328.84   Max.   :18.1190   Max.   :25.31500  \n",
       "    DRXTP182         DRXTP183         DRXTP184          DRXTP204     \n",
       " Min.   :  0.00   Min.   : 0.000   Min.   :0.00000   Min.   :0.0000  \n",
       " 1st Qu.:  8.32   1st Qu.: 0.800   1st Qu.:0.00000   1st Qu.:0.0570  \n",
       " Median : 13.45   Median : 1.310   Median :0.00000   Median :0.1130  \n",
       " Mean   : 15.93   Mean   : 1.622   Mean   :0.01092   Mean   :0.1497  \n",
       " 3rd Qu.: 20.69   3rd Qu.: 2.067   3rd Qu.:0.00300   3rd Qu.:0.2030  \n",
       " Max.   :195.39   Max.   :38.127   Max.   :0.92700   Max.   :3.0080  \n",
       "    DRXTP205          DRXTP225          DRXTP226         DRD320GW    \n",
       " Min.   :0.00000   Min.   :0.00000   Min.   :0.0000   Min.   :    0  \n",
       " 1st Qu.:0.00100   1st Qu.:0.00100   1st Qu.:0.0020   1st Qu.:  240  \n",
       " Median :0.00600   Median :0.01100   Median :0.0170   Median :  826  \n",
       " Mean   :0.03817   Mean   :0.02253   Mean   :0.0738   Mean   : 1098  \n",
       " 3rd Qu.:0.01600   3rd Qu.:0.02600   3rd Qu.:0.0600   3rd Qu.: 1570  \n",
       " Max.   :4.11400   Max.   :2.42700   Max.   :8.7170   Max.   :16727  "
      ]
     },
     "metadata": {},
     "output_type": "display_data"
    }
   ],
   "source": [
    "summary(merge_df_cln)"
   ]
  },
  {
   "cell_type": "code",
   "execution_count": 58,
   "id": "e608d69b-e0dd-4c37-8f80-7c7748c254d3",
   "metadata": {},
   "outputs": [
    {
     "name": "stderr",
     "output_type": "stream",
     "text": [
      "Installing package into 'C:/Users/11366/AppData/Local/R/win-library/4.4'\n",
      "(as 'lib' is unspecified)\n",
      "\n",
      "also installing the dependencies 'timeSeries', 'gss', 'rmutil', 'clue', 'fBasics', 'stable', 'stabledist', 'statip'\n",
      "\n",
      "\n"
     ]
    },
    {
     "name": "stdout",
     "output_type": "stream",
     "text": [
      "package 'timeSeries' successfully unpacked and MD5 sums checked\n",
      "package 'gss' successfully unpacked and MD5 sums checked\n",
      "package 'rmutil' successfully unpacked and MD5 sums checked\n",
      "package 'clue' successfully unpacked and MD5 sums checked\n",
      "package 'fBasics' successfully unpacked and MD5 sums checked\n",
      "package 'stable' successfully unpacked and MD5 sums checked\n",
      "package 'stabledist' successfully unpacked and MD5 sums checked\n",
      "package 'statip' successfully unpacked and MD5 sums checked\n",
      "package 'modeest' successfully unpacked and MD5 sums checked\n",
      "\n",
      "The downloaded binary packages are in\n",
      "\tC:\\Users\\11366\\AppData\\Local\\Temp\\RtmpKg7Nf2\\downloaded_packages\n"
     ]
    },
    {
     "ename": "ERROR",
     "evalue": "Error in mlv(column, method = \"mfv\")$M: $ operator is invalid for atomic vectors\n",
     "output_type": "error",
     "traceback": [
      "Error in mlv(column, method = \"mfv\")$M: $ operator is invalid for atomic vectors\nTraceback:\n",
      "1. .handleSimpleError(function (cnd) \n . {\n .     watcher$capture_plot_and_output()\n .     cnd <- sanitize_call(cnd)\n .     watcher$push(cnd)\n .     switch(on_error, continue = invokeRestart(\"eval_continue\"), \n .         stop = invokeRestart(\"eval_stop\"), error = NULL)\n . }, \"$ operator is invalid for atomic vectors\", base::quote(mlv(column, \n .     method = \"mfv\")$M))"
     ]
    }
   ],
   "source": [
    "calculate_stats <- function(data) {\n",
    "  # Load necessary package\n",
    "  if (!requireNamespace(\"dplyr\", quietly = TRUE)) install.packages(\"dplyr\")\n",
    "  if (!requireNamespace(\"modeest\", quietly = TRUE)) install.packages(\"modeest\")\n",
    "\n",
    "  library(dplyr)\n",
    "  library(modeest)\n",
    "\n",
    "  # Initialize an empty list to store results\n",
    "  results <- list()\n",
    "  \n",
    "  # Iterate through each column\n",
    "  for (col_name in colnames(data)) {\n",
    "    column <- data[[col_name]]\n",
    "    \n",
    "    if (is.numeric(column)) {\n",
    "      # Calculate mean, median, and mode for numeric columns\n",
    "      mean_value <- mean(column, na.rm = TRUE)\n",
    "      median_value <- median(column, na.rm = TRUE)\n",
    "      mode_value <- mlv(column, method = \"mfv\")$M\n",
    "      \n",
    "      # Store results in a sublist\n",
    "      results[[col_name]] <- list(\n",
    "        type = \"numeric\",\n",
    "        mean = mean_value,\n",
    "        median = median_value,\n",
    "        mode = mode_value\n",
    "      )\n",
    "      \n",
    "    } else {\n",
    "      # Convert character columns to factor\n",
    "      data[[col_name]] <- as.factor(column)\n",
    "      \n",
    "      # Calculate frequency table for categorical variables\n",
    "      freq_table <- table(data[[col_name]])\n",
    "      \n",
    "      # Store results in a sublist\n",
    "      results[[col_name]] <- list(\n",
    "        type = \"categorical\",\n",
    "        frequencies = as.list(freq_table)\n",
    "      )\n",
    "    }\n",
    "  }\n",
    "  \n",
    "  # Return both the computed statistics and the modified dataset\n",
    "  return(list(statistics = results, modified_data = data))\n",
    "}\n",
    "\n",
    "# Example usage\n",
    "# df <- data.frame(num_col = c(1, 2, 2, 3, 4, 4, 4, NA), char_col = c(\"A\", \"B\", \"A\", \"B\", \"C\", \"C\", \"C\", \"C\"))\n",
    "result <- calculate_stats(merge_df_cln)\n",
    "# print(result$statistics)\n",
    "# print(str(result$modified_data))\n"
   ]
  },
  {
   "cell_type": "code",
   "execution_count": null,
   "id": "3e13b956-3b5d-4275-a235-259799ef925b",
   "metadata": {},
   "outputs": [],
   "source": [
    "mlv(column, method = \"mfv\")$M"
   ]
  },
  {
   "cell_type": "code",
   "execution_count": 13,
   "id": "b8fb1a62-cd72-4cec-b07a-20ca4c3f058d",
   "metadata": {},
   "outputs": [
    {
     "data": {
      "text/html": [
       "<style>\n",
       ".dl-inline {width: auto; margin:0; padding: 0}\n",
       ".dl-inline>dt, .dl-inline>dd {float: none; width: auto; display: inline-block}\n",
       ".dl-inline>dt::after {content: \":\\0020\"; padding-right: .5ex}\n",
       ".dl-inline>dt:not(:first-of-type) {padding-left: .5ex}\n",
       "</style><dl class=dl-inline><dt>18 to 44</dt><dd>22945</dd><dt>45 to 64</dt><dd>16029</dd><dt>65 to 74</dt><dd>6508</dd><dt>75+</dt><dd>5081</dd></dl>\n"
      ],
      "text/latex": [
       "\\begin{description*}\n",
       "\\item[18 to 44] 22945\n",
       "\\item[45 to 64] 16029\n",
       "\\item[65 to 74] 6508\n",
       "\\item[75+] 5081\n",
       "\\end{description*}\n"
      ],
      "text/markdown": [
       "18 to 44\n",
       ":   2294545 to 64\n",
       ":   1602965 to 74\n",
       ":   650875+\n",
       ":   5081\n",
       "\n"
      ],
      "text/plain": [
       "18 to 44 45 to 64 65 to 74      75+ \n",
       "   22945    16029     6508     5081 "
      ]
     },
     "metadata": {},
     "output_type": "display_data"
    }
   ],
   "source": [
    "summary(as.factor(merge_df_cln$demo_age_cat))"
   ]
  },
  {
   "cell_type": "code",
   "execution_count": 15,
   "id": "72367ee2-2e58-4ffa-b2d9-25ef9b71641b",
   "metadata": {},
   "outputs": [
    {
     "data": {
      "text/html": [
       "<style>\n",
       ".dl-inline {width: auto; margin:0; padding: 0}\n",
       ".dl-inline>dt, .dl-inline>dd {float: none; width: auto; display: inline-block}\n",
       ".dl-inline>dt::after {content: \":\\0020\"; padding-right: .5ex}\n",
       ".dl-inline>dt:not(:first-of-type) {padding-left: .5ex}\n",
       "</style><dl class=dl-inline><dt>18</dt><dd>1831</dd><dt>19</dt><dd>1718</dd><dt>20</dt><dd>792</dd><dt>21</dt><dd>780</dd><dt>22</dt><dd>815</dd><dt>23</dt><dd>797</dd><dt>24</dt><dd>754</dd><dt>25</dt><dd>734</dd><dt>26</dt><dd>717</dd><dt>27</dt><dd>699</dd><dt>28</dt><dd>740</dd><dt>29</dt><dd>760</dd><dt>30</dt><dd>765</dd><dt>31</dt><dd>771</dd><dt>32</dt><dd>786</dd><dt>33</dt><dd>725</dd><dt>34</dt><dd>778</dd><dt>35</dt><dd>715</dd><dt>36</dt><dd>800</dd><dt>37</dt><dd>753</dd><dt>38</dt><dd>768</dd><dt>39</dt><dd>805</dd><dt>40</dt><dd>870</dd><dt>41</dt><dd>824</dd><dt>42</dt><dd>805</dd><dt>43</dt><dd>821</dd><dt>44</dt><dd>822</dd><dt>45</dt><dd>868</dd><dt>46</dt><dd>829</dd><dt>47</dt><dd>796</dd><dt>48</dt><dd>788</dd><dt>49</dt><dd>753</dd><dt>50</dt><dd>799</dd><dt>51</dt><dd>841</dd><dt>52</dt><dd>803</dd><dt>53</dt><dd>769</dd><dt>54</dt><dd>806</dd><dt>55</dt><dd>752</dd><dt>56</dt><dd>713</dd><dt>57</dt><dd>658</dd><dt>58</dt><dd>594</dd><dt>59</dt><dd>650</dd><dt>60</dt><dd>1068</dd><dt>61</dt><dd>966</dd><dt>62</dt><dd>919</dd><dt>63</dt><dd>871</dd><dt>64</dt><dd>786</dd><dt>65</dt><dd>775</dd><dt>66</dt><dd>743</dd><dt>67</dt><dd>681</dd><dt>68</dt><dd>659</dd><dt>69</dt><dd>616</dd><dt>70</dt><dd>720</dd><dt>71</dt><dd>621</dd><dt>72</dt><dd>606</dd><dt>73</dt><dd>564</dd><dt>74</dt><dd>523</dd><dt>75</dt><dd>510</dd><dt>76</dt><dd>450</dd><dt>77</dt><dd>396</dd><dt>78</dt><dd>421</dd><dt>79</dt><dd>334</dd><dt>80</dt><dd>2970</dd></dl>\n"
      ],
      "text/latex": [
       "\\begin{description*}\n",
       "\\item[18] 1831\n",
       "\\item[19] 1718\n",
       "\\item[20] 792\n",
       "\\item[21] 780\n",
       "\\item[22] 815\n",
       "\\item[23] 797\n",
       "\\item[24] 754\n",
       "\\item[25] 734\n",
       "\\item[26] 717\n",
       "\\item[27] 699\n",
       "\\item[28] 740\n",
       "\\item[29] 760\n",
       "\\item[30] 765\n",
       "\\item[31] 771\n",
       "\\item[32] 786\n",
       "\\item[33] 725\n",
       "\\item[34] 778\n",
       "\\item[35] 715\n",
       "\\item[36] 800\n",
       "\\item[37] 753\n",
       "\\item[38] 768\n",
       "\\item[39] 805\n",
       "\\item[40] 870\n",
       "\\item[41] 824\n",
       "\\item[42] 805\n",
       "\\item[43] 821\n",
       "\\item[44] 822\n",
       "\\item[45] 868\n",
       "\\item[46] 829\n",
       "\\item[47] 796\n",
       "\\item[48] 788\n",
       "\\item[49] 753\n",
       "\\item[50] 799\n",
       "\\item[51] 841\n",
       "\\item[52] 803\n",
       "\\item[53] 769\n",
       "\\item[54] 806\n",
       "\\item[55] 752\n",
       "\\item[56] 713\n",
       "\\item[57] 658\n",
       "\\item[58] 594\n",
       "\\item[59] 650\n",
       "\\item[60] 1068\n",
       "\\item[61] 966\n",
       "\\item[62] 919\n",
       "\\item[63] 871\n",
       "\\item[64] 786\n",
       "\\item[65] 775\n",
       "\\item[66] 743\n",
       "\\item[67] 681\n",
       "\\item[68] 659\n",
       "\\item[69] 616\n",
       "\\item[70] 720\n",
       "\\item[71] 621\n",
       "\\item[72] 606\n",
       "\\item[73] 564\n",
       "\\item[74] 523\n",
       "\\item[75] 510\n",
       "\\item[76] 450\n",
       "\\item[77] 396\n",
       "\\item[78] 421\n",
       "\\item[79] 334\n",
       "\\item[80] 2970\n",
       "\\end{description*}\n"
      ],
      "text/markdown": [
       "18\n",
       ":   183119\n",
       ":   171820\n",
       ":   79221\n",
       ":   78022\n",
       ":   81523\n",
       ":   79724\n",
       ":   75425\n",
       ":   73426\n",
       ":   71727\n",
       ":   69928\n",
       ":   74029\n",
       ":   76030\n",
       ":   76531\n",
       ":   77132\n",
       ":   78633\n",
       ":   72534\n",
       ":   77835\n",
       ":   71536\n",
       ":   80037\n",
       ":   75338\n",
       ":   76839\n",
       ":   80540\n",
       ":   87041\n",
       ":   82442\n",
       ":   80543\n",
       ":   82144\n",
       ":   82245\n",
       ":   86846\n",
       ":   82947\n",
       ":   79648\n",
       ":   78849\n",
       ":   75350\n",
       ":   79951\n",
       ":   84152\n",
       ":   80353\n",
       ":   76954\n",
       ":   80655\n",
       ":   75256\n",
       ":   71357\n",
       ":   65858\n",
       ":   59459\n",
       ":   65060\n",
       ":   106861\n",
       ":   96662\n",
       ":   91963\n",
       ":   87164\n",
       ":   78665\n",
       ":   77566\n",
       ":   74367\n",
       ":   68168\n",
       ":   65969\n",
       ":   61670\n",
       ":   72071\n",
       ":   62172\n",
       ":   60673\n",
       ":   56474\n",
       ":   52375\n",
       ":   51076\n",
       ":   45077\n",
       ":   39678\n",
       ":   42179\n",
       ":   33480\n",
       ":   2970\n",
       "\n"
      ],
      "text/plain": [
       "  18   19   20   21   22   23   24   25   26   27   28   29   30   31   32   33 \n",
       "1831 1718  792  780  815  797  754  734  717  699  740  760  765  771  786  725 \n",
       "  34   35   36   37   38   39   40   41   42   43   44   45   46   47   48   49 \n",
       " 778  715  800  753  768  805  870  824  805  821  822  868  829  796  788  753 \n",
       "  50   51   52   53   54   55   56   57   58   59   60   61   62   63   64   65 \n",
       " 799  841  803  769  806  752  713  658  594  650 1068  966  919  871  786  775 \n",
       "  66   67   68   69   70   71   72   73   74   75   76   77   78   79   80 \n",
       " 743  681  659  616  720  621  606  564  523  510  450  396  421  334 2970 "
      ]
     },
     "metadata": {},
     "output_type": "display_data"
    }
   ],
   "source": [
    "summary(as.factor(merge_df_cln$demo_age_years))"
   ]
  },
  {
   "cell_type": "code",
   "execution_count": 14,
   "id": "13d04ab4-d3e4-49cf-9a12-81bef9186cb6",
   "metadata": {},
   "outputs": [
    {
     "data": {
      "text/html": [
       "<style>\n",
       ".dl-inline {width: auto; margin:0; padding: 0}\n",
       ".dl-inline>dt, .dl-inline>dd {float: none; width: auto; display: inline-block}\n",
       ".dl-inline>dt::after {content: \":\\0020\"; padding-right: .5ex}\n",
       ".dl-inline>dt:not(:first-of-type) {padding-left: .5ex}\n",
       "</style><dl class=dl-inline><dt>Hispanic</dt><dd>13115</dd><dt>Non-Hispanic Asian</dt><dd>2413</dd><dt>Non-Hispanic Black</dt><dd>11069</dd><dt>Non-Hispanic White</dt><dd>22010</dd><dt>Other</dt><dd>1956</dd></dl>\n"
      ],
      "text/latex": [
       "\\begin{description*}\n",
       "\\item[Hispanic] 13115\n",
       "\\item[Non-Hispanic Asian] 2413\n",
       "\\item[Non-Hispanic Black] 11069\n",
       "\\item[Non-Hispanic White] 22010\n",
       "\\item[Other] 1956\n",
       "\\end{description*}\n"
      ],
      "text/markdown": [
       "Hispanic\n",
       ":   13115Non-Hispanic Asian\n",
       ":   2413Non-Hispanic Black\n",
       ":   11069Non-Hispanic White\n",
       ":   22010Other\n",
       ":   1956\n",
       "\n"
      ],
      "text/plain": [
       "          Hispanic Non-Hispanic Asian Non-Hispanic Black Non-Hispanic White \n",
       "             13115               2413              11069              22010 \n",
       "             Other \n",
       "              1956 "
      ]
     },
     "metadata": {},
     "output_type": "display_data"
    }
   ],
   "source": [
    "summary(as.factor(merge_df_cln$demo_race))"
   ]
  },
  {
   "cell_type": "code",
   "execution_count": 16,
   "id": "13671270-0a7d-4368-ac9e-3d14d80f91ab",
   "metadata": {},
   "outputs": [
    {
     "data": {
      "text/html": [
       "<style>\n",
       ".dl-inline {width: auto; margin:0; padding: 0}\n",
       ".dl-inline>dt, .dl-inline>dd {float: none; width: auto; display: inline-block}\n",
       ".dl-inline>dt::after {content: \":\\0020\"; padding-right: .5ex}\n",
       ".dl-inline>dt:not(:first-of-type) {padding-left: .5ex}\n",
       "</style><dl class=dl-inline><dt>Men</dt><dd>25516</dd><dt>Women</dt><dd>25047</dd></dl>\n"
      ],
      "text/latex": [
       "\\begin{description*}\n",
       "\\item[Men] 25516\n",
       "\\item[Women] 25047\n",
       "\\end{description*}\n"
      ],
      "text/markdown": [
       "Men\n",
       ":   25516Women\n",
       ":   25047\n",
       "\n"
      ],
      "text/plain": [
       "  Men Women \n",
       "25516 25047 "
      ]
     },
     "metadata": {},
     "output_type": "display_data"
    }
   ],
   "source": [
    "summary(as.factor(merge_df_cln$demo_gender))  # balanced in gender"
   ]
  },
  {
   "cell_type": "code",
   "execution_count": 19,
   "id": "7427f445-e82a-4f5e-8188-1284f80cf21b",
   "metadata": {},
   "outputs": [
    {
     "data": {
      "image/png": "[encoded data removed]",
      "text/plain": [
       "Plot with title \"Histogram of merge_df_cln$bp_sys_mean\""
      ]
     },
     "metadata": {
      "image/png": {
       "height": 420,
       "width": 420
      }
     },
     "output_type": "display_data"
    }
   ],
   "source": [
    "hist(merge_df_cln$bp_sys_mean, breaks=30)\n",
    "abline(v=130, col=\"red\", lwd=2)"
   ]
  },
  {
   "cell_type": "code",
   "execution_count": 20,
   "id": "38059a4d-ef21-4e7d-bb5c-4702142fd826",
   "metadata": {},
   "outputs": [
    {
     "data": {
      "image/png": "[encoded data removed]",
      "text/plain": [
       "Plot with title \"Histogram of merge_df_cln$bp_dia_mean\""
      ]
     },
     "metadata": {
      "image/png": {
       "height": 420,
       "width": 420
      }
     },
     "output_type": "display_data"
    }
   ],
   "source": [
    "hist(merge_df_cln$bp_dia_mean, breaks=30)\n",
    "abline(v=80, col=\"red\", lwd=2)"
   ]
  },
  {
   "cell_type": "code",
   "execution_count": 55,
   "id": "c0715caf-a9e4-41c4-9cb9-4bfb0202405a",
   "metadata": {},
   "outputs": [
    {
     "data": {
      "image/png": "[encoded data removed]",
      "text/plain": [
       "Plot with title \"Histogram of merge_df_cln$DRXTPROT\""
      ]
     },
     "metadata": {
      "image/png": {
       "height": 420,
       "width": 420
      }
     },
     "output_type": "display_data"
    },
    {
     "data": {
      "image/png": "[encoded data removed]",
      "text/plain": [
       "Plot with title \"Histogram of merge_df_cln$DRXTCARB\""
      ]
     },
     "metadata": {
      "image/png": {
       "height": 420,
       "width": 420
      }
     },
     "output_type": "display_data"
    }
   ],
   "source": [
    "protein<- hist(merge_df_cln$DRXTPROT, breaks=30)\n",
    "carbonhydrate<- hist(merge_df_cln$DRXTCARB, breaks=30)"
   ]
  },
  {
   "cell_type": "code",
   "execution_count": 56,
   "id": "520cfb86-775b-4900-95e6-7e20f640dc77",
   "metadata": {},
   "outputs": [
    {
     "data": {
      "image/png": "[encoded data removed]",
      "text/plain": [
       "Plot with title \"Histogram of merge_df_cln$DRXTTFAT\""
      ]
     },
     "metadata": {
      "image/png": {
       "height": 420,
       "width": 420
      }
     },
     "output_type": "display_data"
    },
    {
     "data": {
      "image/png": "[encoded data removed]",
      "text/plain": [
       "Plot with title \"Histogram of merge_df_cln$DRXTSFAT\""
      ]
     },
     "metadata": {
      "image/png": {
       "height": 420,
       "width": 420
      }
     },
     "output_type": "display_data"
    },
    {
     "data": {
      "image/png": "[encoded data removed]",
      "text/plain": [
       "Plot with title \"Histogram of merge_df_cln$DRXTMFAT\""
      ]
     },
     "metadata": {
      "image/png": {
       "height": 420,
       "width": 420
      }
     },
     "output_type": "display_data"
    }
   ],
   "source": [
    "hist(merge_df_cln$DRXTTFAT, breaks=30)\n",
    "hist(merge_df_cln$DRXTSFAT, breaks=30)\n",
    "hist(merge_df_cln$DRXTMFAT, breaks=30)"
   ]
  },
  {
   "cell_type": "code",
   "execution_count": 34,
   "id": "9db20fc7-895e-43ee-873f-435bf1449ce7",
   "metadata": {},
   "outputs": [
    {
     "data": {
      "text/html": [
       "<style>\n",
       ".dl-inline {width: auto; margin:0; padding: 0}\n",
       ".dl-inline>dt, .dl-inline>dd {float: none; width: auto; display: inline-block}\n",
       ".dl-inline>dt::after {content: \":\\0020\"; padding-right: .5ex}\n",
       ".dl-inline>dt:not(:first-of-type) {padding-left: .5ex}\n",
       "</style><dl class=dl-inline><dt>&lt;25</dt><dd>15796</dd><dt>25 to &lt;30</dt><dd>16620</dd><dt>30 to &lt;35</dt><dd>10120</dd><dt>35+</dt><dd>8027</dd></dl>\n"
      ],
      "text/latex": [
       "\\begin{description*}\n",
       "\\item[<25] 15796\n",
       "\\item[25 to <30] 16620\n",
       "\\item[30 to <35] 10120\n",
       "\\item[35+] 8027\n",
       "\\end{description*}\n"
      ],
      "text/markdown": [
       "&amp;lt;25\n",
       ":   1579625 to &amp;lt;30\n",
       ":   1662030 to &amp;lt;35\n",
       ":   1012035+\n",
       ":   8027\n",
       "\n"
      ],
      "text/plain": [
       "      <25 25 to <30 30 to <35       35+ \n",
       "    15796     16620     10120      8027 "
      ]
     },
     "metadata": {},
     "output_type": "display_data"
    }
   ],
   "source": [
    "summary(as.factor(merge_df_cln$cc_bmi))"
   ]
  },
  {
   "cell_type": "code",
   "execution_count": 53,
   "id": "c94c82e9-93c6-4ef3-9e14-84120cc52b27",
   "metadata": {},
   "outputs": [
    {
     "data": {
      "image/png": "[encoded data removed]",
      "text/plain": [
       "plot without title"
      ]
     },
     "metadata": {
      "image/png": {
       "height": 420,
       "width": 420
      }
     },
     "output_type": "display_data"
    }
   ],
   "source": [
    "library(gridExtra)\n",
    "p1 <- merge_df_cln %>%\n",
    "    filter(cc_bmi == \"<25\") %>%\n",
    "    ggplot(aes(x = DRXTPROT, y = bp_sys_mean)) + geom_point()\n",
    "p2 <- merge_df_cln %>%\n",
    "    filter(cc_bmi == \"25 to <30\") %>%\n",
    "    ggplot(aes(x = DRXTPROT, y = bp_sys_mean)) + geom_point(color=\"red\")\n",
    "p3 <- merge_df_cln %>%\n",
    "    filter(cc_bmi == \"30 to <35\") %>%\n",
    "    ggplot(aes(x = DRXTPROT, y = bp_sys_mean)) + geom_point()\n",
    "\n",
    "p4 <- merge_df_cln %>%\n",
    "    filter(cc_bmi == \"35+\") %>%\n",
    "    ggplot(aes(x = DRXTPROT, y = bp_sys_mean)) + geom_point(color=\"red\")\n",
    "\n",
    "# Arrange the plots in a 2x2 grid\n",
    "grid.arrange(p1, p2, p3, p4, ncol = 2)"
   ]
  },
  {
   "cell_type": "code",
   "execution_count": 52,
   "id": "589c8f8f-ef1c-4336-b0ea-b9c8ea29f282",
   "metadata": {},
   "outputs": [
    {
     "data": {
      "image/png": "[encoded data removed]",
      "text/plain": [
       "plot without title"
      ]
     },
     "metadata": {
      "image/png": {
       "height": 420,
       "width": 420
      }
     },
     "output_type": "display_data"
    }
   ],
   "source": [
    "p1 <- merge_df_cln %>%\n",
    "    filter(cc_bmi == \"<25\") %>%\n",
    "    ggplot(aes(x = DRXTPROT, y = bp_dia_mean)) + geom_point()\n",
    "p2 <- merge_df_cln %>%\n",
    "    filter(cc_bmi == \"25 to <30\") %>%\n",
    "    ggplot(aes(x = DRXTPROT, y = bp_dia_mean)) + geom_point(color=\"red\")\n",
    "p3 <- merge_df_cln %>%\n",
    "    filter(cc_bmi == \"30 to <35\") %>%\n",
    "    ggplot(aes(x = DRXTPROT, y = bp_dia_mean)) + geom_point()\n",
    "p4 <- merge_df_cln %>%\n",
    "    filter(cc_bmi == \"35+\") %>%\n",
    "    ggplot(aes(x = DRXTPROT, y = bp_dia_mean)) + geom_point(color=\"red\")\n",
    "grid.arrange(p1, p2, p3, p4, ncol = 2)"
   ]
  },
  {
   "cell_type": "code",
   "execution_count": 57,
   "id": "ef8cfe0a-d81c-409a-9525-5d0f47640e74",
   "metadata": {},
   "outputs": [
    {
     "data": {
      "image/png": "[encoded data removed]",
      "text/plain": [
       "plot without title"
      ]
     },
     "metadata": {
      "image/png": {
       "height": 420,
       "width": 420
      }
     },
     "output_type": "display_data"
    }
   ],
   "source": [
    "plot(merge_df_cln$DRXTCHOL, merge_df_cln$bp_dia_mean)"
   ]
  },
  {
   "cell_type": "markdown",
   "id": "3a612e5c-c5c6-4454-bf0d-7017e7fd12a6",
   "metadata": {},
   "source": [
    "## Univariate analysis"
   ]
  },
  {
   "cell_type": "code",
   "execution_count": null,
   "id": "d76f51d0-9da5-4ed7-bf2b-5a2ffc903e8b",
   "metadata": {},
   "outputs": [],
   "source": []
  }
 ],
 "metadata": {
  "kernelspec": {
   "display_name": "R",
   "language": "R",
   "name": "ir"
  },
  "language_info": {
   "codemirror_mode": "r",
   "file_extension": ".r",
   "mimetype": "text/x-r-source",
   "name": "R",
   "pygments_lexer": "r",
   "version": "4.4.2"
  }
 },
 "nbformat": 4,
 "nbformat_minor": 5
}
