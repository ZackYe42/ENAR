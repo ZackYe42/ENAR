{
 "cells": [
  {
   "cell_type": "code",
   "execution_count": 29,
   "id": "35f0b0fb-876b-405c-91ef-ed7c3115fd68",
   "metadata": {},
   "outputs": [
    {
     "data": {
      "text/html": [
       "<ol>\n",
       "\t<li><style>\n",
       ".list-inline {list-style: none; margin:0; padding: 0}\n",
       ".list-inline>li {display: inline-block}\n",
       ".list-inline>li:not(:last-child)::after {content: \"\\00b7\"; padding: 0 .5ex}\n",
       "</style>\n",
       "<ol class=list-inline><li>'ggplot2'</li><li>'haven'</li><li>'dplyr'</li><li>'stats'</li><li>'graphics'</li><li>'grDevices'</li><li>'utils'</li><li>'datasets'</li><li>'methods'</li><li>'base'</li></ol>\n",
       "</li>\n",
       "\t<li><style>\n",
       ".list-inline {list-style: none; margin:0; padding: 0}\n",
       ".list-inline>li {display: inline-block}\n",
       ".list-inline>li:not(:last-child)::after {content: \"\\00b7\"; padding: 0 .5ex}\n",
       "</style>\n",
       "<ol class=list-inline><li>'ggplot2'</li><li>'haven'</li><li>'dplyr'</li><li>'stats'</li><li>'graphics'</li><li>'grDevices'</li><li>'utils'</li><li>'datasets'</li><li>'methods'</li><li>'base'</li></ol>\n",
       "</li>\n",
       "\t<li><style>\n",
       ".list-inline {list-style: none; margin:0; padding: 0}\n",
       ".list-inline>li {display: inline-block}\n",
       ".list-inline>li:not(:last-child)::after {content: \"\\00b7\"; padding: 0 .5ex}\n",
       "</style>\n",
       "<ol class=list-inline><li>'ggplot2'</li><li>'haven'</li><li>'dplyr'</li><li>'stats'</li><li>'graphics'</li><li>'grDevices'</li><li>'utils'</li><li>'datasets'</li><li>'methods'</li><li>'base'</li></ol>\n",
       "</li>\n",
       "</ol>\n"
      ],
      "text/latex": [
       "\\begin{enumerate}\n",
       "\\item \\begin{enumerate*}\n",
       "\\item 'ggplot2'\n",
       "\\item 'haven'\n",
       "\\item 'dplyr'\n",
       "\\item 'stats'\n",
       "\\item 'graphics'\n",
       "\\item 'grDevices'\n",
       "\\item 'utils'\n",
       "\\item 'datasets'\n",
       "\\item 'methods'\n",
       "\\item 'base'\n",
       "\\end{enumerate*}\n",
       "\n",
       "\\item \\begin{enumerate*}\n",
       "\\item 'ggplot2'\n",
       "\\item 'haven'\n",
       "\\item 'dplyr'\n",
       "\\item 'stats'\n",
       "\\item 'graphics'\n",
       "\\item 'grDevices'\n",
       "\\item 'utils'\n",
       "\\item 'datasets'\n",
       "\\item 'methods'\n",
       "\\item 'base'\n",
       "\\end{enumerate*}\n",
       "\n",
       "\\item \\begin{enumerate*}\n",
       "\\item 'ggplot2'\n",
       "\\item 'haven'\n",
       "\\item 'dplyr'\n",
       "\\item 'stats'\n",
       "\\item 'graphics'\n",
       "\\item 'grDevices'\n",
       "\\item 'utils'\n",
       "\\item 'datasets'\n",
       "\\item 'methods'\n",
       "\\item 'base'\n",
       "\\end{enumerate*}\n",
       "\n",
       "\\end{enumerate}\n"
      ],
      "text/markdown": [
       "1. 1. 'ggplot2'\n",
       "2. 'haven'\n",
       "3. 'dplyr'\n",
       "4. 'stats'\n",
       "5. 'graphics'\n",
       "6. 'grDevices'\n",
       "7. 'utils'\n",
       "8. 'datasets'\n",
       "9. 'methods'\n",
       "10. 'base'\n",
       "\n",
       "\n",
       "\n",
       "2. 1. 'ggplot2'\n",
       "2. 'haven'\n",
       "3. 'dplyr'\n",
       "4. 'stats'\n",
       "5. 'graphics'\n",
       "6. 'grDevices'\n",
       "7. 'utils'\n",
       "8. 'datasets'\n",
       "9. 'methods'\n",
       "10. 'base'\n",
       "\n",
       "\n",
       "\n",
       "3. 1. 'ggplot2'\n",
       "2. 'haven'\n",
       "3. 'dplyr'\n",
       "4. 'stats'\n",
       "5. 'graphics'\n",
       "6. 'grDevices'\n",
       "7. 'utils'\n",
       "8. 'datasets'\n",
       "9. 'methods'\n",
       "10. 'base'\n",
       "\n",
       "\n",
       "\n",
       "\n",
       "\n"
      ],
      "text/plain": [
       "[[1]]\n",
       " [1] \"ggplot2\"   \"haven\"     \"dplyr\"     \"stats\"     \"graphics\"  \"grDevices\"\n",
       " [7] \"utils\"     \"datasets\"  \"methods\"   \"base\"     \n",
       "\n",
       "[[2]]\n",
       " [1] \"ggplot2\"   \"haven\"     \"dplyr\"     \"stats\"     \"graphics\"  \"grDevices\"\n",
       " [7] \"utils\"     \"datasets\"  \"methods\"   \"base\"     \n",
       "\n",
       "[[3]]\n",
       " [1] \"ggplot2\"   \"haven\"     \"dplyr\"     \"stats\"     \"graphics\"  \"grDevices\"\n",
       " [7] \"utils\"     \"datasets\"  \"methods\"   \"base\"     \n"
      ]
     },
     "metadata": {},
     "output_type": "display_data"
    }
   ],
   "source": [
    "# Load Library\n",
    "\n",
    "packages <- c(\"dplyr\", \"haven\",\"ggplot2\")\n",
    "\n",
    "install_if_missing <- function(pkg) {\n",
    "  if (!requireNamespace(pkg, quietly = TRUE)) {\n",
    "    install.packages(pkg)\n",
    "  }\n",
    "  library(pkg, character.only = TRUE)\n",
    "}\n",
    "\n",
    "lapply(packages, install_if_missing)\n",
    "\n",
    "#test\n"
   ]
  },
  {
   "cell_type": "markdown",
   "id": "aba0cc89-3504-4879-a7ec-5db96c1235aa",
   "metadata": {},
   "source": [
    "# Read Data"
   ]
  },
  {
   "cell_type": "markdown",
   "id": "a1b35ec9-c401-40be-a6f2-0d9a76ae47ed",
   "metadata": {},
   "source": [
    "## Selected Variables"
   ]
  },
  {
   "cell_type": "code",
   "execution_count": 49,
   "id": "a9c8ad87-f90b-4139-a879-bf99176132ae",
   "metadata": {},
   "outputs": [
    {
     "data": {
      "text/html": [
       "121"
      ],
      "text/latex": [
       "121"
      ],
      "text/markdown": [
       "121"
      ],
      "text/plain": [
       "[1] 121"
      ]
     },
     "metadata": {},
     "output_type": "display_data"
    },
    {
     "data": {
      "text/html": [
       "10"
      ],
      "text/latex": [
       "10"
      ],
      "text/markdown": [
       "10"
      ],
      "text/plain": [
       "[1] 10"
      ]
     },
     "metadata": {},
     "output_type": "display_data"
    }
   ],
   "source": [
    "var_tot <- readLines(\"Data/TOT_Variables.txt\") # Selected Variable for Diet\n",
    "length(var_tot)\n",
    "\n",
    "var_nhanes <- readLines(\"Data/Nhanes_Variables.txt\") # Selected Variable for Nhanes\n",
    "length(var_nhanes)"
   ]
  },
  {
   "cell_type": "markdown",
   "id": "e036e124-448e-4951-b0a0-81985753729d",
   "metadata": {},
   "source": [
    "## Read Nhanes Data"
   ]
  },
  {
   "cell_type": "code",
   "execution_count": 30,
   "id": "4fdd189f-2d60-4bde-840b-70e3fcb70aaa",
   "metadata": {},
   "outputs": [
    {
     "data": {
      "text/html": [
       "<table class=\"dataframe\">\n",
       "<caption>A data.frame: 6 × 117</caption>\n",
       "<thead>\n",
       "\t<tr><th></th><th scope=col>X</th><th scope=col>svy_id</th><th scope=col>svy_weight_mec</th><th scope=col>svy_psu</th><th scope=col>svy_strata</th><th scope=col>svy_year</th><th scope=col>svy_subpop_htn</th><th scope=col>svy_subpop_chol</th><th scope=col>demo_age_cat</th><th scope=col>demo_race</th><th scope=col>⋯</th><th scope=col>cc_egfr</th><th scope=col>cc_hba1c</th><th scope=col>cc_egfr_lt60</th><th scope=col>cc_acr_gteq30</th><th scope=col>cc_cvd_mi</th><th scope=col>cc_cvd_chd</th><th scope=col>cc_cvd_stroke</th><th scope=col>cc_cvd_ascvd</th><th scope=col>cc_cvd_hf</th><th scope=col>cc_cvd_any</th></tr>\n",
       "\t<tr><th></th><th scope=col>&lt;int&gt;</th><th scope=col>&lt;int&gt;</th><th scope=col>&lt;dbl&gt;</th><th scope=col>&lt;int&gt;</th><th scope=col>&lt;int&gt;</th><th scope=col>&lt;chr&gt;</th><th scope=col>&lt;int&gt;</th><th scope=col>&lt;int&gt;</th><th scope=col>&lt;chr&gt;</th><th scope=col>&lt;chr&gt;</th><th scope=col>⋯</th><th scope=col>&lt;dbl&gt;</th><th scope=col>&lt;dbl&gt;</th><th scope=col>&lt;chr&gt;</th><th scope=col>&lt;chr&gt;</th><th scope=col>&lt;chr&gt;</th><th scope=col>&lt;chr&gt;</th><th scope=col>&lt;chr&gt;</th><th scope=col>&lt;chr&gt;</th><th scope=col>&lt;chr&gt;</th><th scope=col>&lt;chr&gt;</th></tr>\n",
       "</thead>\n",
       "<tbody>\n",
       "\t<tr><th scope=row>1</th><td>1</td><td>12</td><td> 95494.214</td><td>2</td><td> 6</td><td>1999-2000</td><td>1</td><td>1</td><td>18 to 44</td><td>Non-Hispanic White</td><td>⋯</td><td> 83.19409</td><td>5.2</td><td>No</td><td>Yes</td><td>No</td><td>No</td><td>No</td><td>No</td><td>No</td><td>No</td></tr>\n",
       "\t<tr><th scope=row>2</th><td>2</td><td>21</td><td>  2910.630</td><td>2</td><td> 3</td><td>1999-2000</td><td>1</td><td>1</td><td>18 to 44</td><td>Hispanic          </td><td>⋯</td><td>117.88244</td><td>5.0</td><td>No</td><td>No </td><td>NA</td><td>NA</td><td>NA</td><td>No</td><td>NA</td><td>No</td></tr>\n",
       "\t<tr><th scope=row>3</th><td>3</td><td>27</td><td>  1935.098</td><td>2</td><td>13</td><td>1999-2000</td><td>1</td><td>0</td><td>18 to 44</td><td>Hispanic          </td><td>⋯</td><td>       NA</td><td> NA</td><td>NA</td><td>No </td><td>NA</td><td>NA</td><td>NA</td><td>No</td><td>NA</td><td>No</td></tr>\n",
       "\t<tr><th scope=row>4</th><td>4</td><td>28</td><td> 41107.191</td><td>2</td><td> 1</td><td>1999-2000</td><td>1</td><td>1</td><td>18 to 44</td><td>Non-Hispanic White</td><td>⋯</td><td>139.84511</td><td>4.8</td><td>No</td><td>No </td><td>NA</td><td>NA</td><td>NA</td><td>No</td><td>NA</td><td>No</td></tr>\n",
       "\t<tr><th scope=row>5</th><td>5</td><td>56</td><td> 89768.526</td><td>1</td><td>12</td><td>1999-2000</td><td>1</td><td>0</td><td>18 to 44</td><td>Non-Hispanic White</td><td>⋯</td><td>126.51034</td><td>5.5</td><td>No</td><td>No </td><td>No</td><td>No</td><td>No</td><td>No</td><td>No</td><td>No</td></tr>\n",
       "\t<tr><th scope=row>6</th><td>6</td><td>57</td><td>102609.750</td><td>2</td><td> 5</td><td>1999-2000</td><td>1</td><td>1</td><td>18 to 44</td><td>Non-Hispanic White</td><td>⋯</td><td> 91.68801</td><td>4.9</td><td>No</td><td>No </td><td>No</td><td>No</td><td>No</td><td>No</td><td>No</td><td>No</td></tr>\n",
       "</tbody>\n",
       "</table>\n"
      ],
      "text/latex": [
       "A data.frame: 6 × 117\n",
       "\\begin{tabular}{r|lllllllllllllllllllll}\n",
       "  & X & svy\\_id & svy\\_weight\\_mec & svy\\_psu & svy\\_strata & svy\\_year & svy\\_subpop\\_htn & svy\\_subpop\\_chol & demo\\_age\\_cat & demo\\_race & ⋯ & cc\\_egfr & cc\\_hba1c & cc\\_egfr\\_lt60 & cc\\_acr\\_gteq30 & cc\\_cvd\\_mi & cc\\_cvd\\_chd & cc\\_cvd\\_stroke & cc\\_cvd\\_ascvd & cc\\_cvd\\_hf & cc\\_cvd\\_any\\\\\n",
       "  & <int> & <int> & <dbl> & <int> & <int> & <chr> & <int> & <int> & <chr> & <chr> & ⋯ & <dbl> & <dbl> & <chr> & <chr> & <chr> & <chr> & <chr> & <chr> & <chr> & <chr>\\\\\n",
       "\\hline\n",
       "\t1 & 1 & 12 &  95494.214 & 2 &  6 & 1999-2000 & 1 & 1 & 18 to 44 & Non-Hispanic White & ⋯ &  83.19409 & 5.2 & No & Yes & No & No & No & No & No & No\\\\\n",
       "\t2 & 2 & 21 &   2910.630 & 2 &  3 & 1999-2000 & 1 & 1 & 18 to 44 & Hispanic           & ⋯ & 117.88244 & 5.0 & No & No  & NA & NA & NA & No & NA & No\\\\\n",
       "\t3 & 3 & 27 &   1935.098 & 2 & 13 & 1999-2000 & 1 & 0 & 18 to 44 & Hispanic           & ⋯ &        NA &  NA & NA & No  & NA & NA & NA & No & NA & No\\\\\n",
       "\t4 & 4 & 28 &  41107.191 & 2 &  1 & 1999-2000 & 1 & 1 & 18 to 44 & Non-Hispanic White & ⋯ & 139.84511 & 4.8 & No & No  & NA & NA & NA & No & NA & No\\\\\n",
       "\t5 & 5 & 56 &  89768.526 & 1 & 12 & 1999-2000 & 1 & 0 & 18 to 44 & Non-Hispanic White & ⋯ & 126.51034 & 5.5 & No & No  & No & No & No & No & No & No\\\\\n",
       "\t6 & 6 & 57 & 102609.750 & 2 &  5 & 1999-2000 & 1 & 1 & 18 to 44 & Non-Hispanic White & ⋯ &  91.68801 & 4.9 & No & No  & No & No & No & No & No & No\\\\\n",
       "\\end{tabular}\n"
      ],
      "text/markdown": [
       "\n",
       "A data.frame: 6 × 117\n",
       "\n",
       "| <!--/--> | X &lt;int&gt; | svy_id &lt;int&gt; | svy_weight_mec &lt;dbl&gt; | svy_psu &lt;int&gt; | svy_strata &lt;int&gt; | svy_year &lt;chr&gt; | svy_subpop_htn &lt;int&gt; | svy_subpop_chol &lt;int&gt; | demo_age_cat &lt;chr&gt; | demo_race &lt;chr&gt; | ⋯ ⋯ | cc_egfr &lt;dbl&gt; | cc_hba1c &lt;dbl&gt; | cc_egfr_lt60 &lt;chr&gt; | cc_acr_gteq30 &lt;chr&gt; | cc_cvd_mi &lt;chr&gt; | cc_cvd_chd &lt;chr&gt; | cc_cvd_stroke &lt;chr&gt; | cc_cvd_ascvd &lt;chr&gt; | cc_cvd_hf &lt;chr&gt; | cc_cvd_any &lt;chr&gt; |\n",
       "|---|---|---|---|---|---|---|---|---|---|---|---|---|---|---|---|---|---|---|---|---|---|\n",
       "| 1 | 1 | 12 |  95494.214 | 2 |  6 | 1999-2000 | 1 | 1 | 18 to 44 | Non-Hispanic White | ⋯ |  83.19409 | 5.2 | No | Yes | No | No | No | No | No | No |\n",
       "| 2 | 2 | 21 |   2910.630 | 2 |  3 | 1999-2000 | 1 | 1 | 18 to 44 | Hispanic           | ⋯ | 117.88244 | 5.0 | No | No  | NA | NA | NA | No | NA | No |\n",
       "| 3 | 3 | 27 |   1935.098 | 2 | 13 | 1999-2000 | 1 | 0 | 18 to 44 | Hispanic           | ⋯ |        NA |  NA | NA | No  | NA | NA | NA | No | NA | No |\n",
       "| 4 | 4 | 28 |  41107.191 | 2 |  1 | 1999-2000 | 1 | 1 | 18 to 44 | Non-Hispanic White | ⋯ | 139.84511 | 4.8 | No | No  | NA | NA | NA | No | NA | No |\n",
       "| 5 | 5 | 56 |  89768.526 | 1 | 12 | 1999-2000 | 1 | 0 | 18 to 44 | Non-Hispanic White | ⋯ | 126.51034 | 5.5 | No | No  | No | No | No | No | No | No |\n",
       "| 6 | 6 | 57 | 102609.750 | 2 |  5 | 1999-2000 | 1 | 1 | 18 to 44 | Non-Hispanic White | ⋯ |  91.68801 | 4.9 | No | No  | No | No | No | No | No | No |\n",
       "\n"
      ],
      "text/plain": [
       "  X svy_id svy_weight_mec svy_psu svy_strata svy_year  svy_subpop_htn\n",
       "1 1 12      95494.214     2        6         1999-2000 1             \n",
       "2 2 21       2910.630     2        3         1999-2000 1             \n",
       "3 3 27       1935.098     2       13         1999-2000 1             \n",
       "4 4 28      41107.191     2        1         1999-2000 1             \n",
       "5 5 56      89768.526     1       12         1999-2000 1             \n",
       "6 6 57     102609.750     2        5         1999-2000 1             \n",
       "  svy_subpop_chol demo_age_cat demo_race          ⋯ cc_egfr   cc_hba1c\n",
       "1 1               18 to 44     Non-Hispanic White ⋯  83.19409 5.2     \n",
       "2 1               18 to 44     Hispanic           ⋯ 117.88244 5.0     \n",
       "3 0               18 to 44     Hispanic           ⋯        NA  NA     \n",
       "4 1               18 to 44     Non-Hispanic White ⋯ 139.84511 4.8     \n",
       "5 0               18 to 44     Non-Hispanic White ⋯ 126.51034 5.5     \n",
       "6 1               18 to 44     Non-Hispanic White ⋯  91.68801 4.9     \n",
       "  cc_egfr_lt60 cc_acr_gteq30 cc_cvd_mi cc_cvd_chd cc_cvd_stroke cc_cvd_ascvd\n",
       "1 No           Yes           No        No         No            No          \n",
       "2 No           No            NA        NA         NA            No          \n",
       "3 NA           No            NA        NA         NA            No          \n",
       "4 No           No            NA        NA         NA            No          \n",
       "5 No           No            No        No         No            No          \n",
       "6 No           No            No        No         No            No          \n",
       "  cc_cvd_hf cc_cvd_any\n",
       "1 No        No        \n",
       "2 NA        No        \n",
       "3 NA        No        \n",
       "4 NA        No        \n",
       "5 No        No        \n",
       "6 No        No        "
      ]
     },
     "metadata": {},
     "output_type": "display_data"
    }
   ],
   "source": [
    "ds <- read.csv(\"Data/nhanes_data.csv\")\n",
    "head(ds)\n"
   ]
  },
  {
   "cell_type": "markdown",
   "id": "e453ac6d-53db-4a4f-bbb5-ab35509f8bdc",
   "metadata": {},
   "source": [
    "## Read DT1TOT Data"
   ]
  },
  {
   "cell_type": "code",
   "execution_count": 48,
   "id": "eab45b78-984d-42c9-ba8e-35eba3490b03",
   "metadata": {
    "scrolled": true
   },
   "outputs": [
    {
     "name": "stderr",
     "output_type": "stream",
     "text": [
      "Warning message:\n",
      "\"\u001b[1m\u001b[22mUsing an external vector in selections was deprecated in tidyselect 1.1.0.\n",
      "\u001b[36mℹ\u001b[39m Please use `all_of()` or `any_of()` instead.\n",
      "  # Was:\n",
      "  data %>% select(var_tot)\n",
      "\n",
      "  # Now:\n",
      "  data %>% select(all_of(var_tot))\n",
      "\n",
      "See <https://tidyselect.r-lib.org/reference/faq-external-vector.html>.\"\n"
     ]
    },
    {
     "data": {
      "text/html": [
       "<table class=\"dataframe\">\n",
       "<caption>A tibble: 6 × 121</caption>\n",
       "<thead>\n",
       "\t<tr><th scope=col>SEQN</th><th scope=col>DRXTPROT</th><th scope=col>DRXTCARB</th><th scope=col>DRXTTFAT</th><th scope=col>DRXTSFAT</th><th scope=col>DRXTMFAT</th><th scope=col>DRXTPFAT</th><th scope=col>DRXTCHOL</th><th scope=col>DRXTFIBE</th><th scope=col>DRXTVAIU</th><th scope=col>⋯</th><th scope=col>DRQ370QQ</th><th scope=col>DRD370R</th><th scope=col>DRQ370RQ</th><th scope=col>DRD370S</th><th scope=col>DRQ370SQ</th><th scope=col>DRD370T</th><th scope=col>DRQ370TQ</th><th scope=col>DRD370U</th><th scope=col>DRQ370UQ</th><th scope=col>DRD370V</th></tr>\n",
       "\t<tr><th scope=col>&lt;dbl&gt;</th><th scope=col>&lt;dbl&gt;</th><th scope=col>&lt;dbl&gt;</th><th scope=col>&lt;dbl&gt;</th><th scope=col>&lt;dbl&gt;</th><th scope=col>&lt;dbl&gt;</th><th scope=col>&lt;dbl&gt;</th><th scope=col>&lt;dbl&gt;</th><th scope=col>&lt;dbl&gt;</th><th scope=col>&lt;dbl&gt;</th><th scope=col>⋯</th><th scope=col>&lt;dbl&gt;</th><th scope=col>&lt;dbl&gt;</th><th scope=col>&lt;dbl&gt;</th><th scope=col>&lt;dbl&gt;</th><th scope=col>&lt;dbl&gt;</th><th scope=col>&lt;dbl&gt;</th><th scope=col>&lt;dbl&gt;</th><th scope=col>&lt;dbl&gt;</th><th scope=col>&lt;dbl&gt;</th><th scope=col>&lt;dbl&gt;</th></tr>\n",
       "</thead>\n",
       "<tbody>\n",
       "\t<tr><td>1</td><td> 31.96</td><td>250.36</td><td> 27.24</td><td> 9.40</td><td> 9.00</td><td> 6.40</td><td> 46.55</td><td> 7.41</td><td> 2797.65</td><td>⋯</td><td>NA</td><td> 2</td><td>NA</td><td> 2</td><td>NA</td><td> 2</td><td>NA</td><td> 2</td><td>NA</td><td> 2</td></tr>\n",
       "\t<tr><td>2</td><td>123.16</td><td>350.37</td><td> 71.95</td><td>24.34</td><td>26.48</td><td>11.94</td><td>313.95</td><td>36.99</td><td> 4323.62</td><td>⋯</td><td>NA</td><td> 2</td><td>NA</td><td> 2</td><td>NA</td><td> 2</td><td>NA</td><td> 2</td><td>NA</td><td> 2</td></tr>\n",
       "\t<tr><td>3</td><td> 40.19</td><td>233.63</td><td> 49.94</td><td>15.61</td><td>19.57</td><td>11.84</td><td> 86.22</td><td>11.16</td><td> 5754.31</td><td>⋯</td><td>NA</td><td>NA</td><td>NA</td><td>NA</td><td>NA</td><td>NA</td><td>NA</td><td>NA</td><td>NA</td><td>NA</td></tr>\n",
       "\t<tr><td>4</td><td> 56.16</td><td>191.03</td><td> 56.20</td><td>27.54</td><td>20.13</td><td> 4.67</td><td>194.78</td><td> 5.45</td><td> 1426.17</td><td>⋯</td><td>NA</td><td> 2</td><td>NA</td><td> 2</td><td>NA</td><td> 2</td><td>NA</td><td> 2</td><td>NA</td><td> 2</td></tr>\n",
       "\t<tr><td>5</td><td> 97.13</td><td>253.98</td><td>114.52</td><td>36.00</td><td>60.55</td><td>11.35</td><td>180.57</td><td>17.28</td><td>10292.63</td><td>⋯</td><td>NA</td><td>NA</td><td>NA</td><td>NA</td><td>NA</td><td>NA</td><td>NA</td><td>NA</td><td>NA</td><td>NA</td></tr>\n",
       "\t<tr><td>6</td><td> 24.63</td><td>202.11</td><td> 25.15</td><td> 7.78</td><td> 7.84</td><td> 7.15</td><td> 38.45</td><td> 6.24</td><td> 1394.76</td><td>⋯</td><td>NA</td><td> 2</td><td>NA</td><td> 2</td><td>NA</td><td> 2</td><td>NA</td><td> 2</td><td>NA</td><td> 2</td></tr>\n",
       "</tbody>\n",
       "</table>\n"
      ],
      "text/latex": [
       "A tibble: 6 × 121\n",
       "\\begin{tabular}{lllllllllllllllllllll}\n",
       " SEQN & DRXTPROT & DRXTCARB & DRXTTFAT & DRXTSFAT & DRXTMFAT & DRXTPFAT & DRXTCHOL & DRXTFIBE & DRXTVAIU & ⋯ & DRQ370QQ & DRD370R & DRQ370RQ & DRD370S & DRQ370SQ & DRD370T & DRQ370TQ & DRD370U & DRQ370UQ & DRD370V\\\\\n",
       " <dbl> & <dbl> & <dbl> & <dbl> & <dbl> & <dbl> & <dbl> & <dbl> & <dbl> & <dbl> & ⋯ & <dbl> & <dbl> & <dbl> & <dbl> & <dbl> & <dbl> & <dbl> & <dbl> & <dbl> & <dbl>\\\\\n",
       "\\hline\n",
       "\t 1 &  31.96 & 250.36 &  27.24 &  9.40 &  9.00 &  6.40 &  46.55 &  7.41 &  2797.65 & ⋯ & NA &  2 & NA &  2 & NA &  2 & NA &  2 & NA &  2\\\\\n",
       "\t 2 & 123.16 & 350.37 &  71.95 & 24.34 & 26.48 & 11.94 & 313.95 & 36.99 &  4323.62 & ⋯ & NA &  2 & NA &  2 & NA &  2 & NA &  2 & NA &  2\\\\\n",
       "\t 3 &  40.19 & 233.63 &  49.94 & 15.61 & 19.57 & 11.84 &  86.22 & 11.16 &  5754.31 & ⋯ & NA & NA & NA & NA & NA & NA & NA & NA & NA & NA\\\\\n",
       "\t 4 &  56.16 & 191.03 &  56.20 & 27.54 & 20.13 &  4.67 & 194.78 &  5.45 &  1426.17 & ⋯ & NA &  2 & NA &  2 & NA &  2 & NA &  2 & NA &  2\\\\\n",
       "\t 5 &  97.13 & 253.98 & 114.52 & 36.00 & 60.55 & 11.35 & 180.57 & 17.28 & 10292.63 & ⋯ & NA & NA & NA & NA & NA & NA & NA & NA & NA & NA\\\\\n",
       "\t 6 &  24.63 & 202.11 &  25.15 &  7.78 &  7.84 &  7.15 &  38.45 &  6.24 &  1394.76 & ⋯ & NA &  2 & NA &  2 & NA &  2 & NA &  2 & NA &  2\\\\\n",
       "\\end{tabular}\n"
      ],
      "text/markdown": [
       "\n",
       "A tibble: 6 × 121\n",
       "\n",
       "| SEQN &lt;dbl&gt; | DRXTPROT &lt;dbl&gt; | DRXTCARB &lt;dbl&gt; | DRXTTFAT &lt;dbl&gt; | DRXTSFAT &lt;dbl&gt; | DRXTMFAT &lt;dbl&gt; | DRXTPFAT &lt;dbl&gt; | DRXTCHOL &lt;dbl&gt; | DRXTFIBE &lt;dbl&gt; | DRXTVAIU &lt;dbl&gt; | ⋯ ⋯ | DRQ370QQ &lt;dbl&gt; | DRD370R &lt;dbl&gt; | DRQ370RQ &lt;dbl&gt; | DRD370S &lt;dbl&gt; | DRQ370SQ &lt;dbl&gt; | DRD370T &lt;dbl&gt; | DRQ370TQ &lt;dbl&gt; | DRD370U &lt;dbl&gt; | DRQ370UQ &lt;dbl&gt; | DRD370V &lt;dbl&gt; |\n",
       "|---|---|---|---|---|---|---|---|---|---|---|---|---|---|---|---|---|---|---|---|---|\n",
       "| 1 |  31.96 | 250.36 |  27.24 |  9.40 |  9.00 |  6.40 |  46.55 |  7.41 |  2797.65 | ⋯ | NA |  2 | NA |  2 | NA |  2 | NA |  2 | NA |  2 |\n",
       "| 2 | 123.16 | 350.37 |  71.95 | 24.34 | 26.48 | 11.94 | 313.95 | 36.99 |  4323.62 | ⋯ | NA |  2 | NA |  2 | NA |  2 | NA |  2 | NA |  2 |\n",
       "| 3 |  40.19 | 233.63 |  49.94 | 15.61 | 19.57 | 11.84 |  86.22 | 11.16 |  5754.31 | ⋯ | NA | NA | NA | NA | NA | NA | NA | NA | NA | NA |\n",
       "| 4 |  56.16 | 191.03 |  56.20 | 27.54 | 20.13 |  4.67 | 194.78 |  5.45 |  1426.17 | ⋯ | NA |  2 | NA |  2 | NA |  2 | NA |  2 | NA |  2 |\n",
       "| 5 |  97.13 | 253.98 | 114.52 | 36.00 | 60.55 | 11.35 | 180.57 | 17.28 | 10292.63 | ⋯ | NA | NA | NA | NA | NA | NA | NA | NA | NA | NA |\n",
       "| 6 |  24.63 | 202.11 |  25.15 |  7.78 |  7.84 |  7.15 |  38.45 |  6.24 |  1394.76 | ⋯ | NA |  2 | NA |  2 | NA |  2 | NA |  2 | NA |  2 |\n",
       "\n"
      ],
      "text/plain": [
       "  SEQN DRXTPROT DRXTCARB DRXTTFAT DRXTSFAT DRXTMFAT DRXTPFAT DRXTCHOL DRXTFIBE\n",
       "1 1     31.96   250.36    27.24    9.40     9.00     6.40     46.55    7.41   \n",
       "2 2    123.16   350.37    71.95   24.34    26.48    11.94    313.95   36.99   \n",
       "3 3     40.19   233.63    49.94   15.61    19.57    11.84     86.22   11.16   \n",
       "4 4     56.16   191.03    56.20   27.54    20.13     4.67    194.78    5.45   \n",
       "5 5     97.13   253.98   114.52   36.00    60.55    11.35    180.57   17.28   \n",
       "6 6     24.63   202.11    25.15    7.78     7.84     7.15     38.45    6.24   \n",
       "  DRXTVAIU ⋯ DRQ370QQ DRD370R DRQ370RQ DRD370S DRQ370SQ DRD370T DRQ370TQ\n",
       "1  2797.65 ⋯ NA        2      NA        2      NA        2      NA      \n",
       "2  4323.62 ⋯ NA        2      NA        2      NA        2      NA      \n",
       "3  5754.31 ⋯ NA       NA      NA       NA      NA       NA      NA      \n",
       "4  1426.17 ⋯ NA        2      NA        2      NA        2      NA      \n",
       "5 10292.63 ⋯ NA       NA      NA       NA      NA       NA      NA      \n",
       "6  1394.76 ⋯ NA        2      NA        2      NA        2      NA      \n",
       "  DRD370U DRQ370UQ DRD370V\n",
       "1  2      NA        2     \n",
       "2  2      NA        2     \n",
       "3 NA      NA       NA     \n",
       "4  2      NA        2     \n",
       "5 NA      NA       NA     \n",
       "6  2      NA        2     "
      ]
     },
     "metadata": {},
     "output_type": "display_data"
    }
   ],
   "source": [
    "## DR1TOT_A Have different wate variable name, rename it\n",
    "tot_a <- read_xpt(\"Data/DR1TOT_A.xpt\")\n",
    "names(tot_a)[names(tot_a) == \"DRXTWATE\"] <- \"DRXTMOIS\"\n",
    "tot_a <- tot_a %>% \n",
    "            select(var_tot)\n",
    "head(tot_a)"
   ]
  },
  {
   "cell_type": "code",
   "execution_count": 53,
   "id": "cf96ea31-47a1-4cab-97f8-cd4ba33e7534",
   "metadata": {},
   "outputs": [
    {
     "data": {
      "text/html": [
       "<table class=\"dataframe\">\n",
       "<caption>A tibble: 6 × 121</caption>\n",
       "<thead>\n",
       "\t<tr><th scope=col>SEQN</th><th scope=col>DRXTPROT</th><th scope=col>DRXTCARB</th><th scope=col>DRXTTFAT</th><th scope=col>DRXTSFAT</th><th scope=col>DRXTMFAT</th><th scope=col>DRXTPFAT</th><th scope=col>DRXTCHOL</th><th scope=col>DRXTFIBE</th><th scope=col>DRXTVAIU</th><th scope=col>⋯</th><th scope=col>DRQ370QQ</th><th scope=col>DRD370R</th><th scope=col>DRQ370RQ</th><th scope=col>DRD370S</th><th scope=col>DRQ370SQ</th><th scope=col>DRD370T</th><th scope=col>DRQ370TQ</th><th scope=col>DRD370U</th><th scope=col>DRQ370UQ</th><th scope=col>DRD370V</th></tr>\n",
       "\t<tr><th scope=col>&lt;dbl&gt;</th><th scope=col>&lt;dbl&gt;</th><th scope=col>&lt;dbl&gt;</th><th scope=col>&lt;dbl&gt;</th><th scope=col>&lt;dbl&gt;</th><th scope=col>&lt;dbl&gt;</th><th scope=col>&lt;dbl&gt;</th><th scope=col>&lt;dbl&gt;</th><th scope=col>&lt;dbl&gt;</th><th scope=col>&lt;dbl&gt;</th><th scope=col>⋯</th><th scope=col>&lt;dbl&gt;</th><th scope=col>&lt;dbl&gt;</th><th scope=col>&lt;dbl&gt;</th><th scope=col>&lt;dbl&gt;</th><th scope=col>&lt;dbl&gt;</th><th scope=col>&lt;dbl&gt;</th><th scope=col>&lt;dbl&gt;</th><th scope=col>&lt;dbl&gt;</th><th scope=col>&lt;dbl&gt;</th><th scope=col>&lt;dbl&gt;</th></tr>\n",
       "</thead>\n",
       "<tbody>\n",
       "\t<tr><td>1</td><td> 31.96</td><td>250.36</td><td> 27.24</td><td> 9.40</td><td> 9.00</td><td> 6.40</td><td> 46.55</td><td> 7.41</td><td> 2797.65</td><td>⋯</td><td>NA</td><td> 2</td><td>NA</td><td> 2</td><td>NA</td><td> 2</td><td>NA</td><td> 2</td><td>NA</td><td> 2</td></tr>\n",
       "\t<tr><td>2</td><td>123.16</td><td>350.37</td><td> 71.95</td><td>24.34</td><td>26.48</td><td>11.94</td><td>313.95</td><td>36.99</td><td> 4323.62</td><td>⋯</td><td>NA</td><td> 2</td><td>NA</td><td> 2</td><td>NA</td><td> 2</td><td>NA</td><td> 2</td><td>NA</td><td> 2</td></tr>\n",
       "\t<tr><td>3</td><td> 40.19</td><td>233.63</td><td> 49.94</td><td>15.61</td><td>19.57</td><td>11.84</td><td> 86.22</td><td>11.16</td><td> 5754.31</td><td>⋯</td><td>NA</td><td>NA</td><td>NA</td><td>NA</td><td>NA</td><td>NA</td><td>NA</td><td>NA</td><td>NA</td><td>NA</td></tr>\n",
       "\t<tr><td>4</td><td> 56.16</td><td>191.03</td><td> 56.20</td><td>27.54</td><td>20.13</td><td> 4.67</td><td>194.78</td><td> 5.45</td><td> 1426.17</td><td>⋯</td><td>NA</td><td> 2</td><td>NA</td><td> 2</td><td>NA</td><td> 2</td><td>NA</td><td> 2</td><td>NA</td><td> 2</td></tr>\n",
       "\t<tr><td>5</td><td> 97.13</td><td>253.98</td><td>114.52</td><td>36.00</td><td>60.55</td><td>11.35</td><td>180.57</td><td>17.28</td><td>10292.63</td><td>⋯</td><td>NA</td><td>NA</td><td>NA</td><td>NA</td><td>NA</td><td>NA</td><td>NA</td><td>NA</td><td>NA</td><td>NA</td></tr>\n",
       "\t<tr><td>6</td><td> 24.63</td><td>202.11</td><td> 25.15</td><td> 7.78</td><td> 7.84</td><td> 7.15</td><td> 38.45</td><td> 6.24</td><td> 1394.76</td><td>⋯</td><td>NA</td><td> 2</td><td>NA</td><td> 2</td><td>NA</td><td> 2</td><td>NA</td><td> 2</td><td>NA</td><td> 2</td></tr>\n",
       "</tbody>\n",
       "</table>\n"
      ],
      "text/latex": [
       "A tibble: 6 × 121\n",
       "\\begin{tabular}{lllllllllllllllllllll}\n",
       " SEQN & DRXTPROT & DRXTCARB & DRXTTFAT & DRXTSFAT & DRXTMFAT & DRXTPFAT & DRXTCHOL & DRXTFIBE & DRXTVAIU & ⋯ & DRQ370QQ & DRD370R & DRQ370RQ & DRD370S & DRQ370SQ & DRD370T & DRQ370TQ & DRD370U & DRQ370UQ & DRD370V\\\\\n",
       " <dbl> & <dbl> & <dbl> & <dbl> & <dbl> & <dbl> & <dbl> & <dbl> & <dbl> & <dbl> & ⋯ & <dbl> & <dbl> & <dbl> & <dbl> & <dbl> & <dbl> & <dbl> & <dbl> & <dbl> & <dbl>\\\\\n",
       "\\hline\n",
       "\t 1 &  31.96 & 250.36 &  27.24 &  9.40 &  9.00 &  6.40 &  46.55 &  7.41 &  2797.65 & ⋯ & NA &  2 & NA &  2 & NA &  2 & NA &  2 & NA &  2\\\\\n",
       "\t 2 & 123.16 & 350.37 &  71.95 & 24.34 & 26.48 & 11.94 & 313.95 & 36.99 &  4323.62 & ⋯ & NA &  2 & NA &  2 & NA &  2 & NA &  2 & NA &  2\\\\\n",
       "\t 3 &  40.19 & 233.63 &  49.94 & 15.61 & 19.57 & 11.84 &  86.22 & 11.16 &  5754.31 & ⋯ & NA & NA & NA & NA & NA & NA & NA & NA & NA & NA\\\\\n",
       "\t 4 &  56.16 & 191.03 &  56.20 & 27.54 & 20.13 &  4.67 & 194.78 &  5.45 &  1426.17 & ⋯ & NA &  2 & NA &  2 & NA &  2 & NA &  2 & NA &  2\\\\\n",
       "\t 5 &  97.13 & 253.98 & 114.52 & 36.00 & 60.55 & 11.35 & 180.57 & 17.28 & 10292.63 & ⋯ & NA & NA & NA & NA & NA & NA & NA & NA & NA & NA\\\\\n",
       "\t 6 &  24.63 & 202.11 &  25.15 &  7.78 &  7.84 &  7.15 &  38.45 &  6.24 &  1394.76 & ⋯ & NA &  2 & NA &  2 & NA &  2 & NA &  2 & NA &  2\\\\\n",
       "\\end{tabular}\n"
      ],
      "text/markdown": [
       "\n",
       "A tibble: 6 × 121\n",
       "\n",
       "| SEQN &lt;dbl&gt; | DRXTPROT &lt;dbl&gt; | DRXTCARB &lt;dbl&gt; | DRXTTFAT &lt;dbl&gt; | DRXTSFAT &lt;dbl&gt; | DRXTMFAT &lt;dbl&gt; | DRXTPFAT &lt;dbl&gt; | DRXTCHOL &lt;dbl&gt; | DRXTFIBE &lt;dbl&gt; | DRXTVAIU &lt;dbl&gt; | ⋯ ⋯ | DRQ370QQ &lt;dbl&gt; | DRD370R &lt;dbl&gt; | DRQ370RQ &lt;dbl&gt; | DRD370S &lt;dbl&gt; | DRQ370SQ &lt;dbl&gt; | DRD370T &lt;dbl&gt; | DRQ370TQ &lt;dbl&gt; | DRD370U &lt;dbl&gt; | DRQ370UQ &lt;dbl&gt; | DRD370V &lt;dbl&gt; |\n",
       "|---|---|---|---|---|---|---|---|---|---|---|---|---|---|---|---|---|---|---|---|---|\n",
       "| 1 |  31.96 | 250.36 |  27.24 |  9.40 |  9.00 |  6.40 |  46.55 |  7.41 |  2797.65 | ⋯ | NA |  2 | NA |  2 | NA |  2 | NA |  2 | NA |  2 |\n",
       "| 2 | 123.16 | 350.37 |  71.95 | 24.34 | 26.48 | 11.94 | 313.95 | 36.99 |  4323.62 | ⋯ | NA |  2 | NA |  2 | NA |  2 | NA |  2 | NA |  2 |\n",
       "| 3 |  40.19 | 233.63 |  49.94 | 15.61 | 19.57 | 11.84 |  86.22 | 11.16 |  5754.31 | ⋯ | NA | NA | NA | NA | NA | NA | NA | NA | NA | NA |\n",
       "| 4 |  56.16 | 191.03 |  56.20 | 27.54 | 20.13 |  4.67 | 194.78 |  5.45 |  1426.17 | ⋯ | NA |  2 | NA |  2 | NA |  2 | NA |  2 | NA |  2 |\n",
       "| 5 |  97.13 | 253.98 | 114.52 | 36.00 | 60.55 | 11.35 | 180.57 | 17.28 | 10292.63 | ⋯ | NA | NA | NA | NA | NA | NA | NA | NA | NA | NA |\n",
       "| 6 |  24.63 | 202.11 |  25.15 |  7.78 |  7.84 |  7.15 |  38.45 |  6.24 |  1394.76 | ⋯ | NA |  2 | NA |  2 | NA |  2 | NA |  2 | NA |  2 |\n",
       "\n"
      ],
      "text/plain": [
       "  SEQN DRXTPROT DRXTCARB DRXTTFAT DRXTSFAT DRXTMFAT DRXTPFAT DRXTCHOL DRXTFIBE\n",
       "1 1     31.96   250.36    27.24    9.40     9.00     6.40     46.55    7.41   \n",
       "2 2    123.16   350.37    71.95   24.34    26.48    11.94    313.95   36.99   \n",
       "3 3     40.19   233.63    49.94   15.61    19.57    11.84     86.22   11.16   \n",
       "4 4     56.16   191.03    56.20   27.54    20.13     4.67    194.78    5.45   \n",
       "5 5     97.13   253.98   114.52   36.00    60.55    11.35    180.57   17.28   \n",
       "6 6     24.63   202.11    25.15    7.78     7.84     7.15     38.45    6.24   \n",
       "  DRXTVAIU ⋯ DRQ370QQ DRD370R DRQ370RQ DRD370S DRQ370SQ DRD370T DRQ370TQ\n",
       "1  2797.65 ⋯ NA        2      NA        2      NA        2      NA      \n",
       "2  4323.62 ⋯ NA        2      NA        2      NA        2      NA      \n",
       "3  5754.31 ⋯ NA       NA      NA       NA      NA       NA      NA      \n",
       "4  1426.17 ⋯ NA        2      NA        2      NA        2      NA      \n",
       "5 10292.63 ⋯ NA       NA      NA       NA      NA       NA      NA      \n",
       "6  1394.76 ⋯ NA        2      NA        2      NA        2      NA      \n",
       "  DRD370U DRQ370UQ DRD370V\n",
       "1  2      NA        2     \n",
       "2  2      NA        2     \n",
       "3 NA      NA       NA     \n",
       "4  2      NA        2     \n",
       "5 NA      NA       NA     \n",
       "6  2      NA        2     "
      ]
     },
     "metadata": {},
     "output_type": "display_data"
    }
   ],
   "source": [
    "folder_path <- \"Data/\" \n",
    "file_names <- paste0(\"DR1TOT_\", LETTERS[2:10], \".xpt\")  \n",
    "\n",
    "ds_diet <- tot_a \n",
    "\n",
    "for (file in file_names) {\n",
    "    file_path <- file.path(folder_path, file)  # Construct full file path\n",
    "    if (file.exists(file_path)) {  # Ensure the file exists before reading\n",
    "        temp_data <- read_xpt(file_path)  %>%  # Read the file\n",
    "                        select(any_of(var_tot)) # Select Variables\n",
    "        \n",
    "        ds_diet <- bind_rows(ds_diet, temp_data)  # Append data\n",
    "    } else {\n",
    "        message(paste(\"File not found:\", file))  # Notify if a file is missing\n",
    "    }\n",
    "}\n",
    "\n",
    "head(ds_diet)\n"
   ]
  },
  {
   "cell_type": "code",
   "execution_count": null,
   "id": "0ee1443a-7fcf-4632-abe5-029bfdcf5d81",
   "metadata": {},
   "outputs": [],
   "source": []
  }
 ],
 "metadata": {
  "kernelspec": {
   "display_name": "R",
   "language": "R",
   "name": "ir"
  },
  "language_info": {
   "codemirror_mode": "r",
   "file_extension": ".r",
   "mimetype": "text/x-r-source",
   "name": "R",
   "pygments_lexer": "r",
   "version": "4.4.2"
  }
 },
 "nbformat": 4,
 "nbformat_minor": 5
}
